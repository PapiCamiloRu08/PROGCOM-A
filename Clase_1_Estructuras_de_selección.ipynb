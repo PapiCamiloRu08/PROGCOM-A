{
  "nbformat": 4,
  "nbformat_minor": 0,
  "metadata": {
    "colab": {
      "provenance": [],
      "authorship_tag": "ABX9TyMlITcjcruie2I25EIQ2z2R",
      "include_colab_link": true
    },
    "kernelspec": {
      "name": "python3",
      "display_name": "Python 3"
    },
    "language_info": {
      "name": "python"
    }
  },
  "cells": [
    {
      "cell_type": "markdown",
      "metadata": {
        "id": "view-in-github",
        "colab_type": "text"
      },
      "source": [
        "<a href=\"https://colab.research.google.com/github/PapiCamiloRu08/PROGCOM-A/blob/main/Clase_1_Estructuras_de_selecci%C3%B3n.ipynb\" target=\"_parent\"><img src=\"https://colab.research.google.com/assets/colab-badge.svg\" alt=\"Open In Colab\"/></a>"
      ]
    },
    {
      "cell_type": "markdown",
      "source": [
        "##Estructura If - Else"
      ],
      "metadata": {
        "id": "n5sBpds_u48g"
      }
    },
    {
      "cell_type": "code",
      "execution_count": null,
      "metadata": {
        "colab": {
          "base_uri": "https://localhost:8080/"
        },
        "id": "IyRtDOCluxaM",
        "outputId": "effab5f6-a04b-4e29-f797-53043cdf0860"
      },
      "outputs": [
        {
          "output_type": "stream",
          "name": "stdout",
          "text": [
            "digite su variable: 7\n",
            "7 es un numero positivo\n"
          ]
        }
      ],
      "source": [
        "#Escribe un porgrama que reciba un umero e indique si es positivo\n",
        "n= int(input(\"digite su variable: \"))\n",
        "if n > 0:\n",
        "    print(f\"{n} es un numero positivo\")\n",
        "else:\n",
        "    print(f\"{n} No es un numero positivo\")"
      ]
    },
    {
      "cell_type": "markdown",
      "source": [
        "##Seleccion multiple If-elif-else\n",
        "\n",
        "\n",
        "\n",
        "```\n",
        "if (condicion1):\n",
        "    si se cumple condicion 1, entro aqui\n",
        "elif(condicion2):\n",
        "    si no se cumple coindicion1, pero se cumple condicion 2\n",
        "else:\n",
        "    si no se cumple ninguna de las anteriores\n",
        "```\n",
        "\n"
      ],
      "metadata": {
        "id": "SL5cUY7z0yBa"
      }
    },
    {
      "cell_type": "code",
      "source": [
        "n= int(input(\"digite su variable: \"))\n",
        "if n > 0:\n",
        "    print(f\"{n} es un numero positivo\")\n",
        "elif n <0:\n",
        "    print(f\"{n} No es un numero positivo\")\n",
        "else:\n",
        "    print(f\"{n} llorelo ppito este no sirve pq es cerok\")"
      ],
      "metadata": {
        "colab": {
          "base_uri": "https://localhost:8080/"
        },
        "id": "fwmexEJiwl4u",
        "outputId": "b1c7b945-1e23-4e77-9f4a-d7f7115cafc7"
      },
      "execution_count": null,
      "outputs": [
        {
          "output_type": "stream",
          "name": "stdout",
          "text": [
            "digite su variable: 7\n",
            "7 es un numero positivo\n"
          ]
        }
      ]
    },
    {
      "cell_type": "markdown",
      "source": [
        "##Operador terniario\n",
        "Se usa cuando hay una condicion  EVALUAR SIMPLE, Y SE DESEA RESOLVER EN UN LINEA DE CODIGO\n",
        "\n",
        "\n",
        "```\n",
        "(Valor de verdad V) if\n",
        "(condicion) else (valor de verdad F)\n",
        "```\n",
        "\n"
      ],
      "metadata": {
        "id": "hQtFYbfu2bWI"
      }
    },
    {
      "cell_type": "code",
      "source": [
        "a= f\"{n} es un numero positivo\" if n >= 0 else f\"{n} NO  es un numero positvo muajajajajajajaja\"\n",
        "print(a)"
      ],
      "metadata": {
        "colab": {
          "base_uri": "https://localhost:8080/"
        },
        "id": "Fbw9VVex2by5",
        "outputId": "2413de1a-3186-4523-ff5f-45810a912c24"
      },
      "execution_count": null,
      "outputs": [
        {
          "output_type": "stream",
          "name": "stdout",
          "text": [
            "7 es un numero positivo\n"
          ]
        }
      ]
    },
    {
      "cell_type": "code",
      "source": [
        "print(f\"{n} es un numero positivo\" if n >= 0 else f\"{n} NO  es un numero positvo muajajajajajajaja\")"
      ],
      "metadata": {
        "colab": {
          "base_uri": "https://localhost:8080/"
        },
        "id": "PX7IEGJg6_pM",
        "outputId": "c25ac62f-72a0-4777-b77b-18d709ee5736"
      },
      "execution_count": null,
      "outputs": [
        {
          "output_type": "stream",
          "name": "stdout",
          "text": [
            "7 es un numero positivo\n"
          ]
        }
      ]
    },
    {
      "cell_type": "code",
      "source": [
        "#.2\n",
        "n = int(input(\"Escriba su edad papitp: \"))\n",
        "if n > 21:\n",
        "    print(\"puedes irte de disco papi en todo lado\")\n",
        "elif n > 18:\n",
        "    print(\"maor d edad en colombi \")\n",
        "else:\n",
        "    print(\"llorelo chupon\")"
      ],
      "metadata": {
        "colab": {
          "base_uri": "https://localhost:8080/"
        },
        "id": "pK-VHfvd8UJC",
        "outputId": "952a9096-f7d0-4649-9b91-a2dc3f2ede95"
      },
      "execution_count": null,
      "outputs": [
        {
          "output_type": "stream",
          "name": "stdout",
          "text": [
            "Escriba su edad papitp: 22\n",
            "puedes irte de disco papi en todo lado\n"
          ]
        }
      ]
    },
    {
      "cell_type": "code",
      "source": [
        "#.3\n",
        "n= int(input(\"Escriba un numero papito: \"))\n",
        "m= int(input(\"Escriba otro numero papito: \"))\n",
        "if n > m:\n",
        "    print(n)\n",
        "else:\n",
        "    print(m)"
      ],
      "metadata": {
        "id": "dYM70NJX8VtD"
      },
      "execution_count": null,
      "outputs": []
    },
    {
      "cell_type": "code",
      "source": [
        "#.4\n",
        "nota= int(input(\"Escribe tu nota papi (0-100): \"))\n",
        "if nota >= 60:\n",
        "    print(\"AprobADO PAPITO LINDOOO\")\n",
        "else:\n",
        "    print(\"pailas papito lindo  KAJSKAJSKA\")"
      ],
      "metadata": {
        "id": "XC2hgRlD85aK"
      },
      "execution_count": null,
      "outputs": []
    },
    {
      "cell_type": "code",
      "source": [
        "#.5\n",
        "n= int(input(\"Escriba un numero papito: \"))\n",
        "if n % 2 == 0:\n",
        "    print(\"el numero es par\")\n",
        "else:\n",
        "    print(\"el numero es impar\")"
      ],
      "metadata": {
        "id": "Us7giOCR89Wq"
      },
      "execution_count": null,
      "outputs": []
    },
    {
      "cell_type": "code",
      "source": [
        "#.6\n",
        "n= int(input(\"Escriba un numero papito: \"))\n",
        "m= int(input(\"Escriba otro numero papito: \"))\n",
        "b= int(input(\"Escriba OTROOOOOOOOOOOOOOOOOOOOOOOOOOOO numero papito: \"))\n",
        "\n",
        "if n > m and n > b:\n",
        "    print(f\"El mayor NUEMRO ES: {n}\")\n",
        "elif m > n and m > b:\n",
        "    print(f\"El mayor NUMERO ESSSSSSSS: {m}\")\n",
        "else:\n",
        "    print(f\"El mayoR NUMERO ESS: {b}\")"
      ],
      "metadata": {
        "colab": {
          "base_uri": "https://localhost:8080/"
        },
        "id": "CGEfyUYA9GSr",
        "outputId": "0d7c0c87-a345-4177-96c7-e86ade0b2216"
      },
      "execution_count": null,
      "outputs": [
        {
          "output_type": "stream",
          "name": "stdout",
          "text": [
            "Escriba un numero papito: 2\n",
            "Escriba otro numero papito: 5\n",
            "Escriba OTROOOOOOOOOOOOOOOOOOOOOOOOOOOO numero papito: 4\n",
            "El mayor NUMERO ESSSSSSSS: 5\n"
          ]
        }
      ]
    },
    {
      "cell_type": "code",
      "source": [
        "#.7\n",
        "año= int(input(\"dime tu año papi: \"))\n",
        "if año % 400 == 0:\n",
        "    print(\"bisiessstso\")\n",
        "elif año % 100 == 0:\n",
        "    print(\"lloreloooooo, no es bisiesto\")\n",
        "elif año % 4 == 0:\n",
        "    print(\"vamo bien muchacho\")\n",
        "else:\n",
        "    print(\"lloreloooooo, no es bisNIeto jaj\")"
      ],
      "metadata": {
        "colab": {
          "base_uri": "https://localhost:8080/"
        },
        "id": "I8F1j4y7_Hc4",
        "outputId": "55a03a0b-56e5-42be-ce65-e72f681fe789"
      },
      "execution_count": 4,
      "outputs": [
        {
          "output_type": "stream",
          "name": "stdout",
          "text": [
            "dime tu año papi: 2029\n",
            "lloreloooooo, no es bisNIeto jaj\n"
          ]
        }
      ]
    },
    {
      "cell_type": "code",
      "source": [
        "#.8\n",
        "contra = input(\"Ingrese su contraseña: \")\n",
        "\n",
        "if len(contra) <= 8:\n",
        "    print(\"La contraseña debe tener MAAAAS de 8 caracteres\")\n",
        "elif not any(caracter.isdigit() for caracter in contra):\n",
        "    print(\"La contraseña debe contener al menos un numeritoo jaja\")\n",
        "elif not any(caracter.isupper() for caracter in contra):\n",
        "    print(\"La contraseña debe contener al menos una letra mayusculaaaaaaaaaaaa \")\n",
        "else:\n",
        "    print(\"ContraseñaACEPTADA\")"
      ],
      "metadata": {
        "id": "kNcl9fcXEOXk",
        "colab": {
          "base_uri": "https://localhost:8080/"
        },
        "outputId": "57fffc4f-4641-48a5-9154-73a37c3e82d1"
      },
      "execution_count": 44,
      "outputs": [
        {
          "output_type": "stream",
          "name": "stdout",
          "text": [
            "Ingrese su contraseña: 1Holaprofecomoestas\n",
            "ContraseñaACEPTADA\n"
          ]
        }
      ]
    },
    {
      "cell_type": "code",
      "source": [
        "#.9\n",
        "n= int(input(\"Escriba un numero papito: \"))\n",
        "if n % 3 == 0 and n % 5 == 0:\n",
        "    print(\"FizzBuzz, jaja\")\n",
        "elif n % 5 == 0:\n",
        "    print(\"Buzz, ajja\")\n",
        "elif n % 3 == 0:\n",
        "    print(\"Fizz, jaja\")\n",
        "else:\n",
        "    print(f\"{n}= llorelo jaja\")"
      ],
      "metadata": {
        "colab": {
          "base_uri": "https://localhost:8080/"
        },
        "id": "11p3DXqbD21v",
        "outputId": "60bfeb74-506d-4f92-d481-ea4a86e204ee"
      },
      "execution_count": 27,
      "outputs": [
        {
          "output_type": "stream",
          "name": "stdout",
          "text": [
            "Escriba un numero papito: 15\n",
            "FizzBuzz, jaja\n"
          ]
        }
      ]
    },
    {
      "cell_type": "code",
      "source": [
        "#.10\n",
        "print(\"Somos el banco , jjaja\")\n",
        "saldito= float(input(\"cuanta plata has ahorrado en toda tu vida: \"))\n",
        "plataperdida= float(input(\"cuanto dinero deseas gastarte hoy jaja: \"))\n",
        "if plataperdida <= saldito:\n",
        "    print(f\"yupi!, sacaste {plataperdida}, perdste todos tus ahorros jaja\")\n",
        "elif plataperdida > saldito:\n",
        "    print(\"es que me va robar o que piro'\")\n"
      ],
      "metadata": {
        "colab": {
          "base_uri": "https://localhost:8080/"
        },
        "id": "scC0IGqKHVaW",
        "outputId": "8d4073ea-0f76-41a4-c4dd-c161ee5a2907"
      },
      "execution_count": 39,
      "outputs": [
        {
          "output_type": "stream",
          "name": "stdout",
          "text": [
            "Somos el banco , jjaja\n",
            "cuanta plata has ahorrado en toda tu vida: 50.555\n",
            "cuanto dinero deseas gastarte hoy jaja: 50.556\n",
            "es que me va robar o que piro'\n"
          ]
        }
      ]
    }
  ]
}