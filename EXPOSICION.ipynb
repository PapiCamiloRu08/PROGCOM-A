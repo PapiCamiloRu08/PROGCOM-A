{
  "nbformat": 4,
  "nbformat_minor": 0,
  "metadata": {
    "colab": {
      "provenance": [],
      "include_colab_link": true
    },
    "kernelspec": {
      "name": "python3",
      "display_name": "Python 3"
    },
    "language_info": {
      "name": "python"
    }
  },
  "cells": [
    {
      "cell_type": "markdown",
      "metadata": {
        "id": "view-in-github",
        "colab_type": "text"
      },
      "source": [
        "<a href=\"https://colab.research.google.com/github/PapiCamiloRu08/PROGCOM-A/blob/main/EXPOSICION.ipynb\" target=\"_parent\"><img src=\"https://colab.research.google.com/assets/colab-badge.svg\" alt=\"Open In Colab\"/></a>"
      ]
    },
    {
      "cell_type": "markdown",
      "source": [
        "#Mutabilidad e Inmmutabilidad\n",
        "Mutabilidad"
      ],
      "metadata": {
        "id": "NRyK9b3nd7ia"
      }
    },
    {
      "cell_type": "code",
      "execution_count": null,
      "metadata": {
        "colab": {
          "base_uri": "https://localhost:8080/"
        },
        "id": "w96MfaOCd4Rj",
        "outputId": "a432b0c8-f533-446f-d1b7-7641911bd59b"
      },
      "outputs": [
        {
          "output_type": "stream",
          "name": "stdout",
          "text": [
            "['perrito caliente', 3, 'salsa picante', 69]\n"
          ]
        }
      ],
      "source": [
        "#Ej 1 (LISTAS)\n",
        "lista = [1, 2, 3, \"salchipapa\"]\n",
        "print(lista)\n"
      ]
    },
    {
      "cell_type": "code",
      "source": [
        "#Ej 2 (DICCIONARIOS)\n",
        "persona = {\"nombre\": \"Ana\", \"edad\": 20}\n",
        "print(persona)\n",
        "\n",
        "persona[\"edad\"] = 21\n",
        "print(persona)\n",
        "\n",
        "persona[\"ciudad\"] = \"Bogotá\"\n",
        "print(persona)\n",
        "\n",
        "persona[\"estura\"] = 1,74\n",
        "print(persona)"
      ],
      "metadata": {
        "colab": {
          "base_uri": "https://localhost:8080/"
        },
        "id": "2B_TYwdFePsC",
        "outputId": "6eb9d06a-6d31-41c2-d2a6-8a9cdf2c570b"
      },
      "execution_count": null,
      "outputs": [
        {
          "output_type": "stream",
          "name": "stdout",
          "text": [
            "{'nombre': 'Ana', 'edad': 20}\n",
            "{'nombre': 'Ana', 'edad': 21}\n",
            "{'nombre': 'Ana', 'edad': 21, 'ciudad': 'Bogotá'}\n",
            "{'nombre': 'Ana', 'edad': 21, 'ciudad': 'Bogotá', 'estura': (1, 74)}\n"
          ]
        }
      ]
    },
    {
      "cell_type": "code",
      "source": [
        "#Ej 3 (CONJUNTOS)\n",
        "s1 = {1, 2, 3}\n",
        "s2 = s1\n",
        "s3 =  s2\n",
        "\n",
        "s1.add(5)\n",
        "print(s1, s2, s3)"
      ],
      "metadata": {
        "colab": {
          "base_uri": "https://localhost:8080/"
        },
        "id": "N2RaVOMNhmsN",
        "outputId": "d3689b07-a3bf-4518-b20a-e9a47b96e1e3"
      },
      "execution_count": null,
      "outputs": [
        {
          "output_type": "stream",
          "name": "stdout",
          "text": [
            "{1, 2, 3, 5} {1, 2, 3, 5} {1, 2, 3, 5}\n"
          ]
        }
      ]
    },
    {
      "cell_type": "markdown",
      "source": [
        "Inmutabilidad"
      ],
      "metadata": {
        "id": "uDONdzNo4MI0"
      }
    },
    {
      "cell_type": "code",
      "source": [
        "#Ej 1 (TUPLA)\n",
        "tupla = (1, 2, 3)\n",
        "tupla.append(7)"
      ],
      "metadata": {
        "id": "RalYCJOO4RBm"
      },
      "execution_count": 3,
      "outputs": []
    },
    {
      "cell_type": "code",
      "source": [
        "nueva=(1,2,3,7)\n",
        "nueva"
      ],
      "metadata": {
        "colab": {
          "base_uri": "https://localhost:8080/"
        },
        "id": "yRG5kCXz_NKv",
        "outputId": "026d98c0-b726-463d-97ef-861a8e4923ba"
      },
      "execution_count": 14,
      "outputs": [
        {
          "output_type": "execute_result",
          "data": {
            "text/plain": [
              "(1, 2, 3, 7)"
            ]
          },
          "metadata": {},
          "execution_count": 14
        }
      ]
    },
    {
      "cell_type": "code",
      "source": [
        "#Ej 2 (CADENAS STR)\n",
        "texto = \"hola\"\n",
        "texto[0] = \"H\"\n"
      ],
      "metadata": {
        "id": "h_CdTaJI5soM"
      },
      "execution_count": 9,
      "outputs": []
    },
    {
      "cell_type": "code",
      "source": [
        "nueva = \"H\" + texto[1:]\n",
        "print(nueva)"
      ],
      "metadata": {
        "colab": {
          "base_uri": "https://localhost:8080/"
        },
        "id": "wiW29Y-4-Os3",
        "outputId": "baf885d3-248e-4a24-8ffa-023340a55bb7"
      },
      "execution_count": 11,
      "outputs": [
        {
          "output_type": "stream",
          "name": "stdout",
          "text": [
            "Hola\n"
          ]
        }
      ]
    },
    {
      "cell_type": "code",
      "source": [
        "#Ej 3 (FROZENSET)\n",
        "conjunto = frozenset([1, 2, 3])\n",
        "conjunto.add(4)"
      ],
      "metadata": {
        "id": "YoDaJ6up_cQJ"
      },
      "execution_count": 31,
      "outputs": []
    },
    {
      "cell_type": "code",
      "source": [
        "#Ej 5 (int)\n",
        "x1 = 5\n",
        "x1 = 6\n",
        "print(\"Número original:\", x1)\n",
        "\n"
      ],
      "metadata": {
        "colab": {
          "base_uri": "https://localhost:8080/"
        },
        "id": "vFz2KfRHAnVy",
        "outputId": "8e7a7fda-368e-4022-fa43-5f7e26a7394f"
      },
      "execution_count": 27,
      "outputs": [
        {
          "output_type": "stream",
          "name": "stdout",
          "text": [
            "Número original: 6\n"
          ]
        }
      ]
    },
    {
      "cell_type": "code",
      "source": [
        "x = x + 1\n",
        "print(\"Nuevo valor de x:\", x)"
      ],
      "metadata": {
        "id": "IalPjyk1Awp_"
      },
      "execution_count": null,
      "outputs": []
    }
  ]
}