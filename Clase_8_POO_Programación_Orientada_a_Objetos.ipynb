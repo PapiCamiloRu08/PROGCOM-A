{
  "nbformat": 4,
  "nbformat_minor": 0,
  "metadata": {
    "colab": {
      "provenance": [],
      "authorship_tag": "ABX9TyOcNEBFLybKX9nVc1kd/IyQ",
      "include_colab_link": true
    },
    "kernelspec": {
      "name": "python3",
      "display_name": "Python 3"
    },
    "language_info": {
      "name": "python"
    }
  },
  "cells": [
    {
      "cell_type": "markdown",
      "metadata": {
        "id": "view-in-github",
        "colab_type": "text"
      },
      "source": [
        "<a href=\"https://colab.research.google.com/github/PapiCamiloRu08/PROGCOM-A/blob/main/Clase_8_POO_Programaci%C3%B3n_Orientada_a_Objetos.ipynb\" target=\"_parent\"><img src=\"https://colab.research.google.com/assets/colab-badge.svg\" alt=\"Open In Colab\"/></a>"
      ]
    },
    {
      "cell_type": "code",
      "execution_count": 82,
      "metadata": {
        "colab": {
          "base_uri": "https://localhost:8080/"
        },
        "id": "tPQvfeX6Ln5T",
        "outputId": "e632bc71-18d9-46cd-c421-57166f22da82"
      },
      "outputs": [
        {
          "output_type": "execute_result",
          "data": {
            "text/plain": [
              "['dahlia', 'clavel', 'girasol']"
            ]
          },
          "metadata": {},
          "execution_count": 82
        }
      ],
      "source": [
        "#Florsiteria\n",
        "#1. Conjunto de flores, se elige aleatoriamente una cantodad\n",
        "import random\n",
        "\n",
        "flores=[\"tulipanes\", \"lirio\",\"rosa\",\"dahlia\",\"margarita\",\"girasol\",\"clavel\",\"geranio\"]\n",
        "seleccion=random.sample(flores,3)\n",
        "seleccion"
      ]
    },
    {
      "cell_type": "code",
      "source": [
        "def inventario():\n",
        "    flores=[\"tulipanes\", \"lirio\",\"rosa\",\"dahlia\",\"margarita\",\"girasol\",\"clavel\",\"geranio\"]\n",
        "    seleccion=random.sample(flores,3)\n",
        "\n",
        "    inventario={\n",
        "        flor:{\n",
        "            \"precio\":random.randint(2000,6000),\n",
        "            \"cantidad\":random.randint(10,50),\n",
        "            \"vendidas\":0\n",
        "        } for flor in seleccion\n",
        "        }\n",
        "    return inventario"
      ],
      "metadata": {
        "id": "ul-hgs02O6jy"
      },
      "execution_count": 83,
      "outputs": []
    },
    {
      "cell_type": "code",
      "source": [
        "inventario()\n"
      ],
      "metadata": {
        "colab": {
          "base_uri": "https://localhost:8080/"
        },
        "id": "ufhwfNuiQrwA",
        "outputId": "0f95619d-50f6-460f-8ba3-a02016525a48"
      },
      "execution_count": 84,
      "outputs": [
        {
          "output_type": "execute_result",
          "data": {
            "text/plain": [
              "{'girasol': {'precio': 2925, 'cantidad': 10, 'vendidas': 0},\n",
              " 'margarita': {'precio': 5712, 'cantidad': 31, 'vendidas': 0},\n",
              " 'dahlia': {'precio': 4523, 'cantidad': 19, 'vendidas': 0}}"
            ]
          },
          "metadata": {},
          "execution_count": 84
        }
      ]
    },
    {
      "cell_type": "code",
      "source": [
        "def menu(inventario):\n",
        "    print(\"------------Menú de flores disponibles Floristeria Carlitos----------\")\n",
        "    for flor,datos in inventario.items():\n",
        "        print(f\"+{flor}: ${datos['precio']} cant: {datos['cantidad']} disponibles\")\n",
        "    print(\"---------------------------------------------------------------------\")\n"
      ],
      "metadata": {
        "id": "6OZu0EzyRiOI"
      },
      "execution_count": 85,
      "outputs": []
    },
    {
      "cell_type": "code",
      "source": [
        "menu(inventario())"
      ],
      "metadata": {
        "colab": {
          "base_uri": "https://localhost:8080/"
        },
        "id": "_WT-XFZyTrhv",
        "outputId": "69cbd289-dc98-4478-f54b-276660e1b81f"
      },
      "execution_count": 86,
      "outputs": [
        {
          "output_type": "stream",
          "name": "stdout",
          "text": [
            "------------Menú de flores disponibles Floristeria Carlitos----------\n",
            "+dahlia: $5083 cant: 44 disponibles\n",
            "+lirio: $5276 cant: 36 disponibles\n",
            "+girasol: $2666 cant: 19 disponibles\n",
            "---------------------------------------------------------------------\n"
          ]
        }
      ]
    },
    {
      "cell_type": "code",
      "source": [
        "from functools import total_ordering\n",
        "def ventas(inventario,flor,cantidad,total_ganado):\n",
        "  if flor not in inventario:\n",
        "    print(f\"{flor}no se encuentra a la venta\")\n",
        "    return total_ganado\n",
        "  datos=inventario[flor]\n",
        "  if cantidad>datos[\"cantidad\"]:\n",
        "    print(f\"lo siento no tenemos la cantidad requerida\")\n",
        "    return total_ganado\n",
        "\n",
        "  #realizando venta\n",
        "  datos[\"cantidad\"]-=cantidad\n",
        "  datos[\"ventas\"]+=cantidad\n",
        "  total_ganado+=ventas\n",
        "  print(f\"vendidas: {cantidad} de {flor} por un total de $ {ventas}\")\n",
        "\n",
        "  #si se acaba eliminamos la flor\n",
        "  if datos[\"cantidad\"]==0:\n",
        "    print(f\"{flor}ha sido eliminado del inventario\")\n",
        "    del inventario[flor]\n",
        "  return total_ganado"
      ],
      "metadata": {
        "id": "TI4dQ0ATVI-c"
      },
      "execution_count": 88,
      "outputs": []
    },
    {
      "cell_type": "code",
      "source": [
        "def cerrar_tienda(inventario_inicial,total_ganado,inventario_final):\n",
        "    print(\"\\n---Tienda Cerrada---\")\n",
        "    #Combinar el inventario incial con el fisanl para saber cuales e vendieron\n",
        "    flores_vendidas={}\n",
        "    for flor,datos in inventario_inicial.items():\n",
        "        cantidad_final=inventario_final.get(flor,{\"cantidad\":0})[\"cantidad\"]\n",
        "        vendidas=datos[\"cantidad\"]-cantidad_final\n",
        "        flores_vendidas[flor]=vendidas\n",
        "\n",
        "        #Determinar cuales fueron las mas vendidas\n",
        "        mas_vendidas=max(flores_vendidas,key=flores_vendidas.get)\n",
        "        menos_vendidas=min(flores_vendidas,key=flores_vendidas.get)\n",
        "\n",
        "        print(f\"la flor mas venida es {mas_vendidas}:{flores_vendidas[mas_vendidas]} unidades \")\n",
        "        print(f\"lamenos vendidas fue {menos_vendidas} :{flores_vendidas[menos_vendidas]}\")"
      ],
      "metadata": {
        "id": "haoTYzBmZ2t6"
      },
      "execution_count": 89,
      "outputs": []
    },
    {
      "cell_type": "code",
      "source": [
        "total_ganado=0\n",
        "total_ganado=ventas(flor, \"rosa\" ,10, total_ganado)\n",
        "total_ganado=ventas(flor,\"clavel\",18, total_ganado)\n",
        "total_ganado=ventas(flor,\"margarita\",80, total_ganado)"
      ],
      "metadata": {
        "colab": {
          "base_uri": "https://localhost:8080/",
          "height": 193
        },
        "id": "O7LgDfL6dr9v",
        "outputId": "5e90104d-c992-443d-f564-0bc62a4c15c8"
      },
      "execution_count": 81,
      "outputs": [
        {
          "output_type": "error",
          "ename": "NameError",
          "evalue": "name 'flor' is not defined",
          "traceback": [
            "\u001b[0;31m---------------------------------------------------------------------------\u001b[0m",
            "\u001b[0;31mNameError\u001b[0m                                 Traceback (most recent call last)",
            "\u001b[0;32m/tmp/ipython-input-2852417602.py\u001b[0m in \u001b[0;36m<cell line: 0>\u001b[0;34m()\u001b[0m\n\u001b[1;32m      1\u001b[0m \u001b[0mtotal_ganado\u001b[0m\u001b[0;34m=\u001b[0m\u001b[0;36m0\u001b[0m\u001b[0;34m\u001b[0m\u001b[0;34m\u001b[0m\u001b[0m\n\u001b[0;32m----> 2\u001b[0;31m \u001b[0mtotal_ganado\u001b[0m\u001b[0;34m=\u001b[0m\u001b[0mventas\u001b[0m\u001b[0;34m(\u001b[0m\u001b[0mflor\u001b[0m\u001b[0;34m,\u001b[0m \u001b[0;34m\"rosa\"\u001b[0m \u001b[0;34m,\u001b[0m\u001b[0;36m10\u001b[0m\u001b[0;34m,\u001b[0m \u001b[0mtotal_ganado\u001b[0m\u001b[0;34m)\u001b[0m\u001b[0;34m\u001b[0m\u001b[0;34m\u001b[0m\u001b[0m\n\u001b[0m\u001b[1;32m      3\u001b[0m \u001b[0mtotal_ganado\u001b[0m\u001b[0;34m=\u001b[0m\u001b[0mventas\u001b[0m\u001b[0;34m(\u001b[0m\u001b[0mflor\u001b[0m\u001b[0;34m,\u001b[0m\u001b[0;34m\"clavel\"\u001b[0m\u001b[0;34m,\u001b[0m\u001b[0;36m18\u001b[0m\u001b[0;34m,\u001b[0m \u001b[0mtotal_ganado\u001b[0m\u001b[0;34m)\u001b[0m\u001b[0;34m\u001b[0m\u001b[0;34m\u001b[0m\u001b[0m\n\u001b[1;32m      4\u001b[0m \u001b[0mtotal_ganado\u001b[0m\u001b[0;34m=\u001b[0m\u001b[0mventas\u001b[0m\u001b[0;34m(\u001b[0m\u001b[0mflor\u001b[0m\u001b[0;34m,\u001b[0m\u001b[0;34m\"margarita\"\u001b[0m\u001b[0;34m,\u001b[0m\u001b[0;36m80\u001b[0m\u001b[0;34m,\u001b[0m \u001b[0mtotal_ganado\u001b[0m\u001b[0;34m)\u001b[0m\u001b[0;34m\u001b[0m\u001b[0;34m\u001b[0m\u001b[0m\n",
            "\u001b[0;31mNameError\u001b[0m: name 'flor' is not defined"
          ]
        }
      ]
    }
  ]
}