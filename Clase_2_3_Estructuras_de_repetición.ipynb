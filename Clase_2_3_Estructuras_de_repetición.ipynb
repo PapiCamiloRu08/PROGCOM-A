{
  "nbformat": 4,
  "nbformat_minor": 0,
  "metadata": {
    "colab": {
      "provenance": [],
      "authorship_tag": "ABX9TyMxwk1qXnsRl0l0p7+BfIVD",
      "include_colab_link": true
    },
    "kernelspec": {
      "name": "python3",
      "display_name": "Python 3"
    },
    "language_info": {
      "name": "python"
    }
  },
  "cells": [
    {
      "cell_type": "markdown",
      "metadata": {
        "id": "view-in-github",
        "colab_type": "text"
      },
      "source": [
        "<a href=\"https://colab.research.google.com/github/PapiCamiloRu08/PROGCOM-A/blob/main/Clase_2_3_Estructuras_de_repetici%C3%B3n.ipynb\" target=\"_parent\"><img src=\"https://colab.research.google.com/assets/colab-badge.svg\" alt=\"Open In Colab\"/></a>"
      ]
    },
    {
      "cell_type": "markdown",
      "source": [
        "##Estrcuturas de repetición\n",
        "Permite repetir una o mas accciones de aucerdo a una condicion"
      ],
      "metadata": {
        "id": "EpeVOVxwQmXO"
      }
    },
    {
      "cell_type": "markdown",
      "source": [
        "##Estrucutura para - for\n",
        "\n",
        "1. Cuand se sabe cuántas veces se repite una accion.\n",
        "2. Está conformado por una condicion inicial (CI) una condicion final (CF) y pasos (frecuencia de repeticion).\n",
        "3. Esta esctrucutra no se detendrá, hasta alcnazar CF-1\n",
        "\n",
        "ESTRCTURA GENERAL DEL (FOR)\n",
        "\n",
        "```\n",
        "for(variable) in range(CI,CF+1,paso):\n",
        "    Se repite (CF+1-CI)/paso veces una acción.\n",
        "\n",
        "```\n",
        "\n",
        "ESTRCUTURA RESUMIDA DEL (FOR)\n",
        "```\n",
        "for(variable) in range(cantidad):\n",
        "    Se repite cantidad veces una acción.\n",
        "\n",
        "```\n",
        "ETRCUTURA (FOR) COMO INTERACION\n",
        "1. El para (for) itera tantas veces, como leementos tenga la lista\n",
        "2. La variable toma el valor de cada elemento de la lista por intreracion\n",
        "\n",
        "\n",
        "```\n",
        "Lista =[1,2,3,4,5]\n",
        "    Se repite len(Lista)\n",
        "```\n",
        "\n"
      ],
      "metadata": {
        "id": "uv7elYcvREAf"
      }
    },
    {
      "cell_type": "code",
      "execution_count": null,
      "metadata": {
        "id": "lZ5CvtvVKt9Y",
        "colab": {
          "base_uri": "https://localhost:8080/"
        },
        "outputId": "3d1c7d57-6c16-44e7-a74a-6e247dc40322"
      },
      "outputs": [
        {
          "output_type": "stream",
          "name": "stdout",
          "text": [
            "Digite su numero: 1\n",
            "Tabla del 1\n",
            "1 x 1 = 1\n",
            "2 x 2 = 2\n",
            "3 x 3 = 3\n",
            "4 x 4 = 4\n",
            "5 x 5 = 5\n",
            "6 x 6 = 6\n",
            "7 x 7 = 7\n",
            "8 x 8 = 8\n",
            "9 x 9 = 9\n",
            "10 x 10 = 10\n"
          ]
        }
      ],
      "source": [
        "#Hcaer la tabla de multiplicar del numero (n)\n",
        "n= int(input(\"Digite su numero: \"))\n",
        "print(f\"Tabla del {n}\")\n",
        "for(numeritos) in range(1,11,1):\n",
        "    print(f\"{numeritos} x {numeritos} = {n*numeritos}\")\n",
        "\n"
      ]
    },
    {
      "cell_type": "code",
      "source": [
        "\n",
        "print(\"Tabla del 1 - 10\\n\")\n",
        "print(\"\")\n",
        "for tabla in range(1,11):\n",
        "    print(f\"Tabla del {tabla}\")\n",
        "    for numero in range(1,11):\n",
        "        print(f\" {tabla} x {numero} = {tabla*numero}\")\n",
        "print(\"\")"
      ],
      "metadata": {
        "colab": {
          "base_uri": "https://localhost:8080/"
        },
        "id": "g7EVGkGZVEwq",
        "outputId": "b9fec7b8-ca34-4ba8-e01c-8a01c6ca02bd"
      },
      "execution_count": null,
      "outputs": [
        {
          "output_type": "stream",
          "name": "stdout",
          "text": [
            "Tabla del 1 - 10\n",
            "\n",
            "\n",
            "Tabla del 1\n",
            " 1 x 1 = 1\n",
            " 1 x 2 = 2\n",
            " 1 x 3 = 3\n",
            " 1 x 4 = 4\n",
            " 1 x 5 = 5\n",
            " 1 x 6 = 6\n",
            " 1 x 7 = 7\n",
            " 1 x 8 = 8\n",
            " 1 x 9 = 9\n",
            " 1 x 10 = 10\n",
            "Tabla del 2\n",
            " 2 x 1 = 2\n",
            " 2 x 2 = 4\n",
            " 2 x 3 = 6\n",
            " 2 x 4 = 8\n",
            " 2 x 5 = 10\n",
            " 2 x 6 = 12\n",
            " 2 x 7 = 14\n",
            " 2 x 8 = 16\n",
            " 2 x 9 = 18\n",
            " 2 x 10 = 20\n",
            "Tabla del 3\n",
            " 3 x 1 = 3\n",
            " 3 x 2 = 6\n",
            " 3 x 3 = 9\n",
            " 3 x 4 = 12\n",
            " 3 x 5 = 15\n",
            " 3 x 6 = 18\n",
            " 3 x 7 = 21\n",
            " 3 x 8 = 24\n",
            " 3 x 9 = 27\n",
            " 3 x 10 = 30\n",
            "Tabla del 4\n",
            " 4 x 1 = 4\n",
            " 4 x 2 = 8\n",
            " 4 x 3 = 12\n",
            " 4 x 4 = 16\n",
            " 4 x 5 = 20\n",
            " 4 x 6 = 24\n",
            " 4 x 7 = 28\n",
            " 4 x 8 = 32\n",
            " 4 x 9 = 36\n",
            " 4 x 10 = 40\n",
            "Tabla del 5\n",
            " 5 x 1 = 5\n",
            " 5 x 2 = 10\n",
            " 5 x 3 = 15\n",
            " 5 x 4 = 20\n",
            " 5 x 5 = 25\n",
            " 5 x 6 = 30\n",
            " 5 x 7 = 35\n",
            " 5 x 8 = 40\n",
            " 5 x 9 = 45\n",
            " 5 x 10 = 50\n",
            "Tabla del 6\n",
            " 6 x 1 = 6\n",
            " 6 x 2 = 12\n",
            " 6 x 3 = 18\n",
            " 6 x 4 = 24\n",
            " 6 x 5 = 30\n",
            " 6 x 6 = 36\n",
            " 6 x 7 = 42\n",
            " 6 x 8 = 48\n",
            " 6 x 9 = 54\n",
            " 6 x 10 = 60\n",
            "Tabla del 7\n",
            " 7 x 1 = 7\n",
            " 7 x 2 = 14\n",
            " 7 x 3 = 21\n",
            " 7 x 4 = 28\n",
            " 7 x 5 = 35\n",
            " 7 x 6 = 42\n",
            " 7 x 7 = 49\n",
            " 7 x 8 = 56\n",
            " 7 x 9 = 63\n",
            " 7 x 10 = 70\n",
            "Tabla del 8\n",
            " 8 x 1 = 8\n",
            " 8 x 2 = 16\n",
            " 8 x 3 = 24\n",
            " 8 x 4 = 32\n",
            " 8 x 5 = 40\n",
            " 8 x 6 = 48\n",
            " 8 x 7 = 56\n",
            " 8 x 8 = 64\n",
            " 8 x 9 = 72\n",
            " 8 x 10 = 80\n",
            "Tabla del 9\n",
            " 9 x 1 = 9\n",
            " 9 x 2 = 18\n",
            " 9 x 3 = 27\n",
            " 9 x 4 = 36\n",
            " 9 x 5 = 45\n",
            " 9 x 6 = 54\n",
            " 9 x 7 = 63\n",
            " 9 x 8 = 72\n",
            " 9 x 9 = 81\n",
            " 9 x 10 = 90\n",
            "Tabla del 10\n",
            " 10 x 1 = 10\n",
            " 10 x 2 = 20\n",
            " 10 x 3 = 30\n",
            " 10 x 4 = 40\n",
            " 10 x 5 = 50\n",
            " 10 x 6 = 60\n",
            " 10 x 7 = 70\n",
            " 10 x 8 = 80\n",
            " 10 x 9 = 90\n",
            " 10 x 10 = 100\n",
            "\n"
          ]
        }
      ]
    },
    {
      "cell_type": "code",
      "source": [
        "print(f\"Tbalas del {n}\")\n",
        "for holitas in range(10):\n",
        "    print(f\"{n} x {holitas+1} = {n*(holitas+1)}\")"
      ],
      "metadata": {
        "colab": {
          "base_uri": "https://localhost:8080/"
        },
        "id": "7mWgc48KYSFf",
        "outputId": "3d1e0f17-c604-4647-cfcc-581c226f17e9"
      },
      "execution_count": null,
      "outputs": [
        {
          "output_type": "stream",
          "name": "stdout",
          "text": [
            "Tbalas del 1\n",
            "1 x 1 = 1\n",
            "1 x 2 = 2\n",
            "1 x 3 = 3\n",
            "1 x 4 = 4\n",
            "1 x 5 = 5\n",
            "1 x 6 = 6\n",
            "1 x 7 = 7\n",
            "1 x 8 = 8\n",
            "1 x 9 = 9\n",
            "1 x 10 = 10\n"
          ]
        }
      ]
    },
    {
      "cell_type": "code",
      "source": [
        "n= int(input(\"Digite su numero: \"))\n",
        "print(f\"Tabla del {n}\")\n",
        "for(numeritos) in range(1,11*n,n):\n",
        "    print(f\"{n} x {int(numeritos/n)} = {(n)*(int(numeritos/n))}\")\n",
        "\n"
      ],
      "metadata": {
        "colab": {
          "base_uri": "https://localhost:8080/"
        },
        "id": "XbF0weWoZN8-",
        "outputId": "7b2dc302-59a4-4bbd-8acc-5d80d4da665a"
      },
      "execution_count": null,
      "outputs": [
        {
          "output_type": "stream",
          "name": "stdout",
          "text": [
            "Digite su numero: 3\n",
            "Tabla del 3\n",
            "3 x 0 = 0\n",
            "3 x 1 = 3\n",
            "3 x 2 = 6\n",
            "3 x 3 = 9\n",
            "3 x 4 = 12\n",
            "3 x 5 = 15\n",
            "3 x 6 = 18\n",
            "3 x 7 = 21\n",
            "3 x 8 = 24\n",
            "3 x 9 = 27\n",
            "3 x 10 = 30\n"
          ]
        }
      ]
    },
    {
      "cell_type": "code",
      "source": [
        "numeros=[1,2,3,4,5,6,7,8,9,10]\n",
        "for num in numeros:\n",
        "    print(f\"{n} x {num} = {(n)*(num)}\")\n"
      ],
      "metadata": {
        "colab": {
          "base_uri": "https://localhost:8080/"
        },
        "id": "Yul67w9Rfx54",
        "outputId": "7fb4b393-2460-46e3-c383-c361c59bcf31"
      },
      "execution_count": null,
      "outputs": [
        {
          "output_type": "stream",
          "name": "stdout",
          "text": [
            "3 x 1 = 3\n",
            "3 x 2 = 6\n",
            "3 x 3 = 9\n",
            "3 x 4 = 12\n",
            "3 x 5 = 15\n",
            "3 x 6 = 18\n",
            "3 x 7 = 21\n",
            "3 x 8 = 24\n",
            "3 x 9 = 27\n",
            "3 x 10 = 30\n"
          ]
        }
      ]
    },
    {
      "cell_type": "markdown",
      "source": [
        "##Listas\n",
        "1. Es un tipo de datos\n",
        "2. Todos los elementos **deben** separarse por comas\n",
        "3. Froma canónica para declarar ina lista\n",
        "\n",
        "```\n",
        "(variable)=[]\n",
        "```\n",
        "Ejemplo:\n",
        "flores=[\"amapola\", \"tulipan\", \"lengua de suegra\", dahlia, rosa]\n",
        "\n",
        "4. Manual.\n",
        "\n",
        "\n",
        "```\n",
        "Lista2=[dato1,dato2,dato3...daton]\n",
        "\n",
        "```\n",
        "5. Siempre son finitas\n",
        "6. Son indexadas\n",
        "\n",
        "\n",
        "```\n",
        "Lista2=[dato1,dato2,dato3...daton]\n",
        "\n",
        "```\n",
        "dato1 esta en el idex 0\n",
        "dato2 esta en el idex 1\n",
        "\n",
        "Identar= Espacio con el (Tap)\n",
        "Indexar= Números de lista\n",
        "\n",
        "7. Estrcuturas **para** la creación de listas\n",
        "\n",
        "\n",
        "```\n",
        "#Ejemplo: Crear una lista de 5 elementos\n",
        "\n",
        "for loquesea in range(5):\n",
        "    ista=input(\"Ingrese el nombre de una flor\"\n",
        "```\n",
        "\n",
        "\n",
        "\n"
      ],
      "metadata": {
        "id": "rjpI2aDoxNdo"
      }
    },
    {
      "cell_type": "code",
      "source": [
        "lista=[]\n",
        "for loquesea in range(5):\n",
        "    lista.append(loquesea)"
      ],
      "metadata": {
        "id": "c-8cG0hnzS5u"
      },
      "execution_count": 79,
      "outputs": []
    },
    {
      "cell_type": "code",
      "source": [
        "flores=[\"amapola\", \"tulipan\", \"lengua de suegra\", \"dahlia\", \"rosa\"]"
      ],
      "metadata": {
        "id": "izp4S-4i4hMM"
      },
      "execution_count": 80,
      "outputs": []
    },
    {
      "cell_type": "code",
      "source": [
        "flores.index (\"lengua de suegra\")"
      ],
      "metadata": {
        "colab": {
          "base_uri": "https://localhost:8080/"
        },
        "id": "MViZJ95G43Vh",
        "outputId": "8c1c65dc-9dfe-4ded-befd-bf7120ef2521"
      },
      "execution_count": 48,
      "outputs": [
        {
          "output_type": "execute_result",
          "data": {
            "text/plain": [
              "2"
            ]
          },
          "metadata": {},
          "execution_count": 48
        }
      ]
    },
    {
      "cell_type": "code",
      "source": [
        "lista"
      ],
      "metadata": {
        "colab": {
          "base_uri": "https://localhost:8080/"
        },
        "id": "JkIR9HnO6FD4",
        "outputId": "a61a33e2-f7c3-42ac-8113-50ad76a61d2d"
      },
      "execution_count": 49,
      "outputs": [
        {
          "output_type": "execute_result",
          "data": {
            "text/plain": [
              "[0, 1, 2, 3, 4]"
            ]
          },
          "metadata": {},
          "execution_count": 49
        }
      ]
    },
    {
      "cell_type": "markdown",
      "source": [
        "que es la mutabilidad e inmutabilidaad y porque es importante saberlo. rspacio=memoria, que datos osn mutables e imutables     "
      ],
      "metadata": {
        "id": "clFA4KJD7xwh"
      }
    },
    {
      "cell_type": "code",
      "source": [
        "1.\n",
        "\n",
        "for numerito in range(10):\n",
        "    print(numerito+1)"
      ],
      "metadata": {
        "colab": {
          "base_uri": "https://localhost:8080/"
        },
        "collapsed": true,
        "id": "HLV6x8lT8QCw",
        "outputId": "338d2080-724a-48d4-eb63-736f5fa340ed"
      },
      "execution_count": 50,
      "outputs": [
        {
          "output_type": "stream",
          "name": "stdout",
          "text": [
            "1\n",
            "2\n",
            "3\n",
            "4\n",
            "5\n",
            "6\n",
            "7\n",
            "8\n",
            "9\n",
            "10\n"
          ]
        }
      ]
    },
    {
      "cell_type": "code",
      "source": [
        "1.2\n",
        "numerito = [1,2,3,4,5,6,7,8,9,10]\n",
        "for num in range(10):\n",
        "    print(num+1)\n"
      ],
      "metadata": {
        "colab": {
          "base_uri": "https://localhost:8080/"
        },
        "collapsed": true,
        "id": "lhvhEJkw-pp_",
        "outputId": "ced34c55-2559-4ff6-8ab9-0ba93a2a6a55"
      },
      "execution_count": 51,
      "outputs": [
        {
          "output_type": "stream",
          "name": "stdout",
          "text": [
            "1\n",
            "2\n",
            "3\n",
            "4\n",
            "5\n",
            "6\n",
            "7\n",
            "8\n",
            "9\n",
            "10\n"
          ]
        }
      ]
    },
    {
      "cell_type": "code",
      "source": [
        "2.1\n",
        "for numerito in range(1,101,1):\n",
        "    print(numerito)"
      ],
      "metadata": {
        "colab": {
          "base_uri": "https://localhost:8080/"
        },
        "collapsed": true,
        "id": "78UHjczV9xIg",
        "outputId": "fcedfaa4-395e-45d0-d069-289a01d761c8"
      },
      "execution_count": 52,
      "outputs": [
        {
          "output_type": "stream",
          "name": "stdout",
          "text": [
            "1\n",
            "2\n",
            "3\n",
            "4\n",
            "5\n",
            "6\n",
            "7\n",
            "8\n",
            "9\n",
            "10\n",
            "11\n",
            "12\n",
            "13\n",
            "14\n",
            "15\n",
            "16\n",
            "17\n",
            "18\n",
            "19\n",
            "20\n",
            "21\n",
            "22\n",
            "23\n",
            "24\n",
            "25\n",
            "26\n",
            "27\n",
            "28\n",
            "29\n",
            "30\n",
            "31\n",
            "32\n",
            "33\n",
            "34\n",
            "35\n",
            "36\n",
            "37\n",
            "38\n",
            "39\n",
            "40\n",
            "41\n",
            "42\n",
            "43\n",
            "44\n",
            "45\n",
            "46\n",
            "47\n",
            "48\n",
            "49\n",
            "50\n",
            "51\n",
            "52\n",
            "53\n",
            "54\n",
            "55\n",
            "56\n",
            "57\n",
            "58\n",
            "59\n",
            "60\n",
            "61\n",
            "62\n",
            "63\n",
            "64\n",
            "65\n",
            "66\n",
            "67\n",
            "68\n",
            "69\n",
            "70\n",
            "71\n",
            "72\n",
            "73\n",
            "74\n",
            "75\n",
            "76\n",
            "77\n",
            "78\n",
            "79\n",
            "80\n",
            "81\n",
            "82\n",
            "83\n",
            "84\n",
            "85\n",
            "86\n",
            "87\n",
            "88\n",
            "89\n",
            "90\n",
            "91\n",
            "92\n",
            "93\n",
            "94\n",
            "95\n",
            "96\n",
            "97\n",
            "98\n",
            "99\n",
            "100\n"
          ]
        }
      ]
    },
    {
      "cell_type": "code",
      "source": [
        "2.2\n",
        "numeros = list(range(1,101))\n",
        "for numeros in numeros:\n",
        "    print(numeros)"
      ],
      "metadata": {
        "colab": {
          "base_uri": "https://localhost:8080/"
        },
        "collapsed": true,
        "id": "jwVLsiSk_mD_",
        "outputId": "24e7c994-ad43-4508-e256-43549644545b"
      },
      "execution_count": 63,
      "outputs": [
        {
          "output_type": "stream",
          "name": "stdout",
          "text": [
            "1\n",
            "2\n",
            "3\n",
            "4\n",
            "5\n",
            "6\n",
            "7\n",
            "8\n",
            "9\n",
            "10\n",
            "11\n",
            "12\n",
            "13\n",
            "14\n",
            "15\n",
            "16\n",
            "17\n",
            "18\n",
            "19\n",
            "20\n",
            "21\n",
            "22\n",
            "23\n",
            "24\n",
            "25\n",
            "26\n",
            "27\n",
            "28\n",
            "29\n",
            "30\n",
            "31\n",
            "32\n",
            "33\n",
            "34\n",
            "35\n",
            "36\n",
            "37\n",
            "38\n",
            "39\n",
            "40\n",
            "41\n",
            "42\n",
            "43\n",
            "44\n",
            "45\n",
            "46\n",
            "47\n",
            "48\n",
            "49\n",
            "50\n",
            "51\n",
            "52\n",
            "53\n",
            "54\n",
            "55\n",
            "56\n",
            "57\n",
            "58\n",
            "59\n",
            "60\n",
            "61\n",
            "62\n",
            "63\n",
            "64\n",
            "65\n",
            "66\n",
            "67\n",
            "68\n",
            "69\n",
            "70\n",
            "71\n",
            "72\n",
            "73\n",
            "74\n",
            "75\n",
            "76\n",
            "77\n",
            "78\n",
            "79\n",
            "80\n",
            "81\n",
            "82\n",
            "83\n",
            "84\n",
            "85\n",
            "86\n",
            "87\n",
            "88\n",
            "89\n",
            "90\n",
            "91\n",
            "92\n",
            "93\n",
            "94\n",
            "95\n",
            "96\n",
            "97\n",
            "98\n",
            "99\n",
            "100\n"
          ]
        }
      ]
    },
    {
      "cell_type": "code",
      "source": [
        "3.1\n",
        "for numerote in range(1,31):\n",
        "    if numerote % 3 == 0:\n",
        "        print(numerote)"
      ],
      "metadata": {
        "colab": {
          "base_uri": "https://localhost:8080/"
        },
        "id": "jWZpFqhL__4T",
        "outputId": "8107df85-d7c7-419b-e2ee-8a75aa133c56"
      },
      "execution_count": 68,
      "outputs": [
        {
          "output_type": "stream",
          "name": "stdout",
          "text": [
            "3\n",
            "6\n",
            "9\n",
            "12\n",
            "15\n",
            "18\n",
            "21\n",
            "24\n",
            "27\n",
            "30\n"
          ]
        }
      ]
    },
    {
      "cell_type": "code",
      "source": [
        "3.2\n",
        "numera = list(range(1,31))\n",
        "for numera in numera:\n",
        "    if numera % 3 == 0:\n",
        "        print(numera)"
      ],
      "metadata": {
        "colab": {
          "base_uri": "https://localhost:8080/"
        },
        "id": "DaGxZQSfA1Ot",
        "outputId": "20cef0e6-fd7a-4121-8dae-cbf0decc0416"
      },
      "execution_count": 78,
      "outputs": [
        {
          "output_type": "stream",
          "name": "stdout",
          "text": [
            "3\n",
            "6\n",
            "9\n",
            "12\n",
            "15\n",
            "18\n",
            "21\n",
            "24\n",
            "27\n",
            "30\n"
          ]
        }
      ]
    },
    {
      "cell_type": "code",
      "source": [
        "4.1\n",
        "n= int(input(\"digita mumerito papi: \"))\n",
        "numeros = list(range(10))\n",
        "for num in numeros:\n",
        "    print(f\"{n} x {num} = {n*num}\")"
      ],
      "metadata": {
        "colab": {
          "base_uri": "https://localhost:8080/"
        },
        "id": "1sByfB3lBhHK",
        "outputId": "7d56f22e-ab4c-4660-a589-73c8f3f54dc5"
      },
      "execution_count": 100,
      "outputs": [
        {
          "output_type": "stream",
          "name": "stdout",
          "text": [
            "digita mumerito papi: 4\n",
            "4 x 0 = 0\n",
            "4 x 1 = 4\n",
            "4 x 2 = 8\n",
            "4 x 3 = 12\n",
            "4 x 4 = 16\n",
            "4 x 5 = 20\n",
            "4 x 6 = 24\n",
            "4 x 7 = 28\n",
            "4 x 8 = 32\n",
            "4 x 9 = 36\n"
          ]
        }
      ]
    },
    {
      "cell_type": "code",
      "source": [
        "4.2\n",
        "n= int(input(\"digita mumerito papi: \"))\n",
        "for tablita in range(1,11):\n",
        "    print(f\"{n} x {tablita} = {n*tablita}\")"
      ],
      "metadata": {
        "colab": {
          "base_uri": "https://localhost:8080/"
        },
        "id": "Bc3AzNM1CA0h",
        "outputId": "39df33d2-5962-429f-ef8d-0a2f5cb0efbc"
      },
      "execution_count": 104,
      "outputs": [
        {
          "output_type": "stream",
          "name": "stdout",
          "text": [
            "digita mumerito papi: 3\n",
            "3 x 1 = 3\n",
            "3 x 2 = 6\n",
            "3 x 3 = 9\n",
            "3 x 4 = 12\n",
            "3 x 5 = 15\n",
            "3 x 6 = 18\n",
            "3 x 7 = 21\n",
            "3 x 8 = 24\n",
            "3 x 9 = 27\n",
            "3 x 10 = 30\n"
          ]
        }
      ]
    },
    {
      "cell_type": "code",
      "source": [
        "5.1\n",
        "total = 0\n",
        "for tablita in range(5):\n",
        "    num = float(input(f\"Ingrese el numero {tablita+1}.\"))\n",
        "    total += num\n",
        "promedio = total / 5\n",
        "print(f\"El promedio de los 5 es: {promedio}\")\n",
        "\n",
        "\n"
      ],
      "metadata": {
        "colab": {
          "base_uri": "https://localhost:8080/"
        },
        "id": "A1fCmR3DCB6R",
        "outputId": "1e6c0f43-ad39-4b54-8e53-7f16b2d7c93b"
      },
      "execution_count": 109,
      "outputs": [
        {
          "output_type": "stream",
          "name": "stdout",
          "text": [
            "Ingrese el numero 1.3\n",
            "Ingrese el numero 2.3\n",
            "Ingrese el numero 3.2\n",
            "Ingrese el numero 4.2\n",
            "Ingrese el numero 5.4\n",
            "El promedio de los 5 es: 2.8\n"
          ]
        }
      ]
    },
    {
      "cell_type": "code",
      "source": [
        "5.2\n",
        "total = 0\n",
        "tablita= list(range(5))\n",
        "for tablita in tablita:\n",
        "    num= float(input(f\"ingrese e numero {tablita}: \"))\n",
        "    total += num\n",
        "promedio = total / 5\n",
        "print(f\"el promedio es: {promedio}\")"
      ],
      "metadata": {
        "colab": {
          "base_uri": "https://localhost:8080/"
        },
        "id": "sazEdxq3H_fM",
        "outputId": "219892a4-104c-42e1-d176-be1fd509a97c"
      },
      "execution_count": 110,
      "outputs": [
        {
          "output_type": "stream",
          "name": "stdout",
          "text": [
            "ingrese e numero 0: 2\n",
            "ingrese e numero 1: 3\n",
            "ingrese e numero 2: 5\n",
            "ingrese e numero 3: 5\n",
            "ingrese e numero 4: 5\n",
            "el promedio es: 4.0\n"
          ]
        }
      ]
    }
  ]
}