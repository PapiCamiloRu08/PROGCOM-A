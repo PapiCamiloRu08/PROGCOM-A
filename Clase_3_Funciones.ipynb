{
  "nbformat": 4,
  "nbformat_minor": 0,
  "metadata": {
    "colab": {
      "provenance": [],
      "include_colab_link": true
    },
    "kernelspec": {
      "name": "python3",
      "display_name": "Python 3"
    },
    "language_info": {
      "name": "python"
    }
  },
  "cells": [
    {
      "cell_type": "markdown",
      "metadata": {
        "id": "view-in-github",
        "colab_type": "text"
      },
      "source": [
        "<a href=\"https://colab.research.google.com/github/PapiCamiloRu08/PROGCOM-A/blob/main/Clase_3_Funciones.ipynb\" target=\"_parent\"><img src=\"https://colab.research.google.com/assets/colab-badge.svg\" alt=\"Open In Colab\"/></a>"
      ]
    },
    {
      "cell_type": "markdown",
      "source": [
        "#Funciones\n",
        "Copiado dinámico.\n",
        "Dió nacimiento a un nuevo paradigma de programación modular.\n",
        "##Forma general de programar funciones.\n",
        "\n",
        "```\n",
        "def (nombre_de_función)(p,p2,p3...pn):\n",
        "  donde p,p2,p3...pn: son parámetros\n",
        "```\n",
        "\n"
      ],
      "metadata": {
        "id": "k5tFydFz11_o"
      }
    },
    {
      "cell_type": "markdown",
      "source": [
        "1. list()\n",
        "2. len()\n",
        "3. print()\n",
        "4. append()\n",
        "5. int()\n",
        "6. input()"
      ],
      "metadata": {
        "id": "eobqN_VF3nmW"
      }
    },
    {
      "cell_type": "markdown",
      "source": [
        "##Tipo de funciones\n",
        "1. Sin parámetros, sin entorno\n",
        "2. Sin parámetros, con retorno\n",
        "3. Con parámetros, sin retorno\n",
        "4. Con parámetros, con entorno"
      ],
      "metadata": {
        "id": "rqgtzDOZ4g32"
      }
    },
    {
      "cell_type": "markdown",
      "source": [
        "###1.Sin parámetros, sin entorno\n",
        "Se emplea como copiado dinámico\n"
      ],
      "metadata": {
        "id": "NmWUcXbX5L3_"
      }
    },
    {
      "cell_type": "code",
      "execution_count": 3,
      "metadata": {
        "id": "-lfYkAWw10PT"
      },
      "outputs": [],
      "source": [
        "#Ejemplo: Entrada de cajero electrónico\n",
        "def cajero(): #Esto significa que es sin parámetros\n",
        "  print(\"Bienvenido a BnacoUNAB\")\n",
        "  print(\"Estas son las operaciones que se pueden realizar\")\n",
        "  print(\"1. Retirar\\n2. Transferencias\\n3. Denunciar\\n4. Opereciones sin tarjeta\")"
      ]
    },
    {
      "cell_type": "code",
      "source": [
        "a = input(cajero())\n"
      ],
      "metadata": {
        "colab": {
          "base_uri": "https://localhost:8080/"
        },
        "id": "uLox2PjL6i60",
        "outputId": "595979ea-5305-4f87-9927-e9d6942a6772"
      },
      "execution_count": 4,
      "outputs": [
        {
          "name": "stdout",
          "output_type": "stream",
          "text": [
            "Bienvenido a BnacoUNAB\n",
            "Estas son las operaciones que se pueden realizar\n",
            "1. Retirar\n",
            "2. Transferencias\n",
            "3. Denunciar\n",
            "4. Opereciones sin tarjeta\n",
            "Nonejaja\n"
          ]
        }
      ]
    },
    {
      "cell_type": "markdown",
      "source": [
        "###2.Sin parámetros, con retorno"
      ],
      "metadata": {
        "id": "qK2ZMMzu8ew1"
      }
    },
    {
      "cell_type": "code",
      "source": [
        "def cajero2(): #Esto significa que es sin parámetros\n",
        "  print(\"Bienvenido a BANCOUNAB\")\n",
        "  print(\"Estas son las operaciones que se pueden realizar\")\n",
        "  print(\"1. Retirar\\n2. Transferencias\\n3. Denunciar gei\\n4. Opereciones sin tarjeta\")\n",
        "  rta=input(\"ingresa una opción \")\n",
        "  return rta"
      ],
      "metadata": {
        "id": "jHIBnPWP8d56"
      },
      "execution_count": 8,
      "outputs": []
    },
    {
      "cell_type": "code",
      "source": [
        "cajero2()"
      ],
      "metadata": {
        "colab": {
          "base_uri": "https://localhost:8080/",
          "height": 165
        },
        "id": "ek2n2Gb08oF7",
        "outputId": "cf3aa0ee-853b-4148-9a3c-e0c6643f2ba1"
      },
      "execution_count": 9,
      "outputs": [
        {
          "name": "stdout",
          "output_type": "stream",
          "text": [
            "Bienvenido a BANCOUNAB\n",
            "Estas son las operaciones que se pueden realizar\n",
            "1. Retirar\n",
            "2. Transferencias\n",
            "3. Denunciar gei\n",
            "4. Opereciones sin tarjeta\n",
            "ingresa una opción 3\n"
          ]
        },
        {
          "output_type": "execute_result",
          "data": {
            "text/plain": [
              "'3'"
            ],
            "application/vnd.google.colaboratory.intrinsic+json": {
              "type": "string"
            }
          },
          "metadata": {},
          "execution_count": 9
        }
      ]
    },
    {
      "cell_type": "code",
      "source": [
        "rta=cajero()"
      ],
      "metadata": {
        "colab": {
          "base_uri": "https://localhost:8080/"
        },
        "id": "8V-YLlh183Wp",
        "outputId": "c95e276c-a862-4e41-c7d9-ad9087c03b5f"
      },
      "execution_count": 10,
      "outputs": [
        {
          "output_type": "stream",
          "name": "stdout",
          "text": [
            "Bienvenido a BnacoUNAB\n",
            "Estas son las operaciones que se pueden realizar\n",
            "1. Retirar\n",
            "2. Transferencias\n",
            "3. Denunciar\n",
            "4. Opereciones sin tarjeta\n"
          ]
        }
      ]
    },
    {
      "cell_type": "code",
      "source": [
        "type(rta)"
      ],
      "metadata": {
        "colab": {
          "base_uri": "https://localhost:8080/"
        },
        "id": "lBtnugLj-cwA",
        "outputId": "1a97c688-2fdf-43c7-82a5-d7943d945fcc"
      },
      "execution_count": null,
      "outputs": [
        {
          "output_type": "execute_result",
          "data": {
            "text/plain": [
              "NoneType"
            ]
          },
          "metadata": {},
          "execution_count": 24
        }
      ]
    },
    {
      "cell_type": "markdown",
      "source": [
        "###Con parametros, sin retorno"
      ],
      "metadata": {
        "id": "c7aDO8Hr-elX"
      }
    },
    {
      "cell_type": "code",
      "source": [
        "#Ejemplo:el area de un rectángulo\n",
        "def ab(u,du):\n",
        "  print(f\"El área de un rectángulo de base {u} y altura {du} es {u*du}\")"
      ],
      "metadata": {
        "id": "zWKMMU3J-iaA"
      },
      "execution_count": 12,
      "outputs": []
    },
    {
      "cell_type": "code",
      "source": [
        "a=ab(5,3)"
      ],
      "metadata": {
        "colab": {
          "base_uri": "https://localhost:8080/"
        },
        "id": "k6tbLWOP_MMX",
        "outputId": "701f1fad-4d56-4e91-d551-024028def3ab"
      },
      "execution_count": 13,
      "outputs": [
        {
          "output_type": "stream",
          "name": "stdout",
          "text": [
            "El área de un rectángulo de base 5 y altura 3 es 15\n"
          ]
        }
      ]
    },
    {
      "cell_type": "code",
      "source": [
        "print(a)"
      ],
      "metadata": {
        "colab": {
          "base_uri": "https://localhost:8080/"
        },
        "id": "v4gCN4a0_dMv",
        "outputId": "6eb43d58-eced-4975-8d83-e11c80c97563"
      },
      "execution_count": 14,
      "outputs": [
        {
          "output_type": "stream",
          "name": "stdout",
          "text": [
            "None\n"
          ]
        }
      ]
    },
    {
      "cell_type": "markdown",
      "source": [
        "###4.Con parámetros, con entorno"
      ],
      "metadata": {
        "id": "1feghQZW_hDY"
      }
    },
    {
      "cell_type": "code",
      "source": [
        "def area_rectangulo(u,du):\n",
        "  return f\"El área de un rectángulo de base {u} y altura {du} es {u*du}\""
      ],
      "metadata": {
        "id": "4VKa0QGK_56W"
      },
      "execution_count": 15,
      "outputs": []
    },
    {
      "cell_type": "code",
      "source": [
        "a=area_rectangulo(35,85)"
      ],
      "metadata": {
        "id": "fZ-U0ESDAPIZ"
      },
      "execution_count": 18,
      "outputs": []
    },
    {
      "cell_type": "code",
      "source": [
        "print(a)"
      ],
      "metadata": {
        "colab": {
          "base_uri": "https://localhost:8080/"
        },
        "id": "AsRRb2qLAXZ-",
        "outputId": "bd73c50c-84c0-47a0-801d-cbbc2c0513e1"
      },
      "execution_count": 19,
      "outputs": [
        {
          "output_type": "stream",
          "name": "stdout",
          "text": [
            "El área de un rectángulo de base 35 y altura 85 es 2975\n"
          ]
        }
      ]
    },
    {
      "cell_type": "markdown",
      "source": [
        "##Funciones anonimas o lambda\n",
        "1. Siempre usan parámetros\n",
        "2. Siempre genera retorno\n",
        "3. No tienen nombre -->anónimas\n",
        "4. **Se puede emplear n parámetros, pero sólo ejecuta una línea de codigo**\n",
        "###Defición de funciones LAMBDA\n",
        "\n",
        "```\n",
        "variable=lambda (p,p1,p2...pn)\n",
        "operación\n",
        "```\n",
        "\n"
      ],
      "metadata": {
        "id": "M0rbCsg6CHG0"
      }
    },
    {
      "cell_type": "code",
      "source": [
        "#Ejemplo: calcular el área de un triangulo\n",
        "area_triangulo=lambda a,b:a+a*b/2"
      ],
      "metadata": {
        "id": "m2YiKGC0DKlk"
      },
      "execution_count": 21,
      "outputs": []
    },
    {
      "cell_type": "code",
      "source": [
        "area_triangulo(79,8)"
      ],
      "metadata": {
        "colab": {
          "base_uri": "https://localhost:8080/"
        },
        "id": "vFQ2VrW0DwXj",
        "outputId": "5dcefe00-3fda-4eaa-f1db-883405f8c662"
      },
      "execution_count": 22,
      "outputs": [
        {
          "output_type": "execute_result",
          "data": {
            "text/plain": [
              "395.0"
            ]
          },
          "metadata": {},
          "execution_count": 22
        }
      ]
    },
    {
      "cell_type": "code",
      "source": [
        "x=int(input(\"Ingrese la altura de un triangulo: \"))\n",
        "y=int(input(\"Ingrese la base de un triangulo: \"))\n",
        "area_triangulo(x,y)"
      ],
      "metadata": {
        "id": "UHZED-CJEMb7",
        "colab": {
          "base_uri": "https://localhost:8080/"
        },
        "outputId": "1aaba9f7-be73-47e6-9aee-f63d31030750"
      },
      "execution_count": 24,
      "outputs": [
        {
          "name": "stdout",
          "output_type": "stream",
          "text": [
            "Ingrese la altura de un triangulo: 20\n",
            "Ingrese la base de un triangulo: 40\n"
          ]
        },
        {
          "output_type": "execute_result",
          "data": {
            "text/plain": [
              "420.0"
            ]
          },
          "metadata": {},
          "execution_count": 24
        }
      ]
    },
    {
      "cell_type": "code",
      "source": [
        "area_circulo=lambda b:3.14*b**2"
      ],
      "metadata": {
        "id": "4Xs1vaBeEmGb"
      },
      "execution_count": 25,
      "outputs": []
    },
    {
      "cell_type": "code",
      "source": [
        "area_circulo(50)"
      ],
      "metadata": {
        "colab": {
          "base_uri": "https://localhost:8080/"
        },
        "id": "x-TxMG8pE6uF",
        "outputId": "177b9a77-1f81-480c-c681-9ebae572c238"
      },
      "execution_count": 27,
      "outputs": [
        {
          "output_type": "execute_result",
          "data": {
            "text/plain": [
              "7850.0"
            ]
          },
          "metadata": {},
          "execution_count": 27
        }
      ]
    },
    {
      "cell_type": "code",
      "source": [
        "valor=lambda a,b,c:(max(a,b,c))\n",
        "valor(3,6,9)"
      ],
      "metadata": {
        "id": "P_VP7z23G8Ws",
        "colab": {
          "base_uri": "https://localhost:8080/"
        },
        "outputId": "e9e6c9b7-ad80-4e97-cd5a-c77c78b8d6cf"
      },
      "execution_count": 28,
      "outputs": [
        {
          "output_type": "execute_result",
          "data": {
            "text/plain": [
              "9"
            ]
          },
          "metadata": {},
          "execution_count": 28
        }
      ]
    },
    {
      "cell_type": "code",
      "source": [
        "valor(3,6,9)"
      ],
      "metadata": {
        "colab": {
          "base_uri": "https://localhost:8080/"
        },
        "id": "zKBJGIpMIByg",
        "outputId": "c9507c7f-0840-4726-8fb9-c5afa5abe059"
      },
      "execution_count": 29,
      "outputs": [
        {
          "output_type": "execute_result",
          "data": {
            "text/plain": [
              "9"
            ]
          },
          "metadata": {},
          "execution_count": 29
        }
      ]
    },
    {
      "cell_type": "markdown",
      "source": [
        "##1"
      ],
      "metadata": {
        "id": "pJNiuYvI0opJ"
      }
    },
    {
      "cell_type": "code",
      "source": [
        "def cuadrado(a):\n",
        "  return f\"El cuadrado de {a} es {a**2}\"\n",
        "a=cuadrado(5)\n",
        "print(a)"
      ],
      "metadata": {
        "colab": {
          "base_uri": "https://localhost:8080/"
        },
        "id": "vYGr9djo0poC",
        "outputId": "1fc405ab-52a1-4a2f-885c-3a466776c0ea"
      },
      "execution_count": null,
      "outputs": [
        {
          "output_type": "stream",
          "name": "stdout",
          "text": [
            "El cuadrado de 5 es 25\n"
          ]
        }
      ]
    },
    {
      "cell_type": "code",
      "source": [
        "cuadrado=lambda a:(a**2)\n",
        "cuadrado(5)"
      ],
      "metadata": {
        "colab": {
          "base_uri": "https://localhost:8080/"
        },
        "id": "H7ZkDiW52LdC",
        "outputId": "6b48e179-6085-426c-ed27-01bed277d20f"
      },
      "execution_count": null,
      "outputs": [
        {
          "output_type": "execute_result",
          "data": {
            "text/plain": [
              "25"
            ]
          },
          "metadata": {},
          "execution_count": 11
        }
      ]
    },
    {
      "cell_type": "markdown",
      "source": [
        "##2"
      ],
      "metadata": {
        "id": "dwUUMdjF2bic"
      }
    },
    {
      "cell_type": "code",
      "source": [
        "import random\n",
        "def saludo(gab):\n",
        "    gei = [\n",
        "        f\"Hola {gab}, ¡qué alegría verte hoy!\",\n",
        "        f\"Bienvenido {gab}, espero que tu día sea increíble.\",\n",
        "        f\"¡Hola {gab}! Te estaba esperando con mucha energía positiva.\",\n",
        "        f\"Saludos cordiales, {gab}. ¡Que todo te vaya excelente!\",\n",
        "        f\"¡Muy buenos días, {gab}! :)\",\n",
        "        f\"Qué gusto saludarte, {gab}. ¡Vamos por un gran día!\",\n",
        "        f\"{gab}, recuerda que eres una persona única y especial.\",\n",
        "        f\"¡Hola {gab}! Hoy es un gran día para sonreír.\",\n",
        "        f\"Bienvenido {gab}, que la luz te acompañe siempre.\",\n",
        "        f\"¡Hey {gab}! Me alegra mucho verte por aquí.\",\n",
        "        f\"Hola {gab}, que cada paso que des hoy te acerque a tus sueños.\",\n",
        "        f\"¡Saludos, {gab}! Que tengas un día lleno de magia.\",\n",
        "        f\"{gab}, eres una fuente de inspiración para los demás.\",\n",
        "        f\"¡Hola {gab}! Que la alegría sea tu compañera hoy.\",\n",
        "        f\"Bienvenido {gab}, ¡gracias por estar aquí!\",\n",
        "        f\"Qué honor tenerte aquí, {gab}. ;)\",\n",
        "        f\"¡Hola {gab}! Nunca olvides lo valioso que eres.\",\n",
        "        f\"Saludos cálidos para ti, {gab}.\",\n",
        "        f\"Hola {gab}, ¡hoy es un día perfecto para empezar algo nuevo!\",\n",
        "        f\"¡Hola querido {gab}! Estoy feliz de compartir este momento contigo.\"\n",
        "    ]\n",
        "    return random.choice(gei)\n",
        "print(saludo(\"Camilito\"))"
      ],
      "metadata": {
        "id": "gcWBhYti2cgy",
        "colab": {
          "base_uri": "https://localhost:8080/"
        },
        "outputId": "bdc96fdb-2d5d-4e6f-8c9f-e75d874b71f3"
      },
      "execution_count": 42,
      "outputs": [
        {
          "output_type": "stream",
          "name": "stdout",
          "text": [
            "¡Hola Camilito! Te estaba esperando con mucha energía positiva.\n"
          ]
        }
      ]
    },
    {
      "cell_type": "code",
      "source": [
        "import random\n",
        "saludos=lambda gab: random.choice([ f\"Hola {gab}, ¡qué alegría verte hoy!\",\n",
        "        f\"Bienvenido {gab}, espero que tu día sea increíble.\",\n",
        "        f\"¡Hola {gab}! Te estaba esperando con mucha energía positiva.\",\n",
        "        f\"Saludos cordiales, {gab}. ¡Que todo te vaya excelente!\",\n",
        "        f\"¡Muy buenos días, {gab}! :)\",\n",
        "        f\"Qué gusto saludarte, {gab}. ¡Vamos por un gran día!\",\n",
        "        f\"{gab}, recuerda que eres una persona única y especial.\",\n",
        "        f\"¡Hola {gab}! Hoy es un gran día para sonreír.\",\n",
        "        f\"Bienvenido {gab}, que la luz te acompañe siempre.\",\n",
        "        f\"¡Hey {gab}! Me alegra mucho verte por aquí.\",\n",
        "        f\"Hola {gab}, que cada paso que des hoy te acerque a tus sueños.\",\n",
        "        f\"¡Saludos, {gab}! Que tengas un día lleno de magia.\",\n",
        "        f\"{gab}, eres una fuente de inspiración para los demás.\",\n",
        "        f\"¡Hola {gab}! Que la alegría sea tu compañera hoy.\",\n",
        "        f\"Bienvenido {gab}, ¡gracias por estar aquí!\",\n",
        "        f\"Qué honor tenerte aquí, {gab}. ;)\",\n",
        "        f\"¡Hola {gab}! Nunca olvides lo valioso que eres.\",\n",
        "        f\"Saludos cálidos para ti, {gab}.\",\n",
        "        f\"Hola {gab}, ¡hoy es un día perfecto para empezar algo nuevo!\",\n",
        "        f\"¡Hola querido {gab}! Estoy feliz de compartir este momento contigo.\"])\n",
        "saludos(\"Camilito\")"
      ],
      "metadata": {
        "colab": {
          "base_uri": "https://localhost:8080/",
          "height": 36
        },
        "id": "ihEWrGSJ3ZKD",
        "outputId": "d19d7bb0-340b-4c1d-ce47-1ce51d16b2f2"
      },
      "execution_count": 43,
      "outputs": [
        {
          "output_type": "execute_result",
          "data": {
            "text/plain": [
              "'Camilito, recuerda que eres una persona única y especial.'"
            ],
            "application/vnd.google.colaboratory.intrinsic+json": {
              "type": "string"
            }
          },
          "metadata": {},
          "execution_count": 43
        }
      ]
    },
    {
      "cell_type": "markdown",
      "source": [
        "##3"
      ],
      "metadata": {
        "id": "TOqUfNLT56A8"
      }
    },
    {
      "cell_type": "code",
      "source": [
        "def ma(a,b):\n",
        "  print(f\"La suma de {a} + {b} es {a+b}\")\n",
        "  print(f\"La resta de {a} - {b} es {a-b}\")\n",
        "  print(f\"La multiplicación de {a} + {b} es {a*b}\")\n",
        "  print(f\"La divición de {a} + {b} es {a/b}\")\n",
        "ma(2,9)"
      ],
      "metadata": {
        "colab": {
          "base_uri": "https://localhost:8080/"
        },
        "id": "5aIvI1Q857Ij",
        "outputId": "7f2a1156-8ad2-46a2-8beb-b9f937855241"
      },
      "execution_count": 44,
      "outputs": [
        {
          "output_type": "stream",
          "name": "stdout",
          "text": [
            "La suma de 2 + 9 es 11\n",
            "La resta de 2 - 9 es -7\n",
            "La multiplicación de 2 + 9 es 18\n",
            "La divición de 2 + 9 es 0.2222222222222222\n"
          ]
        }
      ]
    },
    {
      "cell_type": "code",
      "source": [
        "ma=lambda a,b:(a+b,a-b,a*b,a/b)\n",
        "ma(2,9)"
      ],
      "metadata": {
        "colab": {
          "base_uri": "https://localhost:8080/"
        },
        "id": "Qjd4xRva6lH6",
        "outputId": "e4161ce5-46bc-4f00-e591-0249bbbd722d"
      },
      "execution_count": 45,
      "outputs": [
        {
          "output_type": "execute_result",
          "data": {
            "text/plain": [
              "(11, -7, 18, 0.2222222222222222)"
            ]
          },
          "metadata": {},
          "execution_count": 45
        }
      ]
    },
    {
      "cell_type": "markdown",
      "source": [
        "##4"
      ],
      "metadata": {
        "id": "ZEkuS7117Fgs"
      }
    },
    {
      "cell_type": "code",
      "source": [
        "def edad(a):\n",
        "  if a>=18:\n",
        "    print(\"eres mayor de edad gei\")\n",
        "  else:\n",
        "    print(\"eres menor de edad, gei jaj\")\n",
        "    return\n",
        "edad(19)"
      ],
      "metadata": {
        "colab": {
          "base_uri": "https://localhost:8080/"
        },
        "id": "7Ms7pZL07GmT",
        "outputId": "e71d5d72-ea37-484b-861d-4de0e9907c34"
      },
      "execution_count": 46,
      "outputs": [
        {
          "output_type": "stream",
          "name": "stdout",
          "text": [
            "eres mayor de edad\n"
          ]
        }
      ]
    },
    {
      "cell_type": "code",
      "source": [
        "edad=lambda a:(\"eres mayor de edad jaja\" if a>=18  else \"eres menor de edad gei\")\n",
        "edad(13)"
      ],
      "metadata": {
        "colab": {
          "base_uri": "https://localhost:8080/",
          "height": 36
        },
        "id": "2Mmqc0a07Zk8",
        "outputId": "e92f3b17-ca0e-449e-fdcf-e25e10c1e17f"
      },
      "execution_count": null,
      "outputs": [
        {
          "output_type": "execute_result",
          "data": {
            "text/plain": [
              "'eres menor de edad'"
            ],
            "application/vnd.google.colaboratory.intrinsic+json": {
              "type": "string"
            }
          },
          "metadata": {},
          "execution_count": 56
        }
      ]
    },
    {
      "cell_type": "markdown",
      "source": [
        "##5"
      ],
      "metadata": {
        "id": "l9X0OePi9Mwz"
      }
    },
    {
      "cell_type": "code",
      "source": [
        "def pali(t):\n",
        "  if t == t[::-1]:\n",
        "    print(\"es palindromo\")\n",
        "  else:\n",
        "    print(\"no es palindromo\")\n",
        "pali(\"woli\")"
      ],
      "metadata": {
        "colab": {
          "base_uri": "https://localhost:8080/"
        },
        "id": "WFE97t6D9ODT",
        "outputId": "36754027-4ba0-4836-c281-fc378647d48e"
      },
      "execution_count": null,
      "outputs": [
        {
          "output_type": "stream",
          "name": "stdout",
          "text": [
            "no es palindromo\n"
          ]
        }
      ]
    },
    {
      "cell_type": "code",
      "source": [
        "pali=lambda t: \"es palindromo\" if t==t[::-1] else \"no es palindromo\"\n",
        "pali(\"aña\")"
      ],
      "metadata": {
        "colab": {
          "base_uri": "https://localhost:8080/",
          "height": 36
        },
        "id": "_DjM9tij_N7b",
        "outputId": "93b93b89-f78e-4a76-c0f9-a80bfa2d4081"
      },
      "execution_count": null,
      "outputs": [
        {
          "output_type": "execute_result",
          "data": {
            "text/plain": [
              "'es palindromo'"
            ],
            "application/vnd.google.colaboratory.intrinsic+json": {
              "type": "string"
            }
          },
          "metadata": {},
          "execution_count": 72
        }
      ]
    },
    {
      "cell_type": "markdown",
      "source": [
        "##6"
      ],
      "metadata": {
        "id": "HLuoVyQY_d_q"
      }
    },
    {
      "cell_type": "code",
      "source": [
        "def y(g):\n",
        "  print(len(g))\n",
        "y(\"hola\")\n",
        "y(\"jajajajajajja\")"
      ],
      "metadata": {
        "colab": {
          "base_uri": "https://localhost:8080/"
        },
        "id": "BE9J4-cL_f9E",
        "outputId": "2600e61d-4d87-4e28-a9fe-a43396cff5aa"
      },
      "execution_count": 50,
      "outputs": [
        {
          "output_type": "stream",
          "name": "stdout",
          "text": [
            "4\n",
            "13\n"
          ]
        }
      ]
    },
    {
      "cell_type": "code",
      "source": [
        "y=lambda g: len(g)\n",
        "y(\"tolo\")"
      ],
      "metadata": {
        "colab": {
          "base_uri": "https://localhost:8080/"
        },
        "id": "c1aqvK2t_3ua",
        "outputId": "00aa4bc6-9200-4a64-8f80-6b3862cd7f14"
      },
      "execution_count": null,
      "outputs": [
        {
          "output_type": "execute_result",
          "data": {
            "text/plain": [
              "4"
            ]
          },
          "metadata": {},
          "execution_count": 75
        }
      ]
    },
    {
      "cell_type": "markdown",
      "source": [
        "##7"
      ],
      "metadata": {
        "id": "FfaqCY4yAFPq"
      }
    },
    {
      "cell_type": "code",
      "source": [
        "def t(f):\n",
        "  return sum(f)\n",
        "print(t([1,2,3,4,5]))"
      ],
      "metadata": {
        "colab": {
          "base_uri": "https://localhost:8080/"
        },
        "id": "yXp5wrlUAG3x",
        "outputId": "f3353ba4-87bc-4ff1-86ed-b07be59a5063"
      },
      "execution_count": null,
      "outputs": [
        {
          "output_type": "stream",
          "name": "stdout",
          "text": [
            "15\n"
          ]
        }
      ]
    },
    {
      "cell_type": "code",
      "source": [
        "t=lambda f:sum(f)\n",
        "print(t([1, 2, 3, 4, 5]))"
      ],
      "metadata": {
        "colab": {
          "base_uri": "https://localhost:8080/"
        },
        "id": "kiB3j7-1CqOj",
        "outputId": "0dcc20f7-5361-46fc-8f8e-c9eed19a22e6"
      },
      "execution_count": 51,
      "outputs": [
        {
          "output_type": "stream",
          "name": "stdout",
          "text": [
            "15\n"
          ]
        }
      ]
    },
    {
      "cell_type": "markdown",
      "source": [
        "##8"
      ],
      "metadata": {
        "id": "7dp5V_N4C9dl"
      }
    },
    {
      "cell_type": "code",
      "source": [
        "def f(u):\n",
        "  print(max(u),min(u))\n",
        "f([1,2,3,4,5])"
      ],
      "metadata": {
        "colab": {
          "base_uri": "https://localhost:8080/"
        },
        "id": "jdzA0p3RC_GK",
        "outputId": "d8b06b4c-9936-426f-cc8e-4dab8b7fcce8"
      },
      "execution_count": 52,
      "outputs": [
        {
          "output_type": "stream",
          "name": "stdout",
          "text": [
            "5 1\n"
          ]
        }
      ]
    },
    {
      "cell_type": "code",
      "source": [
        "g=lambda u: (max(u),min(u))\n",
        "print(g([1,2,3,4,5]))"
      ],
      "metadata": {
        "colab": {
          "base_uri": "https://localhost:8080/"
        },
        "id": "COISQIr_Ddyq",
        "outputId": "79833941-ded1-4b46-840e-708912017194"
      },
      "execution_count": 53,
      "outputs": [
        {
          "output_type": "stream",
          "name": "stdout",
          "text": [
            "(5, 1)\n"
          ]
        }
      ]
    },
    {
      "cell_type": "markdown",
      "source": [
        "##9"
      ],
      "metadata": {
        "id": "CfCNvjyGD-X0"
      }
    },
    {
      "cell_type": "code",
      "source": [
        "def k(kl):\n",
        "  print(kl[::-1])\n",
        "k([1,2,3,4,5])"
      ],
      "metadata": {
        "colab": {
          "base_uri": "https://localhost:8080/"
        },
        "id": "fovtOz0CEACK",
        "outputId": "d1fe5f82-19db-4ec2-8551-7028ec5b5b8c"
      },
      "execution_count": 54,
      "outputs": [
        {
          "output_type": "stream",
          "name": "stdout",
          "text": [
            "[5, 4, 3, 2, 1]\n"
          ]
        }
      ]
    },
    {
      "cell_type": "code",
      "source": [
        "burrito=lambda keloq: (keloq[::-1])\n",
        "print(burrito([1,2,3,4,5]))"
      ],
      "metadata": {
        "colab": {
          "base_uri": "https://localhost:8080/"
        },
        "id": "zJHZofhHEWhi",
        "outputId": "927caa9f-1f4f-4312-900c-dc63491aff42"
      },
      "execution_count": 56,
      "outputs": [
        {
          "output_type": "stream",
          "name": "stdout",
          "text": [
            "[5, 4, 3, 2, 1]\n"
          ]
        }
      ]
    },
    {
      "cell_type": "markdown",
      "source": [
        "##10"
      ],
      "metadata": {
        "id": "evxuOg2CEnVT"
      }
    },
    {
      "cell_type": "code",
      "source": [
        "def rss(dl):\n",
        "  resultado = []\n",
        "  for g in dl:\n",
        "      if g[0].lower() in \"aeiouuuu ombe\":\n",
        "        resultado.append(g)\n",
        "  return resultado\n",
        "\n",
        "nombres = [\"Ana\", \"Oscar\", \"Pedro\", \"Elena\", \"Uriel\", \"Sofía\", \"Ignacio\", \"María\"]\n",
        "print(rss(nombres))"
      ],
      "metadata": {
        "colab": {
          "base_uri": "https://localhost:8080/"
        },
        "id": "5NmQcWgPEo9K",
        "outputId": "819ef9ad-a38f-435a-dc79-ec65157430fe"
      },
      "execution_count": 58,
      "outputs": [
        {
          "output_type": "stream",
          "name": "stdout",
          "text": [
            "['Ana', 'Oscar', 'Elena', 'Uriel', 'Ignacio', 'María']\n"
          ]
        }
      ]
    },
    {
      "cell_type": "code",
      "source": [
        "rf = lambda po: [h for h in po if h[0].lower() in \"aeiou\"]\n",
        "nombres = [\"Ana\", \"Oscar\", \"Pedro\", \"Elena\", \"Uriel\", \"Sofía\", \"Ignacio\", \"María\"]\n",
        "print(rf(nombres))"
      ],
      "metadata": {
        "colab": {
          "base_uri": "https://localhost:8080/"
        },
        "id": "KF0O59SfMW-3",
        "outputId": "6abfb897-634f-4b35-b931-b5bfaf807adc"
      },
      "execution_count": 60,
      "outputs": [
        {
          "output_type": "stream",
          "name": "stdout",
          "text": [
            "['Ana', 'Oscar', 'Elena', 'Uriel', 'Ignacio']\n"
          ]
        }
      ]
    },
    {
      "cell_type": "markdown",
      "source": [
        "##11"
      ],
      "metadata": {
        "id": "0w6GkEyVNEyD"
      }
    },
    {
      "cell_type": "code",
      "source": [
        "def v(hg):\n",
        " return list(set(hg))\n",
        "print(v([1, 2, 2, 3, 4, 4, 5, 4, \"f\", \"f\"]))"
      ],
      "metadata": {
        "colab": {
          "base_uri": "https://localhost:8080/"
        },
        "id": "qcjZ3VOtNFk4",
        "outputId": "38e46dd5-2ec1-4d87-bf5f-4c3a959faa36"
      },
      "execution_count": null,
      "outputs": [
        {
          "output_type": "stream",
          "name": "stdout",
          "text": [
            "[1, 2, 3, 4, 5, 'f']\n"
          ]
        }
      ]
    },
    {
      "cell_type": "code",
      "source": [
        "v=lambda hg: list(set(hg))\n",
        "print(v([1, 2, 2, 3, 4, 4, 5, 4, \"f\", \"f\"]))"
      ],
      "metadata": {
        "colab": {
          "base_uri": "https://localhost:8080/"
        },
        "id": "lMn06xsVO0ke",
        "outputId": "a1136596-b5ef-4e92-8de3-1c371308d452"
      },
      "execution_count": null,
      "outputs": [
        {
          "output_type": "stream",
          "name": "stdout",
          "text": [
            "[1, 2, 3, 4, 5, 'f']\n"
          ]
        }
      ]
    },
    {
      "cell_type": "markdown",
      "source": [
        "##12"
      ],
      "metadata": {
        "id": "_l2TtTgtO8yT"
      }
    },
    {
      "cell_type": "code",
      "source": [
        "def liluu(primoyprimomasmearrimo):\n",
        "    war = []\n",
        "    for n in primoyprimomasmearrimo:\n",
        "        if n > 1:\n",
        "            shi = True\n",
        "            for i in range(2, int(n**0.5) + 1):  # más eficiente\n",
        "                if n % i == 0:\n",
        "                    shi = False\n",
        "                    break\n",
        "            if shi:\n",
        "                war.append(n)\n",
        "    return war\n",
        "\n",
        "numeros = [2, 3, 4, 5, 6, 7, 8, 9, 10, 11, 13, 15, 17]\n",
        "print(liluu(numeros))\n"
      ],
      "metadata": {
        "colab": {
          "base_uri": "https://localhost:8080/"
        },
        "id": "BWnkYAaWO9_E",
        "outputId": "c2e77e65-6ea1-47dc-e70e-2557fe7ffbb6"
      },
      "execution_count": 64,
      "outputs": [
        {
          "output_type": "stream",
          "name": "stdout",
          "text": [
            "[2, 3, 5, 7, 11, 13, 17]\n"
          ]
        }
      ]
    },
    {
      "cell_type": "code",
      "source": [
        "rs = lambda zs: [n for n in zs if n > 1 and all(n % i != 0 for i in range(2, n))]\n",
        "numeros = [2, 3, 4, 5, 6, 7, 8, 9, 10, 11, 13, 15, 17]\n",
        "print(rs(numeros))"
      ],
      "metadata": {
        "colab": {
          "base_uri": "https://localhost:8080/"
        },
        "id": "Y8Nk2MXuSw78",
        "outputId": "09af77d7-ea8b-45f6-9bbd-f9c2bc8daac4"
      },
      "execution_count": 67,
      "outputs": [
        {
          "output_type": "stream",
          "name": "stdout",
          "text": [
            "[2, 3, 5, 7, 11, 13, 17]\n"
          ]
        }
      ]
    },
    {
      "cell_type": "markdown",
      "source": [
        "##13"
      ],
      "metadata": {
        "id": "y8PrhGH5V5c2"
      }
    },
    {
      "cell_type": "code",
      "source": [
        "def ms(diceloluian):\n",
        "    nombre = diceloluian[\"nombre\"]\n",
        "    edad = diceloluian[\"edad\"]\n",
        "    return f\"El nombre es {nombre} y tiene {edad} años.\"\n",
        "persona = {\"nombre\": \"Ana\", \"edad\": 25}\n",
        "print(ms(persona))"
      ],
      "metadata": {
        "colab": {
          "base_uri": "https://localhost:8080/"
        },
        "id": "DdttshigV6gV",
        "outputId": "475e5709-be73-4880-81a4-ae634281bf25"
      },
      "execution_count": 68,
      "outputs": [
        {
          "output_type": "stream",
          "name": "stdout",
          "text": [
            "El nombre es Ana y tiene 25 años.\n"
          ]
        }
      ]
    },
    {
      "cell_type": "code",
      "source": [
        "chi = lambda dic: f\"El nombre es {dic['nombre']} y tiene {dic['edad']} años.\"\n",
        "persona = {\"nombre\": \"Carlos\", \"edad\": 30}\n",
        "print(ms(persona))"
      ],
      "metadata": {
        "colab": {
          "base_uri": "https://localhost:8080/"
        },
        "id": "5h5XBsJKWNeE",
        "outputId": "fd374b5a-cdb0-4121-df1b-7889e5ccb1fc"
      },
      "execution_count": 69,
      "outputs": [
        {
          "output_type": "stream",
          "name": "stdout",
          "text": [
            "El nombre es Carlos y tiene 30 años.\n"
          ]
        }
      ]
    },
    {
      "cell_type": "markdown",
      "source": [
        "##14"
      ],
      "metadata": {
        "id": "D5my2RfiTci8"
      }
    },
    {
      "cell_type": "code",
      "source": [
        "def wy(mama):\n",
        "    ab = 0\n",
        "    for rt in mama.values():\n",
        "        ab += rt\n",
        "    return ab\n",
        "productos = {\"pan\": 3000, \"leche\": 4500, \"queso\": 12000}\n",
        "print(wy(productos))"
      ],
      "metadata": {
        "colab": {
          "base_uri": "https://localhost:8080/"
        },
        "id": "v1m0xFhCTcZO",
        "outputId": "394f6b64-1b84-4f05-8111-601fae356284"
      },
      "execution_count": 70,
      "outputs": [
        {
          "output_type": "stream",
          "name": "stdout",
          "text": [
            "19500\n"
          ]
        }
      ]
    },
    {
      "cell_type": "code",
      "source": [
        "xz = lambda ab: sum(ab.values())\n",
        "productos = {\"pan\": 3000, \"leche\": 4500, \"queso\": 12000}\n",
        "print(xz(productos))"
      ],
      "metadata": {
        "colab": {
          "base_uri": "https://localhost:8080/"
        },
        "id": "2BEFD5ymVpnE",
        "outputId": "3ef18e63-6f8f-43f9-84bf-216d19d82007"
      },
      "execution_count": 71,
      "outputs": [
        {
          "output_type": "stream",
          "name": "stdout",
          "text": [
            "19500\n"
          ]
        }
      ]
    },
    {
      "cell_type": "markdown",
      "source": [
        "##15"
      ],
      "metadata": {
        "id": "UqirYg47V0qm"
      }
    },
    {
      "cell_type": "code",
      "source": [
        "def keloq(vibe):\n",
        "    rz = sum(vibe.values())\n",
        "    pipi = len(vibe)\n",
        "    return rz / pipi if pipi > 0 else 0\n",
        "\n",
        "st = {\"Ana\": 4.5, \"Carlos\": 3.8, \"María\": 4.2}\n",
        "print(keloq(st))"
      ],
      "metadata": {
        "colab": {
          "base_uri": "https://localhost:8080/"
        },
        "id": "Q1IAKFHlV1is",
        "outputId": "4730ac59-0762-4c96-f3c2-331d9927fdbd"
      },
      "execution_count": 77,
      "outputs": [
        {
          "output_type": "stream",
          "name": "stdout",
          "text": [
            "4.166666666666667\n"
          ]
        }
      ]
    },
    {
      "cell_type": "code",
      "source": [
        "kl = lambda zx: sum(zx.values()) / len(zx) if len(zx) > 0 else 0\n",
        "st = {\"Ana\": 4.5, \"Carlos\": 3.8, \"María\": 4.2}\n",
        "print(kl(st))"
      ],
      "metadata": {
        "colab": {
          "base_uri": "https://localhost:8080/"
        },
        "id": "WGNd1_AyW0EU",
        "outputId": "83a3ad56-a6be-4669-eb2a-4a800d3da2aa"
      },
      "execution_count": null,
      "outputs": [
        {
          "output_type": "stream",
          "name": "stdout",
          "text": [
            "4.166666666666667\n"
          ]
        }
      ]
    },
    {
      "cell_type": "markdown",
      "source": [
        "##16"
      ],
      "metadata": {
        "id": "_aoJL1ENXc74"
      }
    },
    {
      "cell_type": "code",
      "source": [
        "def hj(xz, nm):\n",
        "    return xz[nm] if nm in xz else \"no encontrado\"\n",
        "st = {\"Ana\": 4.5, \"Carlos\": 3.8, \"María\": 4.9}\n",
        "print(hj(st, \"Carlos\"))\n",
        "print(hj(st, \"Pedro\"))"
      ],
      "metadata": {
        "colab": {
          "base_uri": "https://localhost:8080/"
        },
        "id": "g8Jq7M9MXeBM",
        "outputId": "5eedae14-e951-4d17-8f35-7b16ac5a496e"
      },
      "execution_count": null,
      "outputs": [
        {
          "output_type": "stream",
          "name": "stdout",
          "text": [
            "3.8\n",
            "no encontrado\n"
          ]
        }
      ]
    },
    {
      "cell_type": "code",
      "source": [
        "hj = lambda xz, nm: xz[nm] if nm in xz else \"no encontrado\"\n",
        "st = {\"Ana\": 4.5, \"Carlos\": 3.8, \"María\": 4.9}\n",
        "print(hj(st, \"Ana\"))\n",
        "print(hj(st, \"Luis\"))"
      ],
      "metadata": {
        "colab": {
          "base_uri": "https://localhost:8080/"
        },
        "id": "HjWCBGmGXjXt",
        "outputId": "a95116fc-a9c3-4f5e-8f79-12d90f962ab2"
      },
      "execution_count": null,
      "outputs": [
        {
          "output_type": "stream",
          "name": "stdout",
          "text": [
            "4.5\n",
            "no encontrado\n"
          ]
        }
      ]
    },
    {
      "cell_type": "markdown",
      "source": [
        "##17"
      ],
      "metadata": {
        "id": "b9y9DXF6W3NE"
      }
    },
    {
      "cell_type": "code",
      "source": [
        "def fg(xy):\n",
        "    ab = max(xy, key=xy.get)\n",
        "    return ab\n",
        "st = {\"Ana\": 4.5, \"Carlos\": 3.8, \"María\": 4.9}\n",
        "print(fg(st))"
      ],
      "metadata": {
        "colab": {
          "base_uri": "https://localhost:8080/"
        },
        "id": "06qB1BwcW4IM",
        "outputId": "93757898-490d-4ccf-f4ea-1ee89eff5c11"
      },
      "execution_count": null,
      "outputs": [
        {
          "output_type": "stream",
          "name": "stdout",
          "text": [
            "María\n"
          ]
        }
      ]
    },
    {
      "cell_type": "code",
      "source": [
        "fg = lambda xy: max(xy, key=xy.get)\n",
        "st = {\"Ana\": 4.5, \"Carlos\": 3.8, \"María\": 4.9}\n",
        "print(fg(st))"
      ],
      "metadata": {
        "colab": {
          "base_uri": "https://localhost:8080/"
        },
        "id": "iJ4nbpyLXJLF",
        "outputId": "d9163621-0a22-4eb2-da94-0297ebbdb622"
      },
      "execution_count": null,
      "outputs": [
        {
          "output_type": "stream",
          "name": "stdout",
          "text": [
            "María\n"
          ]
        }
      ]
    },
    {
      "cell_type": "markdown",
      "source": [
        "##18"
      ],
      "metadata": {
        "id": "4HpxPH4GXMov"
      }
    },
    {
      "cell_type": "code",
      "source": [
        "def rt(qw, vl):\n",
        "    rs = {}\n",
        "    for k, v in qw.items():\n",
        "        if v > vl:\n",
        "            rs[k] = v\n",
        "    return rs\n",
        "pr = {\"pan\": 3000, \"leche\": 4500, \"queso\": 12000, \"huevos\": 2000}\n",
        "print(rt(pr, 4000))"
      ],
      "metadata": {
        "colab": {
          "base_uri": "https://localhost:8080/"
        },
        "id": "s22yJZ_TXNkN",
        "outputId": "40304614-533f-4ef8-f6aa-bc061dba2f82"
      },
      "execution_count": null,
      "outputs": [
        {
          "output_type": "stream",
          "name": "stdout",
          "text": [
            "{'leche': 4500, 'queso': 12000}\n"
          ]
        }
      ]
    },
    {
      "cell_type": "code",
      "source": [
        "rt = lambda qw, vl: {k: v for k, v in qw.items() if v > vl}\n",
        "pr = {\"pan\": 3000, \"leche\": 4500, \"queso\": 12000, \"huevos\": 2000}\n",
        "print(rt(pr, 4000))"
      ],
      "metadata": {
        "colab": {
          "base_uri": "https://localhost:8080/"
        },
        "id": "O9ktsqSyX9Tv",
        "outputId": "e5150b99-1fbc-4ae8-be53-06818b8b34f2"
      },
      "execution_count": null,
      "outputs": [
        {
          "output_type": "stream",
          "name": "stdout",
          "text": [
            "{'leche': 4500, 'queso': 12000}\n"
          ]
        }
      ]
    },
    {
      "cell_type": "markdown",
      "source": [
        "##19"
      ],
      "metadata": {
        "id": "KUybRWntYChF"
      }
    },
    {
      "cell_type": "code",
      "source": [
        "def zx(qw):\n",
        "    rs = {}\n",
        "    for k, v in qw.items():\n",
        "        rs[k] = sum(v)\n",
        "    return rs\n",
        "st = {\n",
        "    \"Ana\": [5, 6, 4],\n",
        "    \"Carlos\": [8, 7, 6],\n",
        "    \"María\": [4, 4, 5, 6]\n",
        "}\n",
        "print(zx(st))"
      ],
      "metadata": {
        "colab": {
          "base_uri": "https://localhost:8080/"
        },
        "id": "98BBIArAYA4H",
        "outputId": "2fc6f4ef-52df-4cfd-b3c2-2cb0928358e7"
      },
      "execution_count": null,
      "outputs": [
        {
          "output_type": "stream",
          "name": "stdout",
          "text": [
            "{'Ana': 15, 'Carlos': 21, 'María': 19}\n"
          ]
        }
      ]
    },
    {
      "cell_type": "code",
      "source": [
        "zx = lambda qw: {k: sum(v) for k, v in qw.items()}\n",
        "st = {\n",
        "    \"Ana\": [5, 6, 4],\n",
        "    \"Carlos\": [8, 7, 6],\n",
        "    \"María\": [4, 4, 5, 6]\n",
        "}\n",
        "print(zx(st))"
      ],
      "metadata": {
        "colab": {
          "base_uri": "https://localhost:8080/"
        },
        "id": "aA5LoPy8YcEU",
        "outputId": "69832cf5-f4ce-48f4-f02a-8f75dd5b5987"
      },
      "execution_count": null,
      "outputs": [
        {
          "output_type": "stream",
          "name": "stdout",
          "text": [
            "{'Ana': 15, 'Carlos': 21, 'María': 19}\n"
          ]
        }
      ]
    },
    {
      "cell_type": "markdown",
      "source": [
        "##20"
      ],
      "metadata": {
        "id": "2biP0VDmYe0E"
      }
    },
    {
      "cell_type": "code",
      "source": [
        "def rt(qw):\n",
        "    nt = [v[\"nota\"] for v in qw.values() if v[\"edad\"] >= 18]\n",
        "    return sum(nt) / len(nt) if nt else 0\n",
        "st = {\n",
        "    \"Ana\": {\"nota\": 4.5, \"edad\": 17},\n",
        "    \"Carlos\": {\"nota\": 3.8, \"edad\": 20},\n",
        "    \"María\": {\"nota\": 4.9, \"edad\": 22}\n",
        "}\n",
        "print(rt(st))"
      ],
      "metadata": {
        "colab": {
          "base_uri": "https://localhost:8080/"
        },
        "id": "MmbuVHhNYf9U",
        "outputId": "861dde18-2c6d-4f87-c3e5-52c1a2b63a07"
      },
      "execution_count": null,
      "outputs": [
        {
          "output_type": "stream",
          "name": "stdout",
          "text": [
            "4.35\n"
          ]
        }
      ]
    },
    {
      "cell_type": "code",
      "source": [
        "rt = lambda qw: (sum(v[\"nota\"] for v in qw.values() if v[\"edad\"] >= 18) /\n",
        "                 len([v for v in qw.values() if v[\"edad\"] >= 18])\n",
        "                 if any(v[\"edad\"] >= 18 for v in qw.values()) else 0)\n",
        "st = {\n",
        "    \"Ana\": {\"nota\": 4.5, \"edad\": 17},\n",
        "    \"Carlos\": {\"nota\": 3.8, \"edad\": 20},\n",
        "    \"María\": {\"nota\": 4.9, \"edad\": 22}\n",
        "}\n",
        "print(rt(st))"
      ],
      "metadata": {
        "id": "_YO6aJFZY1gk"
      },
      "execution_count": null,
      "outputs": []
    }
  ]
}