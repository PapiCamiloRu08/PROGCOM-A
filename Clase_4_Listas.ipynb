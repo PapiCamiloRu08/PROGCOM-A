{
  "nbformat": 4,
  "nbformat_minor": 0,
  "metadata": {
    "colab": {
      "provenance": [],
      "authorship_tag": "ABX9TyPkryciJz3D7TvJiUIV+I4t",
      "include_colab_link": true
    },
    "kernelspec": {
      "name": "python3",
      "display_name": "Python 3"
    },
    "language_info": {
      "name": "python"
    }
  },
  "cells": [
    {
      "cell_type": "markdown",
      "metadata": {
        "id": "view-in-github",
        "colab_type": "text"
      },
      "source": [
        "<a href=\"https://colab.research.google.com/github/PapiCamiloRu08/PROGCOM-A/blob/main/Clase_4_Listas.ipynb\" target=\"_parent\"><img src=\"https://colab.research.google.com/assets/colab-badge.svg\" alt=\"Open In Colab\"/></a>"
      ]
    },
    {
      "cell_type": "markdown",
      "source": [
        "##LISTAS\n",
        "1. Conjunto de datos\n",
        "2. Es mutable (5000xp)\n",
        "3. Tiene Indexacion"
      ],
      "metadata": {
        "id": "TvfSni5LEGu1"
      }
    },
    {
      "cell_type": "code",
      "execution_count": 1,
      "metadata": {
        "colab": {
          "base_uri": "https://localhost:8080/",
          "height": 35
        },
        "id": "Pzh8gEXTEEeO",
        "outputId": "ff8aeb02-0e2b-4d05-efd3-187a3cbf9c6e"
      },
      "outputs": [
        {
          "output_type": "execute_result",
          "data": {
            "text/plain": [
              "'maria'"
            ],
            "application/vnd.google.colaboratory.intrinsic+json": {
              "type": "string"
            }
          },
          "metadata": {},
          "execution_count": 1
        }
      ],
      "source": [
        "lista=[\"maria\",4,True,\"hola\"]\n",
        "lista[0]"
      ]
    },
    {
      "cell_type": "markdown",
      "source": [
        "4. Son ordendadas\n",
        "###Forma generica\n",
        "\n",
        "```\n",
        "nombre_de_la_lista=[e1,e2,e3,e4...en]\n",
        "```\n",
        "\n"
      ],
      "metadata": {
        "id": "0J6OG8nNEkak"
      }
    },
    {
      "cell_type": "code",
      "source": [
        "1#Obteniendo el últino elemento de la lista\n",
        "lista[len(lista)-1]"
      ],
      "metadata": {
        "colab": {
          "base_uri": "https://localhost:8080/",
          "height": 35
        },
        "id": "LMCDRFyDFgET",
        "outputId": "acff4bca-cd76-422f-e38c-2f091c48fad6"
      },
      "execution_count": 4,
      "outputs": [
        {
          "output_type": "execute_result",
          "data": {
            "text/plain": [
              "'hola'"
            ],
            "application/vnd.google.colaboratory.intrinsic+json": {
              "type": "string"
            }
          },
          "metadata": {},
          "execution_count": 4
        }
      ]
    },
    {
      "cell_type": "code",
      "source": [
        "lista[-1]"
      ],
      "metadata": {
        "colab": {
          "base_uri": "https://localhost:8080/",
          "height": 35
        },
        "id": "FgTdcNOVFzDr",
        "outputId": "53dab5d2-e3cf-45a7-c463-6eb5c8323e55"
      },
      "execution_count": 5,
      "outputs": [
        {
          "output_type": "execute_result",
          "data": {
            "text/plain": [
              "'hola'"
            ],
            "application/vnd.google.colaboratory.intrinsic+json": {
              "type": "string"
            }
          },
          "metadata": {},
          "execution_count": 5
        }
      ]
    },
    {
      "cell_type": "code",
      "source": [
        "lista[:2]"
      ],
      "metadata": {
        "colab": {
          "base_uri": "https://localhost:8080/"
        },
        "id": "NcJKV2pEGoIz",
        "outputId": "2ec571c1-6f53-4ed0-dbfe-64a86981154b"
      },
      "execution_count": 6,
      "outputs": [
        {
          "output_type": "execute_result",
          "data": {
            "text/plain": [
              "['maria', 4]"
            ]
          },
          "metadata": {},
          "execution_count": 6
        }
      ]
    },
    {
      "cell_type": "code",
      "source": [
        "lista[:]"
      ],
      "metadata": {
        "colab": {
          "base_uri": "https://localhost:8080/"
        },
        "id": "HkFnouXHGtOK",
        "outputId": "7f2c658f-2687-4389-8635-8fd608c2d967"
      },
      "execution_count": 7,
      "outputs": [
        {
          "output_type": "execute_result",
          "data": {
            "text/plain": [
              "['maria', 4, True, 'hola']"
            ]
          },
          "metadata": {},
          "execution_count": 7
        }
      ]
    },
    {
      "cell_type": "code",
      "source": [
        "lista[:-1]"
      ],
      "metadata": {
        "colab": {
          "base_uri": "https://localhost:8080/"
        },
        "id": "LbT4VJ-SGv18",
        "outputId": "6678bfa2-6b5d-4551-b5ec-63d6582a816d"
      },
      "execution_count": 8,
      "outputs": [
        {
          "output_type": "execute_result",
          "data": {
            "text/plain": [
              "['maria', 4, True]"
            ]
          },
          "metadata": {},
          "execution_count": 8
        }
      ]
    },
    {
      "cell_type": "code",
      "source": [
        "lista[1:4]"
      ],
      "metadata": {
        "colab": {
          "base_uri": "https://localhost:8080/"
        },
        "id": "3epbUW5UHRkK",
        "outputId": "4639808d-44ee-43cc-a2e1-8e6c1730acc7"
      },
      "execution_count": 9,
      "outputs": [
        {
          "output_type": "execute_result",
          "data": {
            "text/plain": [
              "[4, True, 'hola']"
            ]
          },
          "metadata": {},
          "execution_count": 9
        }
      ]
    },
    {
      "cell_type": "code",
      "source": [
        "for i in lista:\n",
        "    #Va a iteral 4 veces\n",
        "    # i va a tomar por vez de el eleemnto de la lista\n",
        "    print(i)"
      ],
      "metadata": {
        "colab": {
          "base_uri": "https://localhost:8080/"
        },
        "id": "YVqLNHkgHpea",
        "outputId": "cac6e3cb-222a-4a62-f934-fad219325885"
      },
      "execution_count": 11,
      "outputs": [
        {
          "output_type": "stream",
          "name": "stdout",
          "text": [
            "maria\n",
            "4\n",
            "True\n",
            "hola\n"
          ]
        }
      ]
    },
    {
      "cell_type": "code",
      "source": [
        "#Lista de extension:\n",
        "num1=[1,2,3,4,5,6,7,8,9,10]\n",
        "#Lista de compresion:\n",
        "num2=list(range(1,11))\n",
        "print(num2)"
      ],
      "metadata": {
        "colab": {
          "base_uri": "https://localhost:8080/"
        },
        "id": "OAno0MQGH-7y",
        "outputId": "1d8d5f25-bf54-4dca-d1e3-182750231221"
      },
      "execution_count": 14,
      "outputs": [
        {
          "output_type": "stream",
          "name": "stdout",
          "text": [
            "[1, 2, 3, 4, 5, 6, 7, 8, 9, 10]\n"
          ]
        }
      ]
    },
    {
      "cell_type": "markdown",
      "source": [
        "##Listas por comprension\n",
        "Forma nueva d egenerar istas a partir de una expresion\n",
        "Sintaxis:\n",
        "\n",
        "\n",
        "```\n",
        "<!-- nombre_delista=[expresion for item in iterable if condicion] -->\n",
        "```\n",
        "Donde:\n",
        "1. expresion: es el valor que generara una nuvea lista\n",
        "2. item: variable que representa cada elemento dentro de la iteracion\n",
        "3. iterable: cuantos elementos va a tener la nueva lista\n",
        "4. Condicion: es opcional y se emeplea si los elementos deben cumplir algo\n"
      ],
      "metadata": {
        "id": "dPJ083PfIuC5"
      }
    },
    {
      "cell_type": "code",
      "source": [
        "#Convertir una lista de operaciones en una lisrta de palabras\n",
        "oraciones=[\"Aqui va una oracion\",\"Aqui otra oracion\",\"Aqui va la trercera\"]\n",
        "palabras=[i.split() for i in oraciones]\n",
        "palabras"
      ],
      "metadata": {
        "colab": {
          "base_uri": "https://localhost:8080/"
        },
        "id": "iNDvrujxJ2cQ",
        "outputId": "9a25ca01-21b0-498c-bc30-b79382b086dd"
      },
      "execution_count": 16,
      "outputs": [
        {
          "output_type": "execute_result",
          "data": {
            "text/plain": [
              "[['Aqui', 'va', 'una', 'oracion'],\n",
              " ['Aqui', 'otra', 'oracion'],\n",
              " ['Aqui', 'va', 'la', 'trercera']]"
            ]
          },
          "metadata": {},
          "execution_count": 16
        }
      ]
    },
    {
      "cell_type": "code",
      "source": [
        "pares=[num for num in num2 if num%3==0]\n",
        "pares"
      ],
      "metadata": {
        "colab": {
          "base_uri": "https://localhost:8080/"
        },
        "id": "zVQ1-5czK0uB",
        "outputId": "43c1d546-6ac7-4a85-b413-b97d0feab41f"
      },
      "execution_count": 18,
      "outputs": [
        {
          "output_type": "execute_result",
          "data": {
            "text/plain": [
              "[3, 6, 9]"
            ]
          },
          "metadata": {},
          "execution_count": 18
        }
      ]
    },
    {
      "cell_type": "code",
      "source": [
        "1#Clasificar si un numero es positivo o negatiivo\n",
        "numeros=[1,4,6,-20,-2,-69,4]\n",
        "lista2=[(n,\"postivo\") if n>0 else(n,\"negativo\") for n in numeros]\n",
        "lista2"
      ],
      "metadata": {
        "colab": {
          "base_uri": "https://localhost:8080/"
        },
        "id": "rR0lhElKMhOg",
        "outputId": "b4e4219d-c6f1-4221-d06c-51acf2357c4b"
      },
      "execution_count": 20,
      "outputs": [
        {
          "output_type": "execute_result",
          "data": {
            "text/plain": [
              "[(1, 'postivo'),\n",
              " (4, 'postivo'),\n",
              " (6, 'postivo'),\n",
              " (-20, 'negativo'),\n",
              " (-2, 'negativo'),\n",
              " (-69, 'negativo'),\n",
              " (4, 'postivo')]"
            ]
          },
          "metadata": {},
          "execution_count": 20
        }
      ]
    },
    {
      "cell_type": "markdown",
      "source": [],
      "metadata": {
        "id": "AlMaSrScNGe9"
      }
    },
    {
      "cell_type": "code",
      "source": [
        "entrada= input(\"Ingrese sus valores: \")\n",
        "numeros=[int(f) for f in entrada.split(\",\")]\n",
        "lista2= [(n,\"frio\") if n<20 else (n,\"templado\") if 20<= n <= 27 else (n,\"caliente\") for n in numeros for n in numeros]\n",
        "print(\"temepraturA: \",lista2)"
      ],
      "metadata": {
        "colab": {
          "base_uri": "https://localhost:8080/"
        },
        "id": "4c1j6t1SNPoV",
        "outputId": "3d73d52b-4b52-46cf-804a-8b088f0247d7"
      },
      "execution_count": 31,
      "outputs": [
        {
          "output_type": "stream",
          "name": "stdout",
          "text": [
            "Ingrese sus valores: 2,3,4,5,6,7,8,9,20\n",
            "temepraturA:  [(2, 'frio'), (3, 'frio'), (4, 'frio'), (5, 'frio'), (6, 'frio'), (7, 'frio'), (8, 'frio'), (9, 'frio'), (20, 'templado'), (2, 'frio'), (3, 'frio'), (4, 'frio'), (5, 'frio'), (6, 'frio'), (7, 'frio'), (8, 'frio'), (9, 'frio'), (20, 'templado'), (2, 'frio'), (3, 'frio'), (4, 'frio'), (5, 'frio'), (6, 'frio'), (7, 'frio'), (8, 'frio'), (9, 'frio'), (20, 'templado'), (2, 'frio'), (3, 'frio'), (4, 'frio'), (5, 'frio'), (6, 'frio'), (7, 'frio'), (8, 'frio'), (9, 'frio'), (20, 'templado'), (2, 'frio'), (3, 'frio'), (4, 'frio'), (5, 'frio'), (6, 'frio'), (7, 'frio'), (8, 'frio'), (9, 'frio'), (20, 'templado'), (2, 'frio'), (3, 'frio'), (4, 'frio'), (5, 'frio'), (6, 'frio'), (7, 'frio'), (8, 'frio'), (9, 'frio'), (20, 'templado'), (2, 'frio'), (3, 'frio'), (4, 'frio'), (5, 'frio'), (6, 'frio'), (7, 'frio'), (8, 'frio'), (9, 'frio'), (20, 'templado'), (2, 'frio'), (3, 'frio'), (4, 'frio'), (5, 'frio'), (6, 'frio'), (7, 'frio'), (8, 'frio'), (9, 'frio'), (20, 'templado'), (2, 'frio'), (3, 'frio'), (4, 'frio'), (5, 'frio'), (6, 'frio'), (7, 'frio'), (8, 'frio'), (9, 'frio'), (20, 'templado')]\n"
          ]
        }
      ]
    },
    {
      "cell_type": "code",
      "source": [
        "#quiero obtener la icnial de nombres y ponerla en mayusculas\n",
        "nombres=[\"camilo\",\"anderson\",\"joan\"]\n",
        "lista3=[x[0].upper() for x in nombres]\n",
        "lista3"
      ],
      "metadata": {
        "colab": {
          "base_uri": "https://localhost:8080/"
        },
        "id": "DfxOjcFPRCKr",
        "outputId": "09a28360-b54c-4903-d8e4-f446dd9054b6"
      },
      "execution_count": 32,
      "outputs": [
        {
          "output_type": "execute_result",
          "data": {
            "text/plain": [
              "['C', 'A', 'J']"
            ]
          },
          "metadata": {},
          "execution_count": 32
        }
      ]
    }
  ]
}