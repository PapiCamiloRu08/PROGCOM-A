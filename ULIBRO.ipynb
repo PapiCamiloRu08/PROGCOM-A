{
  "nbformat": 4,
  "nbformat_minor": 0,
  "metadata": {
    "colab": {
      "provenance": [],
      "authorship_tag": "ABX9TyOaiI4DfHdGwpda6EYOvu8H",
      "include_colab_link": true
    },
    "kernelspec": {
      "name": "python3",
      "display_name": "Python 3"
    },
    "language_info": {
      "name": "python"
    }
  },
  "cells": [
    {
      "cell_type": "markdown",
      "metadata": {
        "id": "view-in-github",
        "colab_type": "text"
      },
      "source": [
        "<a href=\"https://colab.research.google.com/github/PapiCamiloRu08/PROGCOM-A/blob/main/ULIBRO.ipynb\" target=\"_parent\"><img src=\"https://colab.research.google.com/assets/colab-badge.svg\" alt=\"Open In Colab\"/></a>"
      ]
    },
    {
      "cell_type": "markdown",
      "source": [
        "# **QUEST ULIBRO**\n",
        "Conferencia: Reprogramando el envejecimiento: la ingeniería biológica detrás de una longevidad saludable"
      ],
      "metadata": {
        "id": "MZt6zA4kt5Hr"
      }
    },
    {
      "cell_type": "markdown",
      "source": [
        "### IDEAS MAS IMPORTANTES\n",
        "1. Envejecer no es algo totalmente fijo, nuestro cuerpo puede cambiar la velocidad con la que envejece\n",
        "\n",
        "2. Los habitos diarios como dormir bien, moverse, comer sano y manejar ESPECIALMENTE el estrés ayudan a mantener el cuerpo más joven\n",
        "\n",
        "3. Lo importante no es solo vivir más tiempo, sino vivir con energía y buena calidad de vida\n",
        "\n",
        "*Lo que nos deja en resumen y conclusion que: El envejecimiento no es algo totalmente fijo, se puede manejar y relentizar con buenos habitos y estrategias que ayudan al cuerpo a funcionar de forme mas saludable*\n",
        "\n",
        "### ASPECTOS DE LA CONFERENCIA\n",
        "1. Nos gusto la manera en que explico los temas, de una manera donde procuraba hacer que le publuco entendiera, lo que lo catalogaba como un buen orador\n",
        "2. Siempre abarco el tema de una manera muy profesional acorde a sus estudios\n",
        "3. Nos gusto mucho las diapositivas presentadas ya que ejemplificaban muy bien lo que queria hacernos entender.\n",
        "4. Aveces es importante variar de aprendizajes, y mas cuando son aprendizajes, que para nuestras vidas, si serviran.\n",
        "5. En las preguntas pudimos retroalimnetra mucho mas acorde a lo aprendido, lo que permitio llevar una buena experiencia de aprendizaje\n"
      ],
      "metadata": {
        "id": "oBqgzOG1u0cP"
      }
    },
    {
      "cell_type": "markdown",
      "source": [
        "####Fotografias con libros\n",
        "3 libros https://drive.google.com/uc?id=15t7PVdafDrZz21UZcoI1vVIBk5XQQvZG\n",
        "\n",
        "\n",
        "1 libro https://drive.google.com/uc?id=1fIEqMSPZSh2vuYTM4h88P5_L7O9Qykl2\n",
        "\n",
        "\n",
        "3 libros https://drive.google.com/file/d/1_woEe1yepH4oklFcm3lCXwYJCk4FMYH6/view?usp=sharing\n",
        "\n",
        "\n",
        "\n",
        "1 libro https://drive.google.com/file/d/1rAY6Pc8PZl2oqXlV47ar8Vfuabo4nk_E/view?usp=sharing\n",
        "\n",
        "asistencia camilo https://drive.google.com/file/d/18p-d3wm9000jF0aB_fQ8BftkPbh8EUJ6/view?usp=sharing\n",
        "\n",
        "asistencia joan https://drive.google.com/file/d/1fJr220-3lfXdStk1yazDrxMS7i9zFKEd/view?usp=sharing"
      ],
      "metadata": {
        "id": "EdyCqLmTy_WS"
      }
    },
    {
      "cell_type": "markdown",
      "source": [
        "#FOTOGRAFIA CON EL ORADOR\n",
        "https://drive.google.com/file/d/1fIEqMSPZSh2vuYTM4h88P5_L7O9Qykl2/view?usp=sharing"
      ],
      "metadata": {
        "id": "YZJ6CXey3W1E"
      }
    }
  ]
}