{
  "nbformat": 4,
  "nbformat_minor": 0,
  "metadata": {
    "colab": {
      "provenance": [],
      "authorship_tag": "ABX9TyNVn6MeqIOVC9NJsBdswq3Y",
      "include_colab_link": true
    },
    "kernelspec": {
      "name": "python3",
      "display_name": "Python 3"
    },
    "language_info": {
      "name": "python"
    }
  },
  "cells": [
    {
      "cell_type": "markdown",
      "metadata": {
        "id": "view-in-github",
        "colab_type": "text"
      },
      "source": [
        "<a href=\"https://colab.research.google.com/github/PapiCamiloRu08/PROGCOM-A/blob/main/Quest_0_Prueba_diagn%C3%B3stica.ipynb\" target=\"_parent\"><img src=\"https://colab.research.google.com/assets/colab-badge.svg\" alt=\"Open In Colab\"/></a>"
      ]
    },
    {
      "cell_type": "markdown",
      "source": [
        "#Prueba Diagnostica"
      ],
      "metadata": {
        "id": "QZe9FSIFKwR7"
      }
    },
    {
      "cell_type": "markdown",
      "source": [
        "##Estrucutura de selección\n",
        "Aqui se desarrollan los ejericios sobre estructuras de selección\n",
        "\n",
        "\n",
        "Por Pseint\n",
        "```\n",
        "si (condicion) entonces :\n",
        "  pasan cosas divertidas ⏰\n",
        "sino:\n",
        "  llorélo 😞\n",
        "```\n",
        "\n",
        "Por Algoritmia\n",
        "1. Solicito la variable y la almaceno en \"a\"\n",
        "2. Comparo esa variable con otra llamada b\n"
      ],
      "metadata": {
        "id": "FJA3CiI0LLmS"
      }
    },
    {
      "cell_type": "markdown",
      "source": [],
      "metadata": {
        "id": "cJie-2vFVT2h"
      }
    },
    {
      "cell_type": "code",
      "source": [
        "#.1\n",
        "x = int(input(\"Escriba un numero positivo: \"))\n",
        "if x > 0:\n",
        "    print(\"El numero insertado es ´positkvooo\")\n",
        "else:\n",
        "    print(\"el numero sinsrtadpoes negatico muajaja\")"
      ],
      "metadata": {
        "colab": {
          "base_uri": "https://localhost:8080/"
        },
        "id": "wozWULcrVX7R",
        "outputId": "0f9c43bf-1190-47e1-9288-42dd06d9bf0b"
      },
      "execution_count": 11,
      "outputs": [
        {
          "output_type": "stream",
          "name": "stdout",
          "text": [
            "Escriba un numero positivo: 40\n",
            "El numero insertado es ´positkvooo\n"
          ]
        }
      ]
    },
    {
      "cell_type": "code",
      "source": [
        "#.2\n",
        "n = int(input(\"Escriba su edad papitp: \"))\n",
        "if n > 18:\n",
        "    print(\"puedes irte de disco papi\")\n",
        "else:\n",
        "    print(\"llorélo\")"
      ],
      "metadata": {
        "colab": {
          "base_uri": "https://localhost:8080/"
        },
        "id": "EXtQ13OBYTWP",
        "outputId": "bd6f2bcb-3921-4512-e316-39fc319222b0"
      },
      "execution_count": 13,
      "outputs": [
        {
          "output_type": "stream",
          "name": "stdout",
          "text": [
            "Escriba su edad papitp: 17\n",
            "llorélo\n"
          ]
        }
      ]
    },
    {
      "cell_type": "code",
      "source": [
        "#.3\n",
        "n= int(input(\"Escriba un numero papito: \"))\n",
        "m= int(input(\"Escriba otro numero papito: \"))\n",
        "if n > m:\n",
        "    print(n)\n",
        "else:\n",
        "    print(m)"
      ],
      "metadata": {
        "colab": {
          "base_uri": "https://localhost:8080/"
        },
        "id": "nHHYis0GY7mn",
        "outputId": "c57a5c54-f601-4120-f474-1aa21f4142ac"
      },
      "execution_count": 15,
      "outputs": [
        {
          "output_type": "stream",
          "name": "stdout",
          "text": [
            "Escriba un numero papito: 2\n",
            "Escriba otro numero papito: 3\n",
            "3\n"
          ]
        }
      ]
    },
    {
      "cell_type": "code",
      "source": [
        "#.4\n",
        "nota= int(input(\"Escribe tu nota papi (0-100): \"))\n",
        "if nota >= 60:\n",
        "    print(\"AprobADO PAPITO LINDOOO\")\n",
        "else:\n",
        "    print(\"pailas papito lindo  KAJSKAJSKA\")"
      ],
      "metadata": {
        "colab": {
          "base_uri": "https://localhost:8080/"
        },
        "id": "TgJMggKCZjN_",
        "outputId": "2c686919-7a2e-438f-f32e-7b71fb3949a7"
      },
      "execution_count": 20,
      "outputs": [
        {
          "output_type": "stream",
          "name": "stdout",
          "text": [
            "Escribe tu nota papi (0-100): 59\n",
            "pailas papito lindo  KAJSKAJSKA\n"
          ]
        }
      ]
    },
    {
      "cell_type": "code",
      "source": [
        "#.5\n",
        "n= int(input(\"Escriba un numero papito: \"))\n",
        "if n % 2 == 0:\n",
        "    print(\"el numero es par\")\n",
        "else:\n",
        "    print(\"el numero es impar\")"
      ],
      "metadata": {
        "colab": {
          "base_uri": "https://localhost:8080/"
        },
        "id": "-zb3L694aSbN",
        "outputId": "89573dea-807b-4f2d-94db-49406b188c0d"
      },
      "execution_count": 22,
      "outputs": [
        {
          "output_type": "stream",
          "name": "stdout",
          "text": [
            "Escriba un numero papito: 3\n",
            "el numero es impar\n"
          ]
        }
      ]
    },
    {
      "cell_type": "code",
      "source": [
        "n=100\n",
        "print(((n+1)*n)/2)"
      ],
      "metadata": {
        "colab": {
          "base_uri": "https://localhost:8080/"
        },
        "id": "gmpLxGP8b3Bs",
        "outputId": "6c9ba6be-0d05-4778-8774-17a7a6e4bf18"
      },
      "execution_count": 32,
      "outputs": [
        {
          "output_type": "stream",
          "name": "stdout",
          "text": [
            "5050.0\n"
          ]
        }
      ]
    },
    {
      "cell_type": "code",
      "source": [
        "n= int(input(\"Escriba un numero papito: \"))\n",
        "r= int(input(\"Escriba otro numero papito: \"))\n",
        "s= int(input(\"Escriba otriiico numero papito: \"))\n",
        "o= int(input(\"Escriba otritoooooo numero papito: \"))\n",
        "e= int(input(\"Escriba otritoooooooppo numero papito: \"))\n",
        "print((n+r+s+o+e)/5)"
      ],
      "metadata": {
        "colab": {
          "base_uri": "https://localhost:8080/"
        },
        "id": "5p878X5gcjT0",
        "outputId": "e7e4014c-8698-4561-e70d-075304710e69"
      },
      "execution_count": 34,
      "outputs": [
        {
          "output_type": "stream",
          "name": "stdout",
          "text": [
            "Escriba un numero papito: 2\n",
            "Escriba otro numero papito: 3\n",
            "Escriba otriiico numero papito: 4\n",
            "Escriba otritoooooo numero papito: 5\n",
            "Escriba otritoooooooppo numero papito: 6\n",
            "4.0\n"
          ]
        }
      ]
    }
  ]
}