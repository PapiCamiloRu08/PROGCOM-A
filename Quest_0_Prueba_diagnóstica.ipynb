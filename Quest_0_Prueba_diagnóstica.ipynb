{
  "nbformat": 4,
  "nbformat_minor": 0,
  "metadata": {
    "colab": {
      "provenance": []
    },
    "kernelspec": {
      "name": "python3",
      "display_name": "Python 3"
    },
    "language_info": {
      "name": "python"
    }
  },
  "cells": [
    {
      "cell_type": "markdown",
      "source": [
        "#Prueba Diagnostica"
      ],
      "metadata": {
        "id": "QZe9FSIFKwR7"
      }
    },
    {
      "cell_type": "markdown",
      "source": [
        "##Estrucutura de selección\n",
        "Aqui se desarrollan los ejericios sobre estructuras de selección\n",
        "\n",
        "\n",
        "Por Pseint\n",
        "```\n",
        "si (condicion) entonces :\n",
        "  pasan cosas divertidas ⏰\n",
        "sino:\n",
        "  llorélo 😞\n",
        "```\n",
        "\n",
        "Por Algoritmia\n",
        "1. Solicito la variable y la almaceno en \"a\"\n",
        "2. Comparo esa variable con otra llamada b\n"
      ],
      "metadata": {
        "id": "FJA3CiI0LLmS"
      }
    },
    {
      "cell_type": "code",
      "execution_count": null,
      "metadata": {
        "id": "orGmoUD4KvGs"
      },
      "outputs": [],
      "source": []
    }
  ]
}