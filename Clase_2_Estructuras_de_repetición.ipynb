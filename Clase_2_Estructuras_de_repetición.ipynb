{
  "nbformat": 4,
  "nbformat_minor": 0,
  "metadata": {
    "colab": {
      "provenance": [],
      "authorship_tag": "ABX9TyPllXh+kb0YM8tOwcJwZGIq",
      "include_colab_link": true
    },
    "kernelspec": {
      "name": "python3",
      "display_name": "Python 3"
    },
    "language_info": {
      "name": "python"
    }
  },
  "cells": [
    {
      "cell_type": "markdown",
      "metadata": {
        "id": "view-in-github",
        "colab_type": "text"
      },
      "source": [
        "<a href=\"https://colab.research.google.com/github/PapiCamiloRu08/PROGCOM-A/blob/main/Clase_2_Estructuras_de_repetici%C3%B3n.ipynb\" target=\"_parent\"><img src=\"https://colab.research.google.com/assets/colab-badge.svg\" alt=\"Open In Colab\"/></a>"
      ]
    },
    {
      "cell_type": "markdown",
      "source": [
        "##Estrcuturas de repetición\n",
        "Permite repetir una o mas accciones de aucerdo a una condicion"
      ],
      "metadata": {
        "id": "EpeVOVxwQmXO"
      }
    },
    {
      "cell_type": "markdown",
      "source": [
        "##Estrucutura para - for\n",
        "\n",
        "1. Cuand se sabe cuántas veces se repite una accion.\n",
        "2. Está conformado por una condicion inicial (CI) una condicion final (CF) y pasos (frecuencia de repeticion).\n",
        "3. Esta esctrucutra no se detendrá, hasta alcnazar CF-1\n",
        "\n",
        "ESTRCTURA GENERAL DEL (FOR)\n",
        "\n",
        "```\n",
        "for(variable) in range(CI,CF+1,paso):\n",
        "    Se repite (CF+1-CI)/paso veces una acción.\n",
        "\n",
        "```\n",
        "\n",
        "ESTRCUTURA RESUMIDA DEL (FOR)\n",
        "```\n",
        "for(variable) in range(cantidad):\n",
        "    Se repite cantidad veces una acción.\n",
        "\n",
        "```\n",
        "ETRCUTURA (FOR) COMO INTERACION\n",
        "1. El para (for) itera tantas veces, como leementos tenga la lista\n",
        "2. La variable toma el valor de cada elemento de la lista por intreracion\n",
        "\n",
        "\n",
        "```\n",
        "Lista =[1,2,3,4,5]\n",
        "    Se repite len(Lista)\n",
        "```\n",
        "\n"
      ],
      "metadata": {
        "id": "uv7elYcvREAf"
      }
    },
    {
      "cell_type": "code",
      "execution_count": 5,
      "metadata": {
        "id": "lZ5CvtvVKt9Y",
        "colab": {
          "base_uri": "https://localhost:8080/"
        },
        "outputId": "3d1c7d57-6c16-44e7-a74a-6e247dc40322"
      },
      "outputs": [
        {
          "output_type": "stream",
          "name": "stdout",
          "text": [
            "Digite su numero: 1\n",
            "Tabla del 1\n",
            "1 x 1 = 1\n",
            "2 x 2 = 2\n",
            "3 x 3 = 3\n",
            "4 x 4 = 4\n",
            "5 x 5 = 5\n",
            "6 x 6 = 6\n",
            "7 x 7 = 7\n",
            "8 x 8 = 8\n",
            "9 x 9 = 9\n",
            "10 x 10 = 10\n"
          ]
        }
      ],
      "source": [
        "#Hcaer la tabla de multiplicar del numero (n)\n",
        "n= int(input(\"Digite su numero: \"))\n",
        "print(f\"Tabla del {n}\")\n",
        "for(numeritos) in range(1,11,1):\n",
        "    print(f\"{numeritos} x {numeritos} = {n*numeritos}\")\n",
        "\n"
      ]
    },
    {
      "cell_type": "code",
      "source": [
        "\n",
        "print(\"Tabla del 1 - 10\\n\")\n",
        "print(\"\")\n",
        "for tabla in range(1,11):\n",
        "    print(f\"Tabla del {tabla}\")\n",
        "    for numero in range(1,11):\n",
        "        print(f\" {tabla} x {numero} = {tabla*numero}\")\n",
        "print(\"\")"
      ],
      "metadata": {
        "colab": {
          "base_uri": "https://localhost:8080/"
        },
        "id": "g7EVGkGZVEwq",
        "outputId": "b9fec7b8-ca34-4ba8-e01c-8a01c6ca02bd"
      },
      "execution_count": 19,
      "outputs": [
        {
          "output_type": "stream",
          "name": "stdout",
          "text": [
            "Tabla del 1 - 10\n",
            "\n",
            "\n",
            "Tabla del 1\n",
            " 1 x 1 = 1\n",
            " 1 x 2 = 2\n",
            " 1 x 3 = 3\n",
            " 1 x 4 = 4\n",
            " 1 x 5 = 5\n",
            " 1 x 6 = 6\n",
            " 1 x 7 = 7\n",
            " 1 x 8 = 8\n",
            " 1 x 9 = 9\n",
            " 1 x 10 = 10\n",
            "Tabla del 2\n",
            " 2 x 1 = 2\n",
            " 2 x 2 = 4\n",
            " 2 x 3 = 6\n",
            " 2 x 4 = 8\n",
            " 2 x 5 = 10\n",
            " 2 x 6 = 12\n",
            " 2 x 7 = 14\n",
            " 2 x 8 = 16\n",
            " 2 x 9 = 18\n",
            " 2 x 10 = 20\n",
            "Tabla del 3\n",
            " 3 x 1 = 3\n",
            " 3 x 2 = 6\n",
            " 3 x 3 = 9\n",
            " 3 x 4 = 12\n",
            " 3 x 5 = 15\n",
            " 3 x 6 = 18\n",
            " 3 x 7 = 21\n",
            " 3 x 8 = 24\n",
            " 3 x 9 = 27\n",
            " 3 x 10 = 30\n",
            "Tabla del 4\n",
            " 4 x 1 = 4\n",
            " 4 x 2 = 8\n",
            " 4 x 3 = 12\n",
            " 4 x 4 = 16\n",
            " 4 x 5 = 20\n",
            " 4 x 6 = 24\n",
            " 4 x 7 = 28\n",
            " 4 x 8 = 32\n",
            " 4 x 9 = 36\n",
            " 4 x 10 = 40\n",
            "Tabla del 5\n",
            " 5 x 1 = 5\n",
            " 5 x 2 = 10\n",
            " 5 x 3 = 15\n",
            " 5 x 4 = 20\n",
            " 5 x 5 = 25\n",
            " 5 x 6 = 30\n",
            " 5 x 7 = 35\n",
            " 5 x 8 = 40\n",
            " 5 x 9 = 45\n",
            " 5 x 10 = 50\n",
            "Tabla del 6\n",
            " 6 x 1 = 6\n",
            " 6 x 2 = 12\n",
            " 6 x 3 = 18\n",
            " 6 x 4 = 24\n",
            " 6 x 5 = 30\n",
            " 6 x 6 = 36\n",
            " 6 x 7 = 42\n",
            " 6 x 8 = 48\n",
            " 6 x 9 = 54\n",
            " 6 x 10 = 60\n",
            "Tabla del 7\n",
            " 7 x 1 = 7\n",
            " 7 x 2 = 14\n",
            " 7 x 3 = 21\n",
            " 7 x 4 = 28\n",
            " 7 x 5 = 35\n",
            " 7 x 6 = 42\n",
            " 7 x 7 = 49\n",
            " 7 x 8 = 56\n",
            " 7 x 9 = 63\n",
            " 7 x 10 = 70\n",
            "Tabla del 8\n",
            " 8 x 1 = 8\n",
            " 8 x 2 = 16\n",
            " 8 x 3 = 24\n",
            " 8 x 4 = 32\n",
            " 8 x 5 = 40\n",
            " 8 x 6 = 48\n",
            " 8 x 7 = 56\n",
            " 8 x 8 = 64\n",
            " 8 x 9 = 72\n",
            " 8 x 10 = 80\n",
            "Tabla del 9\n",
            " 9 x 1 = 9\n",
            " 9 x 2 = 18\n",
            " 9 x 3 = 27\n",
            " 9 x 4 = 36\n",
            " 9 x 5 = 45\n",
            " 9 x 6 = 54\n",
            " 9 x 7 = 63\n",
            " 9 x 8 = 72\n",
            " 9 x 9 = 81\n",
            " 9 x 10 = 90\n",
            "Tabla del 10\n",
            " 10 x 1 = 10\n",
            " 10 x 2 = 20\n",
            " 10 x 3 = 30\n",
            " 10 x 4 = 40\n",
            " 10 x 5 = 50\n",
            " 10 x 6 = 60\n",
            " 10 x 7 = 70\n",
            " 10 x 8 = 80\n",
            " 10 x 9 = 90\n",
            " 10 x 10 = 100\n",
            "\n"
          ]
        }
      ]
    },
    {
      "cell_type": "code",
      "source": [
        "print(f\"Tbalas del {n}\")\n",
        "for holitas in range(10):\n",
        "    print(f\"{n} x {holitas+1} = {n*(holitas+1)}\")"
      ],
      "metadata": {
        "colab": {
          "base_uri": "https://localhost:8080/"
        },
        "id": "7mWgc48KYSFf",
        "outputId": "3d1e0f17-c604-4647-cfcc-581c226f17e9"
      },
      "execution_count": 20,
      "outputs": [
        {
          "output_type": "stream",
          "name": "stdout",
          "text": [
            "Tbalas del 1\n",
            "1 x 1 = 1\n",
            "1 x 2 = 2\n",
            "1 x 3 = 3\n",
            "1 x 4 = 4\n",
            "1 x 5 = 5\n",
            "1 x 6 = 6\n",
            "1 x 7 = 7\n",
            "1 x 8 = 8\n",
            "1 x 9 = 9\n",
            "1 x 10 = 10\n"
          ]
        }
      ]
    },
    {
      "cell_type": "code",
      "source": [
        "n= int(input(\"Digite su numero: \"))\n",
        "print(f\"Tabla del {n}\")\n",
        "for(numeritos) in range(1,11*n,n):\n",
        "    print(f\"{n} x {int(numeritos/n)} = {(n)*(int(numeritos/n))}\")\n",
        "\n"
      ],
      "metadata": {
        "colab": {
          "base_uri": "https://localhost:8080/"
        },
        "id": "XbF0weWoZN8-",
        "outputId": "7b2dc302-59a4-4bbd-8acc-5d80d4da665a"
      },
      "execution_count": 60,
      "outputs": [
        {
          "output_type": "stream",
          "name": "stdout",
          "text": [
            "Digite su numero: 3\n",
            "Tabla del 3\n",
            "3 x 0 = 0\n",
            "3 x 1 = 3\n",
            "3 x 2 = 6\n",
            "3 x 3 = 9\n",
            "3 x 4 = 12\n",
            "3 x 5 = 15\n",
            "3 x 6 = 18\n",
            "3 x 7 = 21\n",
            "3 x 8 = 24\n",
            "3 x 9 = 27\n",
            "3 x 10 = 30\n"
          ]
        }
      ]
    },
    {
      "cell_type": "code",
      "source": [
        "numeros=[1,2,3,4,5,6,7,8,9,10]\n",
        "for num in numeros:\n",
        "    print(f\"{n} x {num} = {(n)*(num)}\")\n"
      ],
      "metadata": {
        "colab": {
          "base_uri": "https://localhost:8080/"
        },
        "id": "Yul67w9Rfx54",
        "outputId": "7fb4b393-2460-46e3-c383-c361c59bcf31"
      },
      "execution_count": 61,
      "outputs": [
        {
          "output_type": "stream",
          "name": "stdout",
          "text": [
            "3 x 1 = 3\n",
            "3 x 2 = 6\n",
            "3 x 3 = 9\n",
            "3 x 4 = 12\n",
            "3 x 5 = 15\n",
            "3 x 6 = 18\n",
            "3 x 7 = 21\n",
            "3 x 8 = 24\n",
            "3 x 9 = 27\n",
            "3 x 10 = 30\n"
          ]
        }
      ]
    }
  ]
}