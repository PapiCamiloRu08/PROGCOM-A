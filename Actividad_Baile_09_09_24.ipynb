{
  "nbformat": 4,
  "nbformat_minor": 0,
  "metadata": {
    "colab": {
      "provenance": [],
      "authorship_tag": "ABX9TyMMPie2ezHrwrSO2lFiayCH",
      "include_colab_link": true
    },
    "kernelspec": {
      "name": "python3",
      "display_name": "Python 3"
    },
    "language_info": {
      "name": "python"
    }
  },
  "cells": [
    {
      "cell_type": "markdown",
      "metadata": {
        "id": "view-in-github",
        "colab_type": "text"
      },
      "source": [
        "<a href=\"https://colab.research.google.com/github/PapiCamiloRu08/PROGCOM-A/blob/main/Actividad_Baile_09_09_24.ipynb\" target=\"_parent\"><img src=\"https://colab.research.google.com/assets/colab-badge.svg\" alt=\"Open In Colab\"/></a>"
      ]
    },
    {
      "cell_type": "markdown",
      "source": [
        "##Coreografía de el baile de Golden\n",
        "\n"
      ],
      "metadata": {
        "id": "YWVVPiU51evJ"
      }
    },
    {
      "cell_type": "code",
      "execution_count": 5,
      "metadata": {
        "colab": {
          "base_uri": "https://localhost:8080/"
        },
        "id": "cG5RbMUz09Ej",
        "outputId": "bde1aec7-fafd-404b-cce4-9ca0c4bc3b07"
      },
      "outputs": [
        {
          "output_type": "stream",
          "name": "stdout",
          "text": [
            "Inicia el baile de Golden\n",
            "\n",
            "Movimiento de manitos\n",
            "Movimiento de manitos\n",
            "Subir bracitos\n",
            "Bajar bracitoss\n",
            "Subir bracitos\n",
            "Bajar bracitoss\n",
            "Los participantes se separan, shi\n",
            "Los bailarines forman filas\n",
            "Coordinación grupal\n",
            "Movimiento de manitos\n",
            "Movimiento de manitos\n",
            "Subir bracitos\n",
            "Bajar bracitoss\n",
            "Subir bracitos\n",
            "Bajar bracitoss\n",
            "Los participantes se separan, shi\n",
            "Los bailarines forman filas\n",
            "Coordinación grupal\n",
            "Puente con énfasis en brazos\n",
            "Subir bracitos\n",
            "Bajar bracitoss\n",
            "Subir bracitos\n",
            "Bajar bracitoss\n",
            "Coordinación grupal\n",
            "Pose final de la coreografía, lindos\n",
            "\n",
            "Fin de la coreografía\n"
          ]
        }
      ],
      "source": [
        "import time\n",
        "beat = 0.5\n",
        "def movimiento_manos():\n",
        "    print(\"Movimiento de manitos\")\n",
        "    time.sleep(beat)\n",
        "def subir_bajar_brazos():\n",
        "    print(\"Subir bracitos\")\n",
        "    time.sleep(beat)\n",
        "    print(\"Bajar bracitoss\")\n",
        "    time.sleep(beat)\n",
        "def separacion():\n",
        "    print(\"Los participantes se separan, shi\")\n",
        "    time.sleep(beat)\n",
        "def formacion_filas():\n",
        "    print(\"Los bailarines forman filas\")\n",
        "    time.sleep(beat)\n",
        "def coordinacion():\n",
        "    print(\"Coordinación grupal\")\n",
        "    time.sleep(beat)\n",
        "def cierre():\n",
        "    print(\"Pose final de la coreografía, lindos\")\n",
        "    time.sleep(beat)\n",
        "def combo():\n",
        "    movimiento_manos()\n",
        "    movimiento_manos()\n",
        "    subir_bajar_brazos()\n",
        "    subir_bajar_brazos()\n",
        "    separacion()\n",
        "    formacion_filas()\n",
        "    coordinacion()\n",
        "def coreografia():\n",
        "    print(\"Inicia el baile de Golden\\n\")\n",
        "    combo()\n",
        "    combo()\n",
        "    print(\"Puente con énfasis en brazos\")\n",
        "    subir_bajar_brazos()\n",
        "    subir_bajar_brazos()\n",
        "    coordinacion()\n",
        "    cierre()\n",
        "    print(\"\\nFin de la coreografía\")\n",
        "\n",
        "coreografia()"
      ]
    }
  ]
}