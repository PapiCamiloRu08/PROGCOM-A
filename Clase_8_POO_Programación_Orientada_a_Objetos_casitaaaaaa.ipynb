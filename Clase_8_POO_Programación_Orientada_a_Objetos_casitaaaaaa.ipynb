{
  "nbformat": 4,
  "nbformat_minor": 0,
  "metadata": {
    "colab": {
      "provenance": [],
      "include_colab_link": true
    },
    "kernelspec": {
      "name": "python3",
      "display_name": "Python 3"
    },
    "language_info": {
      "name": "python"
    }
  },
  "cells": [
    {
      "cell_type": "markdown",
      "metadata": {
        "id": "view-in-github",
        "colab_type": "text"
      },
      "source": [
        "<a href=\"https://colab.research.google.com/github/PapiCamiloRu08/PROGCOM-A/blob/main/Clase_8_POO_Programaci%C3%B3n_Orientada_a_Objetos_casitaaaaaa.ipynb\" target=\"_parent\"><img src=\"https://colab.research.google.com/assets/colab-badge.svg\" alt=\"Open In Colab\"/></a>"
      ]
    },
    {
      "cell_type": "code",
      "source": [
        "#Floristeria\n",
        "#1. Cojunto de flores, se elige aleatoriamente una cantidad\n",
        "import random\n",
        "\n",
        "flores=[\"tulipán\",\"lirio\",\"rosa\",\"dahlia\",\"margarita\",\"girasol\",\"clavel\",\"geranio\"]\n",
        "seleccion=random.sample(flores,3)\n",
        "seleccion"
      ],
      "metadata": {
        "colab": {
          "base_uri": "https://localhost:8080/"
        },
        "id": "60DyhuN5Nc6o",
        "outputId": "dd441aee-be68-4b50-a1c9-63ba3655e714"
      },
      "execution_count": 46,
      "outputs": [
        {
          "output_type": "execute_result",
          "data": {
            "text/plain": [
              "['girasol', 'margarita', 'geranio']"
            ]
          },
          "metadata": {},
          "execution_count": 46
        }
      ]
    },
    {
      "cell_type": "code",
      "source": [
        "def inventario():\n",
        "  flores=[\"tulipánes\",\"lirios\",\"rosas\",\"dahlias\",\"margaritas\",\"girasoles\",\"claveles\",\"geranios\"]\n",
        "  seleccion=random.sample(flores,3)\n",
        "\n",
        "  inventario={\n",
        "      flor:{\n",
        "          \"precio\":random.randint(2000,6000),\n",
        "          \"cantidad\":random.randint(10,50),\n",
        "          \"vendidas\":0\n",
        "      } for flor in seleccion\n",
        "      }\n",
        "  return inventario"
      ],
      "metadata": {
        "id": "CguW8T-YOSjO"
      },
      "execution_count": 51,
      "outputs": []
    },
    {
      "cell_type": "code",
      "source": [
        "flor=inventario()\n",
        "flor.items()"
      ],
      "metadata": {
        "colab": {
          "base_uri": "https://localhost:8080/"
        },
        "id": "f6XdaOZgR_GM",
        "outputId": "99a8a760-f1e1-487d-ed4f-210cc30989a1"
      },
      "execution_count": 52,
      "outputs": [
        {
          "output_type": "execute_result",
          "data": {
            "text/plain": [
              "dict_items([('girasoles', {'precio': 5600, 'cantidad': 26, 'vendidas': 0}), ('claveles', {'precio': 2344, 'cantidad': 47, 'vendidas': 0}), ('rosas', {'precio': 3220, 'cantidad': 11, 'vendidas': 0})])"
            ]
          },
          "metadata": {},
          "execution_count": 52
        }
      ]
    },
    {
      "cell_type": "code",
      "source": [
        "inventario()"
      ],
      "metadata": {
        "colab": {
          "base_uri": "https://localhost:8080/"
        },
        "id": "njKFjF0hQHVg",
        "outputId": "ddbce670-94f2-4ce2-9cbc-4ed630f0749f"
      },
      "execution_count": 61,
      "outputs": [
        {
          "output_type": "execute_result",
          "data": {
            "text/plain": [
              "{'lirios': {'precio': 5584, 'cantidad': 17, 'vendidas': 0},\n",
              " 'dahlias': {'precio': 5453, 'cantidad': 21, 'vendidas': 0},\n",
              " 'claveles': {'precio': 2697, 'cantidad': 32, 'vendidas': 0}}"
            ]
          },
          "metadata": {},
          "execution_count": 61
        }
      ]
    },
    {
      "cell_type": "code",
      "source": [
        "def menu(inventario):\n",
        "    print(\"------------Menú de flores disponibles Floristeria Carlitos----------\")\n",
        "    for flor,datos in inventario.items():\n",
        "        print(f\"+{flor}: ${datos['precio']} cant: {datos['cantidad']} disponibles\")\n",
        "    print(\"---------------------------------------------------------------------\")"
      ],
      "metadata": {
        "id": "GXb11sBPQ36s"
      },
      "execution_count": 62,
      "outputs": []
    },
    {
      "cell_type": "code",
      "source": [
        "menu(inventario())"
      ],
      "metadata": {
        "colab": {
          "base_uri": "https://localhost:8080/"
        },
        "id": "EpjqqS9vQUw4",
        "outputId": "4dfff347-9fe7-455b-f7ee-aa4264ca3d9d"
      },
      "execution_count": 71,
      "outputs": [
        {
          "output_type": "stream",
          "name": "stdout",
          "text": [
            "------------Menú de flores disponibles Floristeria Carlitos----------\n",
            "+lirios: $3937 cant: 18 disponibles\n",
            "+girasoles: $4523 cant: 24 disponibles\n",
            "+rosas: $2324 cant: 33 disponibles\n",
            "---------------------------------------------------------------------\n"
          ]
        }
      ]
    },
    {
      "cell_type": "code",
      "source": [
        "def ventas(inventario,flo,total_ganado):\n",
        "  for flor, cantidad in flo.items():\n",
        "    if flor not in inventario:\n",
        "      print(f\"{flor} no se encuentra a la venta jijaija\")\n",
        "      return total_ganado\n",
        "    datos=inventario[flor]\n",
        "    if cantidad>datos[\"cantidad\"]:\n",
        "      print(f\"Lo siento. No tenemos la cantidad solicitada\")\n",
        "      return total_ganado\n",
        "\n",
        "    #Realizando la venta\n",
        "    datos[\"cantidad\"]-=cantidad\n",
        "    datos[\"vendidas\"]+=cantidad\n",
        "    venta = datos[\"precio\"] * cantidad\n",
        "    total_ganado+=venta\n",
        "    print(f\"vendidas: {cantidad} de {flor} por un total de ${venta}\")\n",
        "\n",
        "    #Si se acaba, eliminamos la flor\n",
        "    if datos[\"cantidad\"]==0:\n",
        "      print(f\"{flor} ha sido eliminada del inventario\")\n",
        "      del inventario[flor]\n",
        "  return total_ganado"
      ],
      "metadata": {
        "id": "yjT4ur-oUW67"
      },
      "execution_count": 72,
      "outputs": []
    },
    {
      "cell_type": "code",
      "source": [
        "def cerrar_tienda(inventario_inicial,inventario_final,total_ganado):\n",
        "  print(\"\\n---Tienda Cerrada---\")\n",
        "  #Combinar el inventario inicial con el final para saber cuantas flores se vendieron\n",
        "  flores_vendidas={}\n",
        "  for flor,datos in inventario_inicial.items():\n",
        "    cantidad_final = inventario_final.get(flor,{\"cantidad\":0})[cantidad]\n",
        "    vandidas = datos[\"cantidad\"] - cantidad_final\n",
        "    flores_vendidas[flor] = vendidas\n",
        "\n",
        "    #Determinar cuales fueron las más vendidas\n",
        "    mas_vendidas=max(flores_vendidas,key=flores_vendidas.get)\n",
        "    menos_vendidas=min(flores_vendidas,key=flores_vendidas.get)\n",
        "\n",
        "    print(f\"La flor más vendida es {mas_vendidas}:{flores_vendidas[mas_vendidas]} unidad(es)\")\n",
        "    print(f\"La flor más vendida es {menos_vendidas}:{flores_vendidas[menos_vendidas]} unidad(es)\")"
      ],
      "metadata": {
        "id": "MCiOyGE5YcYQ"
      },
      "execution_count": 73,
      "outputs": []
    },
    {
      "cell_type": "code",
      "source": [
        "flor"
      ],
      "metadata": {
        "colab": {
          "base_uri": "https://localhost:8080/"
        },
        "id": "z138az5Ld77M",
        "outputId": "a58d232c-077c-4843-cfdf-ba0874a5d416"
      },
      "execution_count": 74,
      "outputs": [
        {
          "output_type": "execute_result",
          "data": {
            "text/plain": [
              "{'girasoles': {'precio': 5600, 'cantidad': 26, 'vendidas': 0},\n",
              " 'claveles': {'precio': 2344, 'cantidad': 47, 'vendidas': 0},\n",
              " 'rosas': {'precio': 3220, 'cantidad': 11, 'vendidas': 0}}"
            ]
          },
          "metadata": {},
          "execution_count": 74
        }
      ]
    },
    {
      "cell_type": "code",
      "source": [
        "menu(inventario())"
      ],
      "metadata": {
        "colab": {
          "base_uri": "https://localhost:8080/"
        },
        "id": "lW16ztlBeBq3",
        "outputId": "ecf2079a-453e-4e16-9c03-831bc1ffd4f5"
      },
      "execution_count": 77,
      "outputs": [
        {
          "output_type": "stream",
          "name": "stdout",
          "text": [
            "------------Menú de flores disponibles Floristeria Carlitos----------\n",
            "+claveles: $3492 cant: 16 disponibles\n",
            "+margaritas: $3731 cant: 31 disponibles\n",
            "+rosas: $4757 cant: 42 disponibles\n",
            "---------------------------------------------------------------------\n"
          ]
        }
      ]
    },
    {
      "cell_type": "code",
      "source": [
        "from pickle import STOP\n",
        "import random\n",
        "\n",
        "def inventario():\n",
        "  flores=[\"tulipánes\",\"lirios\",\"rosas\",\"dahlias\",\"margaritas\",\"girasoles\",\"claveles\",\"geranios\"]\n",
        "  seleccion=random.sample(flores,3)\n",
        "\n",
        "  inventario={\n",
        "      flor:{\n",
        "          \"precio\":random.randint(2000,6000),\n",
        "          \"cantidad\":random.randint(10,50),\n",
        "          \"vendidas\":0\n",
        "      } for flor in seleccion\n",
        "      }\n",
        "  return inventario\n",
        "\n",
        "flor=inventario()\n",
        "flor.items()\n",
        "\n",
        "def menu(inventario):\n",
        "  print(\"\\n---Menú de flores disponibles Floresteria Carlitos---\")\n",
        "  for flor,datos in inventario.items():\n",
        "    print(f\"{flor}: ${datos['precio']} cant: {datos['cantidad']} disponibles\")\n",
        "    print(\"--------------------------------------------------------\")\n",
        "\n",
        "def ventas(inventario, flo, total_ganado):\n",
        "  for flor, cantidad in flo.items():\n",
        "    if flor not in inventario:\n",
        "      print(f\"{flor} no se encuentra a la venta jijijija\")\n",
        "      continue\n",
        "    datos=inventario[flor]\n",
        "    if cantidad>datos[\"cantidad\"]:\n",
        "      print(f\"Lo siento. No tenemos la cantidad solicitada de {flor}\")\n",
        "      continue\n",
        "\n",
        "    #Realizando la venta\n",
        "    datos[\"cantidad\"]-=cantidad\n",
        "    datos[\"vendidas\"]+=cantidad\n",
        "    venta = datos[\"precio\"] * cantidad\n",
        "    total_ganado+=venta\n",
        "    print(f\"vendidas: {cantidad} de {flor} por un total de ${venta}\")\n",
        "\n",
        "    #Si se acaba, eliminamos la flor\n",
        "    if datos[\"cantidad\"]==0:\n",
        "      print(f\"{flor} ha sido eliminada del inventario\")\n",
        "      del inventario[flor]\n",
        "  return total_ganado\n",
        "\n",
        "def cerrar_tienda(inventario_inicial,inventario_final,total_ganado):\n",
        "  print(\"\\n---Tienda Cerrada---\")\n",
        "  #Combinar el inventario inicial con el final para saber cuantas flores se vendieron\n",
        "  flores_vendidas = {flor: datos[\"vendidas\"] for flor, datos in inventario_inicial.items()}\n",
        "\n",
        "  #Determinar cuales fueron las más vendidas\n",
        "  mas_vendidas=max(flores_vendidas,key=flores_vendidas.get)\n",
        "  menos_vendidas=min(flores_vendidas,key=flores_vendidas.get)\n",
        "\n",
        "  print(f\"La flor más vendida es {mas_vendidas}:{flores_vendidas[mas_vendidas]} unidad(es)\")\n",
        "  print(f\"La flor menos vendida es {menos_vendidas}:{flores_vendidas[menos_vendidas]} unidad(es)\")\n",
        "\n",
        "#-----Inicio del programa-----\n",
        "\n",
        "print(\"Bienvenido a la Floristeria carlitos\")\n",
        "total_ganado=0 # Moved initialization outside the if block\n",
        "pregunta = input(\"Deseas ver el menu? \")\n",
        "if pregunta == \"si\" or pregunta == \"Si\":\n",
        "  menu(flor)\n",
        "  print(\"\")\n",
        "  flo = {}\n",
        "  while True:\n",
        "    flores_deseadas=int(input(\"De cuantos tipos de flores quieres? \"))\n",
        "    if flores_deseadas > 3:\n",
        "      print(\"Solo manejamos hasta 3 tipos de flores\")\n",
        "      continue\n",
        "    for g in range(1,flores_deseadas+1):\n",
        "      eleccion = input(f\"cual es el {g} tipo de flor que deseas? \")\n",
        "      cuantas = int(input(f\"cuanta/os {eleccion} deseas? \"))\n",
        "      flo.update({eleccion: cuantas})\n",
        "    print(\"\")\n",
        "    salir=input(\"Deseas mas flores? \")\n",
        "    if salir == \"no\":\n",
        "      print(\"Hasta luego\")\n",
        "      break\n",
        "  print(\"Entonces tenemos:\")\n",
        "  total_ganado = ventas(flor,flo,total_ganado) # Assign the returned value back to total_ganado\n",
        "  cerrar_tienda(flor,flor,total_ganado)\n",
        "  print(f\" Total ganado en el día: ${total_ganado}\")\n",
        "else:\n",
        "  print(\"Ok,Muchas gracias por tu visita\")"
      ],
      "metadata": {
        "id": "zUkc48GIflUf",
        "colab": {
          "base_uri": "https://localhost:8080/"
        },
        "outputId": "d0170b4e-ac31-4c5d-f419-26c5882a9c01"
      },
      "execution_count": 84,
      "outputs": [
        {
          "output_type": "stream",
          "name": "stdout",
          "text": [
            "Bienvenido a la Floristeria carlitos\n",
            "Deseas ver el menu? no\n",
            "Ok,Muchas gracias por tu visita\n"
          ]
        }
      ]
    },
    {
      "cell_type": "code",
      "source": [
        "flo"
      ],
      "metadata": {
        "colab": {
          "base_uri": "https://localhost:8080/"
        },
        "id": "B2a94wwTLD8y",
        "outputId": "76dbfd11-0fe2-4421-a185-4af36886ca20"
      },
      "execution_count": 88,
      "outputs": [
        {
          "output_type": "execute_result",
          "data": {
            "text/plain": [
              "{}"
            ]
          },
          "metadata": {},
          "execution_count": 88
        }
      ]
    },
    {
      "cell_type": "code",
      "source": [
        "cerrar_tienda()"
      ],
      "metadata": {
        "colab": {
          "base_uri": "https://localhost:8080/",
          "height": 148
        },
        "id": "kI3fS-vSL2jG",
        "outputId": "d5df8862-9c01-4f0e-e9bd-1aa8393c2156"
      },
      "execution_count": 87,
      "outputs": [
        {
          "output_type": "error",
          "ename": "TypeError",
          "evalue": "cerrar_tienda() missing 3 required positional arguments: 'inventario_inicial', 'inventario_final', and 'total_ganado'",
          "traceback": [
            "\u001b[0;31m---------------------------------------------------------------------------\u001b[0m",
            "\u001b[0;31mTypeError\u001b[0m                                 Traceback (most recent call last)",
            "\u001b[0;32m/tmp/ipython-input-2169302219.py\u001b[0m in \u001b[0;36m<cell line: 0>\u001b[0;34m()\u001b[0m\n\u001b[0;32m----> 1\u001b[0;31m \u001b[0mcerrar_tienda\u001b[0m\u001b[0;34m(\u001b[0m\u001b[0;34m)\u001b[0m\u001b[0;34m\u001b[0m\u001b[0;34m\u001b[0m\u001b[0m\n\u001b[0m",
            "\u001b[0;31mTypeError\u001b[0m: cerrar_tienda() missing 3 required positional arguments: 'inventario_inicial', 'inventario_final', and 'total_ganado'"
          ]
        }
      ]
    },
    {
      "cell_type": "code",
      "source": [
        "from pickle import STOP\n",
        "import random\n",
        "\n",
        "def inventario():\n",
        "  flores=[\"tulipánes\",\"lirios\",\"rosas\",\"dahlias\",\"margaritas\",\"girasoles\",\"claveles\",\"geranios\"]\n",
        "  seleccion=random.sample(flores,3)\n",
        "\n",
        "  inventario={\n",
        "      flor:{\n",
        "          \"precio\":random.randint(2000,6000),\n",
        "          \"cantidad\":random.randint(10,50),\n",
        "          \"vendidas\":0\n",
        "      } for flor in seleccion\n",
        "      }\n",
        "  return inventario\n",
        "\n",
        "flor=inventario()\n",
        "flor.items()\n",
        "\n",
        "def menu(inventario):\n",
        "  print(\"\\n---Menú de flores disponibles Floresteria Carlitos---\")\n",
        "  for flor,datos in inventario.items():\n",
        "    print(f\"{flor}: ${datos['precio']} cant: {datos['cantidad']} disponibles\")\n",
        "    print(\"--------------------------------------------------------\")\n",
        "\n",
        "def ventas(inventario, flo, total_ganado):\n",
        "  for flor, cantidad in flo.items():\n",
        "    if flor not in inventario:\n",
        "      print(f\"{flor} no se encuentra a la venta 🤷‍♂️\")\n",
        "      continue\n",
        "    datos=inventario[flor]\n",
        "    if cantidad>datos[\"cantidad\"]:\n",
        "      print(f\"Lo siento. No tenemos la cantidad solicitada de {flor}\")\n",
        "      continue\n",
        "\n",
        "    #Realizando la venta\n",
        "    datos[\"cantidad\"]-=cantidad\n",
        "    datos[\"vendidas\"]+=cantidad\n",
        "    venta = datos[\"precio\"] * cantidad\n",
        "    total_ganado+=venta\n",
        "    print(f\"vendidas: {cantidad} de {flor} por un total de ${venta}\")\n",
        "\n",
        "    #Si se acaba, eliminamos la flor\n",
        "    if datos[\"cantidad\"]==0:\n",
        "      print(f\"{flor} ha sido eliminada del inventario\")\n",
        "      del inventario[flor]\n",
        "  return total_ganado\n",
        "\n",
        "def cerrar_tienda(inventario_inicial,inventario_final,total_ganado):\n",
        "  print(\"\\n---Tienda Cerrada---\")\n",
        "  #Combinar el inventario inicial con el final para saber cuantas flores se vendieron\n",
        "  flores_vendidas = {flor: datos[\"vendidas\"] for flor, datos in inventario_inicial.items()}\n",
        "\n",
        "  #Determinar cuales fueron las más vendidas\n",
        "  mas_vendidas=max(flores_vendidas,key=flores_vendidas.get)\n",
        "  menos_vendidas=min(flores_vendidas,key=flores_vendidas.get)\n",
        "\n",
        "  print(f\"La flor más vendida es {mas_vendidas}:{flores_vendidas[mas_vendidas]} unidad(es)\")\n",
        "  print(f\"La flor menos vendida es {menos_vendidas}:{flores_vendidas[menos_vendidas]} unidad(es)\")\n",
        "\n",
        "#-----Inicio del programa-----\n",
        "\n",
        "print(\"Bienvenido a la Floristeria carlitos\")\n",
        "pregunta = input(\"Deseas ver el menu? \")\n",
        "if pregunta == \"si\" or pregunta == \"Si\":\n",
        "  menu(flor)\n",
        "  print(\"\")\n",
        "  flo = {}\n",
        "  total_ganado=0\n",
        "  while True:\n",
        "    flores_deseadas=int(input(\"De cuantos tipos de flores quieres? \"))\n",
        "    if flores_deseadas > 3:\n",
        "      print(\"Solo manejamos hasta 3 tipos de flores\")\n",
        "      continue\n",
        "    for g in range(1,flores_deseadas+1):\n",
        "      eleccion = input(f\"cual es el {g} tipo de flor que deseas? \")\n",
        "      cuantas = int(input(f\"cuanta/os {eleccion} deseas? \"))\n",
        "      flo.update({eleccion: cuantas})\n",
        "    print(\"\")\n",
        "    salir=input(\"Deseas mas flores? \")\n",
        "    if salir == \"no\":\n",
        "      print(\"Hasta luego\")\n",
        "      break\n",
        "  print(\"Entonces tenemos:\")\n",
        "  ventas(flor,flo,total_ganado)\n",
        "  cerrar_tienda(flor,flor,total_ganado)\n",
        "  print(f\" Total ganado en el día: ${total_ganado}\")\n",
        "else:\n",
        "  print(\"Ok,Muchas gracias por tu visita\")"
      ],
      "metadata": {
        "colab": {
          "base_uri": "https://localhost:8080/"
        },
        "id": "zVOkzt-nUStu",
        "outputId": "3af22ccf-3749-47c7-abfb-117dc8d8ea5d"
      },
      "execution_count": 89,
      "outputs": [
        {
          "output_type": "stream",
          "name": "stdout",
          "text": [
            "Bienvenido a la Floristeria carlitos\n",
            "Deseas ver el menu? si\n",
            "\n",
            "---Menú de flores disponibles Floresteria Carlitos---\n",
            "lirios: $5409 cant: 37 disponibles\n",
            "--------------------------------------------------------\n",
            "dahlias: $3566 cant: 40 disponibles\n",
            "--------------------------------------------------------\n",
            "claveles: $4099 cant: 13 disponibles\n",
            "--------------------------------------------------------\n",
            "\n",
            "De cuantos tipos de flores quieres? 2\n",
            "cual es el 1 tipo de flor que deseas? tulipanes\n",
            "cuanta/os tulipanes deseas? 3\n",
            "cual es el 2 tipo de flor que deseas? dahlias\n",
            "cuanta/os dahlias deseas? 2\n",
            "\n",
            "Deseas mas flores? no\n",
            "Hasta luego\n",
            "Entonces tenemos:\n",
            "tulipanes no se encuentra a la venta 🤷‍♂️\n",
            "vendidas: 2 de dahlias por un total de $7132\n",
            "\n",
            "---Tienda Cerrada---\n",
            "La flor más vendida es dahlias:2 unidad(es)\n",
            "La flor menos vendida es lirios:0 unidad(es)\n",
            " Total ganado en el día: $0\n"
          ]
        }
      ]
    },
    {
      "cell_type": "code",
      "source": [
        "def describir_estructura():\n",
        "    print(\" ESTRUCTURA DE La Floristería C\")\n",
        "    print(\"La floristería 'La Floristería C' está hecha de papel.\")\n",
        "    print(\"Tiene forma de casa, con paredes lindas y un techo con tejas de alta calidad.\")\n",
        "    print(\"Se puede admirar las flores de adentro desde su puerta, representando que es apto para todo publico y que para que cualquiera que pase, pueda admirar\")\n",
        "\n",
        "def describir_detalles_exteriores():\n",
        "    print(\" DETALLES EXTERIORES\")\n",
        "    print(\"En la parte frontal se observa una entrada, la cual no tiene puerta (represnetando que siempre estamos con la puerta abierta para todos)\")\n",
        "    print(\"En la fachada frontal esta pintada a mano, el nombre de la floristería (La Floristería).\")\n",
        "    print(\"A los lados, las paredes están pintadas con dibujos de plantas, tallos, margenes y ventanas con marcos azules\")\n",
        "    print(\"y en la base se aprecia un tapete azul brillante demostrando originaidadn\")\n",
        "\n",
        "def describir_ventanas():\n",
        "    print(\" VENTANAS Y DECORACIÓN\")\n",
        "    print(\"En los dos costados se encuentran ventanas decorada con margenes azules y encima una campana ara los que compran por la vnetana.\")\n",
        "    print(\"A través de la ventana se puede ver el interior lleno de plantas y flores multicolores.\\n\")\n",
        "\n",
        "def describir_impresion_general():\n",
        "    print(\" IMPRESIÓN\")\n",
        "    print(\"La floristería transmite una sensación artesanal, colonial colombiana, GEOMETRICIDAD respecto a sus patrones azules geometricos.\")\n",
        "    print(\"Los colores pasteles, los detalles florales, diseño geometrico, diseño artesanal reflejan cuidado y dedicación.\")\n",
        "    print(\"Es una maqueta que inspira belleza (fue inspiarada en casa coloniales colombianas (Pueblerina) y en mi mamá)\")\n",
        "\n",
        "def describir_floristeria():\n",
        "    print(\"=== DESCRIPCIÓN DE La Floristería C ===\\n\")\n",
        "    describir_estructura()\n",
        "    describir_detalles_exteriores()\n",
        "    describir_ventanas()\n",
        "    describir_impresion_general()\n",
        "    print(\"=== FIN DE LA DESCRIPCIÓN ===\")\n",
        "\n",
        "describir_floristeria()"
      ],
      "metadata": {
        "id": "zY7GqrcAZrD8"
      },
      "execution_count": null,
      "outputs": []
    }
  ]
}