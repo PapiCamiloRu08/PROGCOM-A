{
  "nbformat": 4,
  "nbformat_minor": 0,
  "metadata": {
    "colab": {
      "provenance": [],
      "include_colab_link": true
    },
    "kernelspec": {
      "name": "python3",
      "display_name": "Python 3"
    },
    "language_info": {
      "name": "python"
    }
  },
  "cells": [
    {
      "cell_type": "markdown",
      "metadata": {
        "id": "view-in-github",
        "colab_type": "text"
      },
      "source": [
        "<a href=\"https://colab.research.google.com/github/PapiCamiloRu08/PROGCOM-A/blob/main/Clase_8_POO_Programaci%C3%B3n_Orientada_a_Objetos_casitaaaaaa.ipynb\" target=\"_parent\"><img src=\"https://colab.research.google.com/assets/colab-badge.svg\" alt=\"Open In Colab\"/></a>"
      ]
    },
    {
      "cell_type": "code",
      "source": [
        "#Floristeria\n",
        "#1. Cojunto de flores, se elige aleatoriamente una cantidad\n",
        "import random\n",
        "\n",
        "flores=[\"tulipán\",\"lirio\",\"rosa\",\"dahlia\",\"margarita\",\"girasol\",\"clavel\",\"geranio\"]\n",
        "seleccion=random.sample(flores,3)\n",
        "seleccion"
      ],
      "metadata": {
        "colab": {
          "base_uri": "https://localhost:8080/"
        },
        "id": "60DyhuN5Nc6o",
        "outputId": "e930fde4-5990-488e-fd85-2ef8b349f496"
      },
      "execution_count": 90,
      "outputs": [
        {
          "output_type": "execute_result",
          "data": {
            "text/plain": [
              "['girasol', 'lirio', 'margarita']"
            ]
          },
          "metadata": {},
          "execution_count": 90
        }
      ]
    },
    {
      "cell_type": "code",
      "source": [
        "def inventario():\n",
        "  flores=[\"tulipánes\",\"lirios\",\"rosas\",\"dahlias\",\"margaritas\",\"girasoles\",\"claveles\",\"geranios\"]\n",
        "  seleccion=random.sample(flores,3)\n",
        "\n",
        "  inventario={\n",
        "      flor:{\n",
        "          \"precio\":random.randint(2000,6000),\n",
        "          \"cantidad\":random.randint(10,50),\n",
        "          \"vendidas\":0\n",
        "      } for flor in seleccion\n",
        "      }\n",
        "  return inventario"
      ],
      "metadata": {
        "id": "CguW8T-YOSjO"
      },
      "execution_count": 91,
      "outputs": []
    },
    {
      "cell_type": "code",
      "source": [
        "flor=inventario()\n",
        "flor.items()"
      ],
      "metadata": {
        "colab": {
          "base_uri": "https://localhost:8080/"
        },
        "id": "f6XdaOZgR_GM",
        "outputId": "697fec69-7c8b-41b8-f4f9-4db629fc5aae"
      },
      "execution_count": 92,
      "outputs": [
        {
          "output_type": "execute_result",
          "data": {
            "text/plain": [
              "dict_items([('margaritas', {'precio': 2017, 'cantidad': 10, 'vendidas': 0}), ('claveles', {'precio': 2822, 'cantidad': 24, 'vendidas': 0}), ('girasoles', {'precio': 3498, 'cantidad': 47, 'vendidas': 0})])"
            ]
          },
          "metadata": {},
          "execution_count": 92
        }
      ]
    },
    {
      "cell_type": "code",
      "source": [
        "inventario()"
      ],
      "metadata": {
        "colab": {
          "base_uri": "https://localhost:8080/"
        },
        "id": "njKFjF0hQHVg",
        "outputId": "64eb46bd-edbf-47bf-bf0a-14f3d83e7538"
      },
      "execution_count": 93,
      "outputs": [
        {
          "output_type": "execute_result",
          "data": {
            "text/plain": [
              "{'lirios': {'precio': 5426, 'cantidad': 16, 'vendidas': 0},\n",
              " 'tulipánes': {'precio': 3754, 'cantidad': 38, 'vendidas': 0},\n",
              " 'geranios': {'precio': 3047, 'cantidad': 50, 'vendidas': 0}}"
            ]
          },
          "metadata": {},
          "execution_count": 93
        }
      ]
    },
    {
      "cell_type": "code",
      "source": [
        "def menu(inventario):\n",
        "    print(\"------------Menú de flores disponibles Floristeria Carlitos----------\")\n",
        "    for flor,datos in inventario.items():\n",
        "        print(f\"+{flor}: ${datos['precio']} cant: {datos['cantidad']} disponibles\")\n",
        "    print(\"---------------------------------------------------------------------\")"
      ],
      "metadata": {
        "id": "GXb11sBPQ36s"
      },
      "execution_count": 94,
      "outputs": []
    },
    {
      "cell_type": "code",
      "source": [
        "menu(inventario())"
      ],
      "metadata": {
        "colab": {
          "base_uri": "https://localhost:8080/"
        },
        "id": "EpjqqS9vQUw4",
        "outputId": "51ee80b9-387e-4440-abfd-5dab628e3ab8"
      },
      "execution_count": 95,
      "outputs": [
        {
          "output_type": "stream",
          "name": "stdout",
          "text": [
            "------------Menú de flores disponibles Floristeria Carlitos----------\n",
            "+margaritas: $3504 cant: 27 disponibles\n",
            "+claveles: $4630 cant: 11 disponibles\n",
            "+dahlias: $5282 cant: 42 disponibles\n",
            "---------------------------------------------------------------------\n"
          ]
        }
      ]
    },
    {
      "cell_type": "code",
      "source": [
        "def ventas(inventario,flo,total_ganado):\n",
        "  for flor, cantidad in flo.items():\n",
        "    if flor not in inventario:\n",
        "      print(f\"{flor} no se encuentra a la venta jijaija\")\n",
        "      return total_ganado\n",
        "    datos=inventario[flor]\n",
        "    if cantidad>datos[\"cantidad\"]:\n",
        "      print(f\"Lo siento. No tenemos la cantidad solicitada\")\n",
        "      return total_ganado\n",
        "\n",
        "    #Realizando la venta\n",
        "    datos[\"cantidad\"]-=cantidad\n",
        "    datos[\"vendidas\"]+=cantidad\n",
        "    venta = datos[\"precio\"] * cantidad\n",
        "    total_ganado+=venta\n",
        "    print(f\"vendidas: {cantidad} de {flor} por un total de ${venta}\")\n",
        "\n",
        "    #Si se acaba, eliminamos la flor\n",
        "    if datos[\"cantidad\"]==0:\n",
        "      print(f\"{flor} ha sido eliminada del inventario\")\n",
        "      del inventario[flor]\n",
        "  return total_ganado"
      ],
      "metadata": {
        "id": "yjT4ur-oUW67"
      },
      "execution_count": 96,
      "outputs": []
    },
    {
      "cell_type": "code",
      "source": [
        "def cerrar_tienda(inventario_inicial,inventario_final,total_ganado):\n",
        "  print(\"\\n---Tienda Cerrada---\")\n",
        "  #Combinar el inventario inicial con el final para saber cuantas flores se vendieron\n",
        "  flores_vendidas={}\n",
        "  for flor,datos in inventario_inicial.items():\n",
        "    cantidad_final = inventario_final.get(flor,{\"cantidad\":0})[cantidad]\n",
        "    vandidas = datos[\"cantidad\"] - cantidad_final\n",
        "    flores_vendidas[flor] = vendidas\n",
        "\n",
        "    #Determinar cuales fueron las más vendidas\n",
        "    mas_vendidas=max(flores_vendidas,key=flores_vendidas.get)\n",
        "    menos_vendidas=min(flores_vendidas,key=flores_vendidas.get)\n",
        "\n",
        "    print(f\"La flor más vendida es {mas_vendidas}:{flores_vendidas[mas_vendidas]} unidad(es)\")\n",
        "    print(f\"La flor más vendida es {menos_vendidas}:{flores_vendidas[menos_vendidas]} unidad(es)\")"
      ],
      "metadata": {
        "id": "MCiOyGE5YcYQ"
      },
      "execution_count": 97,
      "outputs": []
    },
    {
      "cell_type": "code",
      "source": [
        "flor"
      ],
      "metadata": {
        "colab": {
          "base_uri": "https://localhost:8080/"
        },
        "id": "z138az5Ld77M",
        "outputId": "f19b21f2-3908-4680-e5ff-031f42aff346"
      },
      "execution_count": 98,
      "outputs": [
        {
          "output_type": "execute_result",
          "data": {
            "text/plain": [
              "{'margaritas': {'precio': 2017, 'cantidad': 10, 'vendidas': 0},\n",
              " 'claveles': {'precio': 2822, 'cantidad': 24, 'vendidas': 0},\n",
              " 'girasoles': {'precio': 3498, 'cantidad': 47, 'vendidas': 0}}"
            ]
          },
          "metadata": {},
          "execution_count": 98
        }
      ]
    },
    {
      "cell_type": "code",
      "source": [
        "menu(inventario())"
      ],
      "metadata": {
        "colab": {
          "base_uri": "https://localhost:8080/"
        },
        "id": "lW16ztlBeBq3",
        "outputId": "2d18c0d6-867f-4a6f-96b0-6dcfdf464cc4"
      },
      "execution_count": 99,
      "outputs": [
        {
          "output_type": "stream",
          "name": "stdout",
          "text": [
            "------------Menú de flores disponibles Floristeria Carlitos----------\n",
            "+girasoles: $4872 cant: 27 disponibles\n",
            "+lirios: $5832 cant: 14 disponibles\n",
            "+dahlias: $4548 cant: 29 disponibles\n",
            "---------------------------------------------------------------------\n"
          ]
        }
      ]
    },
    {
      "cell_type": "code",
      "source": [
        "from pickle import STOP\n",
        "import random\n",
        "\n",
        "def inventario():\n",
        "  flores=[\"tulipánes\",\"lirios\",\"rosas\",\"dahlias\",\"margaritas\",\"girasoles\",\"claveles\",\"geranios\"]\n",
        "  seleccion=random.sample(flores,3)\n",
        "\n",
        "  inventario={\n",
        "      flor:{\n",
        "          \"precio\":random.randint(2000,6000),\n",
        "          \"cantidad\":random.randint(10,50),\n",
        "          \"vendidas\":0\n",
        "      } for flor in seleccion\n",
        "      }\n",
        "  return inventario\n",
        "\n",
        "flor=inventario()\n",
        "flor.items()\n",
        "\n",
        "def menu(inventario):\n",
        "  print(\"\\n---Menú de flores disponibles Floresteria Carlitos---\")\n",
        "  for flor,datos in inventario.items():\n",
        "    print(f\"{flor}: ${datos['precio']} cant: {datos['cantidad']} disponibles\")\n",
        "    print(\"--------------------------------------------------------\")\n",
        "\n",
        "def ventas(inventario, flo, total_ganado):\n",
        "  for flor, cantidad in flo.items():\n",
        "    if flor not in inventario:\n",
        "      print(f\"{flor} no se encuentra a la venta jijijija\")\n",
        "      continue\n",
        "    datos=inventario[flor]\n",
        "    if cantidad>datos[\"cantidad\"]:\n",
        "      print(f\"Lo siento. No tenemos la cantidad solicitada de {flor}\")\n",
        "      continue\n",
        "\n",
        "    #Realizando la venta\n",
        "    datos[\"cantidad\"]-=cantidad\n",
        "    datos[\"vendidas\"]+=cantidad\n",
        "    venta = datos[\"precio\"] * cantidad\n",
        "    total_ganado+=venta\n",
        "    print(f\"vendidas: {cantidad} de {flor} por un total de ${venta}\")\n",
        "\n",
        "    #Si se acaba, eliminamos la flor\n",
        "    if datos[\"cantidad\"]==0:\n",
        "      print(f\"{flor} ha sido eliminada del inventario\")\n",
        "      del inventario[flor]\n",
        "  return total_ganado\n",
        "\n",
        "def cerrar_tienda(inventario_inicial,inventario_final,total_ganado):\n",
        "  print(\"\\n---Tienda Cerrada---\")\n",
        "  #Combinar el inventario inicial con el final para saber cuantas flores se vendieron\n",
        "  flores_vendidas = {flor: datos[\"vendidas\"] for flor, datos in inventario_inicial.items()}\n",
        "\n",
        "  #Determinar cuales fueron las más vendidas\n",
        "  mas_vendidas=max(flores_vendidas,key=flores_vendidas.get)\n",
        "  menos_vendidas=min(flores_vendidas,key=flores_vendidas.get)\n",
        "\n",
        "  print(f\"La flor más vendida es {mas_vendidas}:{flores_vendidas[mas_vendidas]} unidad(es)\")\n",
        "  print(f\"La flor menos vendida es {menos_vendidas}:{flores_vendidas[menos_vendidas]} unidad(es)\")\n",
        "\n",
        "#-----Inicio del programa-----\n",
        "\n",
        "print(\"Bienvenido a la Floristeria carlitos\")\n",
        "total_ganado=0 # Moved initialization outside the if block\n",
        "pregunta = input(\"Deseas ver el menu? \")\n",
        "if pregunta == \"si\" or pregunta == \"Si\":\n",
        "  menu(flor)\n",
        "  print(\"\")\n",
        "  flo = {}\n",
        "  while True:\n",
        "    flores_deseadas=int(input(\"De cuantos tipos de flores quieres? \"))\n",
        "    if flores_deseadas > 3:\n",
        "      print(\"Solo manejamos hasta 3 tipos de flores\")\n",
        "      continue\n",
        "    for g in range(1,flores_deseadas+1):\n",
        "      eleccion = input(f\"cual es el {g} tipo de flor que deseas? \")\n",
        "      cuantas = int(input(f\"cuanta/os {eleccion} deseas? \"))\n",
        "      flo.update({eleccion: cuantas})\n",
        "    print(\"\")\n",
        "    salir=input(\"Deseas mas flores? \")\n",
        "    if salir == \"no\":\n",
        "      print(\"Hasta luego\")\n",
        "      break\n",
        "  print(\"Entonces tenemos:\")\n",
        "  total_ganado = ventas(flor,flo,total_ganado) # Assign the returned value back to total_ganado\n",
        "  cerrar_tienda(flor,flor,total_ganado)\n",
        "  print(f\" Total ganado en el día: ${total_ganado}\")\n",
        "else:\n",
        "  print(\"Ok,Muchas gracias por tu visita\")"
      ],
      "metadata": {
        "id": "zUkc48GIflUf",
        "colab": {
          "base_uri": "https://localhost:8080/",
          "height": 480
        },
        "outputId": "5b740d4a-248c-4751-97b3-954e782ad889"
      },
      "execution_count": 101,
      "outputs": [
        {
          "name": "stdout",
          "output_type": "stream",
          "text": [
            "Bienvenido a la Floristeria carlitos\n",
            "Deseas ver el menu? si\n",
            "\n",
            "---Menú de flores disponibles Floresteria Carlitos---\n",
            "geranios: $5706 cant: 40 disponibles\n",
            "--------------------------------------------------------\n",
            "tulipánes: $4702 cant: 22 disponibles\n",
            "--------------------------------------------------------\n",
            "claveles: $5929 cant: 23 disponibles\n",
            "--------------------------------------------------------\n",
            "\n",
            "De cuantos tipos de flores quieres? 3\n",
            "cual es el 1 tipo de flor que deseas? tulipanes\n",
            "cuanta/os tulipanes deseas? dahlia\n"
          ]
        },
        {
          "output_type": "error",
          "ename": "ValueError",
          "evalue": "invalid literal for int() with base 10: 'dahlia'",
          "traceback": [
            "\u001b[0;31m---------------------------------------------------------------------------\u001b[0m",
            "\u001b[0;31mValueError\u001b[0m                                Traceback (most recent call last)",
            "\u001b[0;32m/tmp/ipython-input-110131512.py\u001b[0m in \u001b[0;36m<cell line: 0>\u001b[0;34m()\u001b[0m\n\u001b[1;32m     75\u001b[0m     \u001b[0;32mfor\u001b[0m \u001b[0mg\u001b[0m \u001b[0;32min\u001b[0m \u001b[0mrange\u001b[0m\u001b[0;34m(\u001b[0m\u001b[0;36m1\u001b[0m\u001b[0;34m,\u001b[0m\u001b[0mflores_deseadas\u001b[0m\u001b[0;34m+\u001b[0m\u001b[0;36m1\u001b[0m\u001b[0;34m)\u001b[0m\u001b[0;34m:\u001b[0m\u001b[0;34m\u001b[0m\u001b[0;34m\u001b[0m\u001b[0m\n\u001b[1;32m     76\u001b[0m       \u001b[0meleccion\u001b[0m \u001b[0;34m=\u001b[0m \u001b[0minput\u001b[0m\u001b[0;34m(\u001b[0m\u001b[0;34mf\"cual es el {g} tipo de flor que deseas? \"\u001b[0m\u001b[0;34m)\u001b[0m\u001b[0;34m\u001b[0m\u001b[0;34m\u001b[0m\u001b[0m\n\u001b[0;32m---> 77\u001b[0;31m       \u001b[0mcuantas\u001b[0m \u001b[0;34m=\u001b[0m \u001b[0mint\u001b[0m\u001b[0;34m(\u001b[0m\u001b[0minput\u001b[0m\u001b[0;34m(\u001b[0m\u001b[0;34mf\"cuanta/os {eleccion} deseas? \"\u001b[0m\u001b[0;34m)\u001b[0m\u001b[0;34m)\u001b[0m\u001b[0;34m\u001b[0m\u001b[0;34m\u001b[0m\u001b[0m\n\u001b[0m\u001b[1;32m     78\u001b[0m       \u001b[0mflo\u001b[0m\u001b[0;34m.\u001b[0m\u001b[0mupdate\u001b[0m\u001b[0;34m(\u001b[0m\u001b[0;34m{\u001b[0m\u001b[0meleccion\u001b[0m\u001b[0;34m:\u001b[0m \u001b[0mcuantas\u001b[0m\u001b[0;34m}\u001b[0m\u001b[0;34m)\u001b[0m\u001b[0;34m\u001b[0m\u001b[0;34m\u001b[0m\u001b[0m\n\u001b[1;32m     79\u001b[0m     \u001b[0mprint\u001b[0m\u001b[0;34m(\u001b[0m\u001b[0;34m\"\"\u001b[0m\u001b[0;34m)\u001b[0m\u001b[0;34m\u001b[0m\u001b[0;34m\u001b[0m\u001b[0m\n",
            "\u001b[0;31mValueError\u001b[0m: invalid literal for int() with base 10: 'dahlia'"
          ]
        }
      ]
    },
    {
      "cell_type": "code",
      "source": [
        "flo"
      ],
      "metadata": {
        "colab": {
          "base_uri": "https://localhost:8080/"
        },
        "id": "B2a94wwTLD8y",
        "outputId": "76dbfd11-0fe2-4421-a185-4af36886ca20"
      },
      "execution_count": 88,
      "outputs": [
        {
          "output_type": "execute_result",
          "data": {
            "text/plain": [
              "{}"
            ]
          },
          "metadata": {},
          "execution_count": 88
        }
      ]
    },
    {
      "cell_type": "code",
      "source": [
        "cerrar_tienda()"
      ],
      "metadata": {
        "colab": {
          "base_uri": "https://localhost:8080/",
          "height": 148
        },
        "id": "kI3fS-vSL2jG",
        "outputId": "d5df8862-9c01-4f0e-e9bd-1aa8393c2156"
      },
      "execution_count": 87,
      "outputs": [
        {
          "output_type": "error",
          "ename": "TypeError",
          "evalue": "cerrar_tienda() missing 3 required positional arguments: 'inventario_inicial', 'inventario_final', and 'total_ganado'",
          "traceback": [
            "\u001b[0;31m---------------------------------------------------------------------------\u001b[0m",
            "\u001b[0;31mTypeError\u001b[0m                                 Traceback (most recent call last)",
            "\u001b[0;32m/tmp/ipython-input-2169302219.py\u001b[0m in \u001b[0;36m<cell line: 0>\u001b[0;34m()\u001b[0m\n\u001b[0;32m----> 1\u001b[0;31m \u001b[0mcerrar_tienda\u001b[0m\u001b[0;34m(\u001b[0m\u001b[0;34m)\u001b[0m\u001b[0;34m\u001b[0m\u001b[0;34m\u001b[0m\u001b[0m\n\u001b[0m",
            "\u001b[0;31mTypeError\u001b[0m: cerrar_tienda() missing 3 required positional arguments: 'inventario_inicial', 'inventario_final', and 'total_ganado'"
          ]
        }
      ]
    },
    {
      "cell_type": "code",
      "source": [
        "from pickle import STOP\n",
        "import random\n",
        "\n",
        "def inventario():\n",
        "  flores=[\"tulipánes\",\"lirios\",\"rosas\",\"dahlias\",\"margaritas\",\"girasoles\",\"claveles\",\"geranios\"]\n",
        "  seleccion=random.sample(flores,3)\n",
        "\n",
        "  inventario={\n",
        "      flor:{\n",
        "          \"precio\":random.randint(2000,6000),\n",
        "          \"cantidad\":random.randint(10,50),\n",
        "          \"vendidas\":0\n",
        "      } for flor in seleccion\n",
        "      }\n",
        "  return inventario\n",
        "\n",
        "flor=inventario()\n",
        "flor.items()\n",
        "\n",
        "def menu(inventario):\n",
        "  print(\"\\n---Menú de flores disponibles Floresteria Carlitos---\")\n",
        "  for flor,datos in inventario.items():\n",
        "    print(f\"{flor}: ${datos['precio']} cant: {datos['cantidad']} disponibles\")\n",
        "    print(\"--------------------------------------------------------\")\n",
        "\n",
        "def ventas(inventario, flo, total_ganado):\n",
        "  for flor, cantidad in flo.items():\n",
        "    if flor not in inventario:\n",
        "      print(f\"{flor} no se encuentra a la venta jiajiaji\")\n",
        "      continue\n",
        "    datos=inventario[flor]\n",
        "    if cantidad>datos[\"cantidad\"]:\n",
        "      print(f\"Lo siento. No tenemos la cantidad solicitada de {flor}\")\n",
        "      continue\n",
        "\n",
        "    #Realizando la venta\n",
        "    datos[\"cantidad\"]-=cantidad\n",
        "    datos[\"vendidas\"]+=cantidad\n",
        "    venta = datos[\"precio\"] * cantidad\n",
        "    total_ganado+=venta\n",
        "    print(f\"vendidas: {cantidad} de {flor} por un total de ${venta}\")\n",
        "\n",
        "    #Si se acaba, eliminamos la flor\n",
        "    if datos[\"cantidad\"]==0:\n",
        "      print(f\"{flor} ha sido eliminada del inventario\")\n",
        "      del inventario[flor]\n",
        "  return total_ganado\n",
        "\n",
        "def cerrar_tienda(inventario_inicial,inventario_final,total_ganado):\n",
        "  print(\"\\n---Tienda Cerrada---\")\n",
        "  #Combinar el inventario inicial con el final para saber cuantas flores se vendieron\n",
        "  flores_vendidas = {flor: datos[\"vendidas\"] for flor, datos in inventario_inicial.items()}\n",
        "\n",
        "  #Determinar cuales fueron las más vendidas\n",
        "  mas_vendidas=max(flores_vendidas,key=flores_vendidas.get)\n",
        "  menos_vendidas=min(flores_vendidas,key=flores_vendidas.get)\n",
        "\n",
        "  print(f\"La flor más vendida es {mas_vendidas}:{flores_vendidas[mas_vendidas]} unidad(es)\")\n",
        "  print(f\"La flor menos vendida es {menos_vendidas}:{flores_vendidas[menos_vendidas]} unidad(es)\")\n",
        "\n",
        "#-----Inicio del programa-----\n",
        "\n",
        "print(\"Bienvenido a la Floristeria carlitos\")\n",
        "pregunta = input(\"Deseas ver el menu? \")\n",
        "if pregunta == \"si\" or pregunta == \"Si\":\n",
        "  menu(flor)\n",
        "  print(\"\")\n",
        "  flo = {}\n",
        "  total_ganado=0\n",
        "  while True:\n",
        "    flores_deseadas=int(input(\"De cuantos tipos de flores quieres? \"))\n",
        "    if flores_deseadas > 3:\n",
        "      print(\"Solo manejamos hasta 3 tipos de flores\")\n",
        "      continue\n",
        "    for g in range(1,flores_deseadas+1):\n",
        "      eleccion = input(f\"cual es el {g} tipo de flor que deseas? \")\n",
        "      cuantas = int(input(f\"cuanta/os {eleccion} deseas? \"))\n",
        "      flo.update({eleccion: cuantas})\n",
        "    print(\"\")\n",
        "    salir=input(\"Deseas mas flores? \")\n",
        "    if salir == \"no\":\n",
        "      print(\"Hasta luego\")\n",
        "      break\n",
        "  print(\"Entonces tenemos:\")\n",
        "  ventas(flor,flo,total_ganado)\n",
        "  cerrar_tienda(flor,flor,total_ganado)\n",
        "  print(f\" Total ganado en el día: ${total_ganado}\")\n",
        "else:\n",
        "  print(\"Ok,Muchas gracias por tu visita\")"
      ],
      "metadata": {
        "colab": {
          "base_uri": "https://localhost:8080/",
          "height": 517
        },
        "id": "zVOkzt-nUStu",
        "outputId": "37946f4e-2d9b-49db-cb8d-2ed33548f3f0"
      },
      "execution_count": 102,
      "outputs": [
        {
          "name": "stdout",
          "output_type": "stream",
          "text": [
            "Bienvenido a la Floristeria carlitos\n",
            "Deseas ver el menu? si\n",
            "\n",
            "---Menú de flores disponibles Floresteria Carlitos---\n",
            "dahlias: $4468 cant: 37 disponibles\n",
            "--------------------------------------------------------\n",
            "tulipánes: $5703 cant: 37 disponibles\n",
            "--------------------------------------------------------\n",
            "geranios: $2823 cant: 11 disponibles\n",
            "--------------------------------------------------------\n",
            "\n",
            "De cuantos tipos de flores quieres? 4\n",
            "Solo manejamos hasta 3 tipos de flores\n",
            "De cuantos tipos de flores quieres? 3\n",
            "cual es el 1 tipo de flor que deseas? dahlia\n",
            "cuanta/os dahlia deseas? tulipanes\n"
          ]
        },
        {
          "output_type": "error",
          "ename": "ValueError",
          "evalue": "invalid literal for int() with base 10: 'tulipanes'",
          "traceback": [
            "\u001b[0;31m---------------------------------------------------------------------------\u001b[0m",
            "\u001b[0;31mValueError\u001b[0m                                Traceback (most recent call last)",
            "\u001b[0;32m/tmp/ipython-input-41716339.py\u001b[0m in \u001b[0;36m<cell line: 0>\u001b[0;34m()\u001b[0m\n\u001b[1;32m     75\u001b[0m     \u001b[0;32mfor\u001b[0m \u001b[0mg\u001b[0m \u001b[0;32min\u001b[0m \u001b[0mrange\u001b[0m\u001b[0;34m(\u001b[0m\u001b[0;36m1\u001b[0m\u001b[0;34m,\u001b[0m\u001b[0mflores_deseadas\u001b[0m\u001b[0;34m+\u001b[0m\u001b[0;36m1\u001b[0m\u001b[0;34m)\u001b[0m\u001b[0;34m:\u001b[0m\u001b[0;34m\u001b[0m\u001b[0;34m\u001b[0m\u001b[0m\n\u001b[1;32m     76\u001b[0m       \u001b[0meleccion\u001b[0m \u001b[0;34m=\u001b[0m \u001b[0minput\u001b[0m\u001b[0;34m(\u001b[0m\u001b[0;34mf\"cual es el {g} tipo de flor que deseas? \"\u001b[0m\u001b[0;34m)\u001b[0m\u001b[0;34m\u001b[0m\u001b[0;34m\u001b[0m\u001b[0m\n\u001b[0;32m---> 77\u001b[0;31m       \u001b[0mcuantas\u001b[0m \u001b[0;34m=\u001b[0m \u001b[0mint\u001b[0m\u001b[0;34m(\u001b[0m\u001b[0minput\u001b[0m\u001b[0;34m(\u001b[0m\u001b[0;34mf\"cuanta/os {eleccion} deseas? \"\u001b[0m\u001b[0;34m)\u001b[0m\u001b[0;34m)\u001b[0m\u001b[0;34m\u001b[0m\u001b[0;34m\u001b[0m\u001b[0m\n\u001b[0m\u001b[1;32m     78\u001b[0m       \u001b[0mflo\u001b[0m\u001b[0;34m.\u001b[0m\u001b[0mupdate\u001b[0m\u001b[0;34m(\u001b[0m\u001b[0;34m{\u001b[0m\u001b[0meleccion\u001b[0m\u001b[0;34m:\u001b[0m \u001b[0mcuantas\u001b[0m\u001b[0;34m}\u001b[0m\u001b[0;34m)\u001b[0m\u001b[0;34m\u001b[0m\u001b[0;34m\u001b[0m\u001b[0m\n\u001b[1;32m     79\u001b[0m     \u001b[0mprint\u001b[0m\u001b[0;34m(\u001b[0m\u001b[0;34m\"\"\u001b[0m\u001b[0;34m)\u001b[0m\u001b[0;34m\u001b[0m\u001b[0;34m\u001b[0m\u001b[0m\n",
            "\u001b[0;31mValueError\u001b[0m: invalid literal for int() with base 10: 'tulipanes'"
          ]
        }
      ]
    },
    {
      "cell_type": "code",
      "source": [
        "def describir_estructura():\n",
        "    print(\" ESTRUCTURA DE La Floristería C\")\n",
        "    print(\"La floristería 'La Floristería C' está hecha de papel.\")\n",
        "    print(\"Tiene forma de casa, con paredes lindas y un techo con tejas de alta calidad.\")\n",
        "    print(\"Se puede admirar las flores de adentro desde su puerta, representando que es apto para todo publico y que para que cualquiera que pase, pueda admirar\")\n",
        "\n",
        "def describir_detalles_exteriores():\n",
        "    print(\" DETALLES EXTERIORES\")\n",
        "    print(\"En la parte frontal se observa una entrada, la cual no tiene puerta (represnetando que siempre estamos con la puerta abierta para todos)\")\n",
        "    print(\"En la fachada frontal esta pintada a mano, el nombre de la floristería (La Floristería).\")\n",
        "    print(\"A los lados, las paredes están pintadas con dibujos de plantas, tallos, margenes y ventanas con marcos azules\")\n",
        "    print(\"y en la base se aprecia un tapete azul brillante demostrando originaidadn\")\n",
        "\n",
        "def describir_ventanas():\n",
        "    print(\" VENTANAS Y DECORACIÓN\")\n",
        "    print(\"En los dos costados se encuentran ventanas decorada con margenes azules y encima una campana ara los que compran por la vnetana.\")\n",
        "    print(\"A través de la ventana se puede ver el interior lleno de plantas y flores multicolores.\\n\")\n",
        "\n",
        "def describir_impresion_general():\n",
        "    print(\" IMPRESIÓN\")\n",
        "    print(\"La floristería transmite una sensación artesanal, colonial colombiana, GEOMETRICIDAD respecto a sus patrones azules geometricos.\")\n",
        "    print(\"Los colores pasteles, los detalles florales, diseño geometrico, diseño artesanal reflejan cuidado y dedicación.\")\n",
        "    print(\"Es una maqueta que inspira belleza (fue inspiarada en casa coloniales colombianas (Pueblerina) y en mi mamá)\")\n",
        "\n",
        "def describir_floristeria():\n",
        "    print(\"=== DESCRIPCIÓN DE La Floristería C ===\\n\")\n",
        "    describir_estructura()\n",
        "    describir_detalles_exteriores()\n",
        "    describir_ventanas()\n",
        "    describir_impresion_general()\n",
        "    print(\"=== FIN DE LA DESCRIPCIÓN ===\")\n",
        "\n",
        "describir_floristeria()"
      ],
      "metadata": {
        "id": "zY7GqrcAZrD8"
      },
      "execution_count": null,
      "outputs": []
    }
  ]
}