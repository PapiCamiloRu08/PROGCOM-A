{
  "nbformat": 4,
  "nbformat_minor": 0,
  "metadata": {
    "colab": {
      "provenance": [],
      "include_colab_link": true
    },
    "kernelspec": {
      "name": "python3",
      "display_name": "Python 3"
    },
    "language_info": {
      "name": "python"
    }
  },
  "cells": [
    {
      "cell_type": "markdown",
      "metadata": {
        "id": "view-in-github",
        "colab_type": "text"
      },
      "source": [
        "<a href=\"https://colab.research.google.com/github/PapiCamiloRu08/PROGCOM-A/blob/main/Repositorio_CQ7_(CHEMS_QUEST_SEVEN)%20nuevaaaaaaaaaaaaaaaaaaaa.ipynb\" target=\"_parent\"><img src=\"https://colab.research.google.com/assets/colab-badge.svg\" alt=\"Open In Colab\"/></a>"
      ]
    },
    {
      "cell_type": "markdown",
      "source": [
        "##1. False\n",
        "Valor booleano que represneta un falso"
      ],
      "metadata": {
        "id": "2IiWjm7CMSvT"
      }
    },
    {
      "cell_type": "code",
      "execution_count": null,
      "metadata": {
        "colab": {
          "base_uri": "https://localhost:8080/"
        },
        "id": "9YxdxW6CL752",
        "outputId": "1465be0a-cb57-43f8-92fe-994d8acb6c80"
      },
      "outputs": [
        {
          "output_type": "stream",
          "name": "stdout",
          "text": [
            "Es falso\n"
          ]
        }
      ],
      "source": [
        "n = False\n",
        "if not n:\n",
        "    print(\"Es falso\")"
      ]
    },
    {
      "cell_type": "markdown",
      "source": [
        "##2. None\n",
        "Represneta la ausencia de un valor, o que no hay nada(nulo)"
      ],
      "metadata": {
        "id": "Wo2dzbexNIxs"
      }
    },
    {
      "cell_type": "code",
      "source": [
        "ola=None\n",
        "print(ola)"
      ],
      "metadata": {
        "colab": {
          "base_uri": "https://localhost:8080/"
        },
        "id": "DiOe2N8LNQ6z",
        "outputId": "b4f4f2e4-415b-4383-d727-c8d49e66a679"
      },
      "execution_count": null,
      "outputs": [
        {
          "output_type": "stream",
          "name": "stdout",
          "text": [
            "None\n"
          ]
        }
      ]
    },
    {
      "cell_type": "markdown",
      "source": [
        "##3. True\n",
        "Valor booleano que reprenta algo verdaderoo"
      ],
      "metadata": {
        "id": "Fz7FcxSbOA_m"
      }
    },
    {
      "cell_type": "code",
      "source": [
        "c = True\n",
        "if c:\n",
        "    print(\"Es verdadero\")"
      ],
      "metadata": {
        "colab": {
          "base_uri": "https://localhost:8080/"
        },
        "id": "h9Vl2OboOAlx",
        "outputId": "facea179-ad1c-4095-be88-d8d6fa45b08f"
      },
      "execution_count": null,
      "outputs": [
        {
          "output_type": "stream",
          "name": "stdout",
          "text": [
            "Es verdadero\n"
          ]
        }
      ]
    },
    {
      "cell_type": "markdown",
      "source": [
        "##4. and\n",
        "Operador que ayuda a elegir entre dos valores verdaderos"
      ],
      "metadata": {
        "id": "MYHC5G9kOR0F"
      }
    },
    {
      "cell_type": "code",
      "source": [
        "print(True and True)\n",
        "print(True and False)"
      ],
      "metadata": {
        "colab": {
          "base_uri": "https://localhost:8080/"
        },
        "id": "sjoa-6HWOkOq",
        "outputId": "fb46b541-b0dd-4d1a-854e-1917ff376a4a"
      },
      "execution_count": null,
      "outputs": [
        {
          "output_type": "stream",
          "name": "stdout",
          "text": [
            "True\n",
            "False\n"
          ]
        }
      ]
    },
    {
      "cell_type": "markdown",
      "source": [
        "##5. as\n",
        "Se usa para crear un alias y normalmente al importar módulos."
      ],
      "metadata": {
        "id": "KXy9xzq5Oo64"
      }
    },
    {
      "cell_type": "code",
      "source": [
        "import math as m\n",
        "print(m.pi)"
      ],
      "metadata": {
        "colab": {
          "base_uri": "https://localhost:8080/"
        },
        "id": "ciqreDqiO21h",
        "outputId": "240a0279-e176-47dc-cc88-46d7174eb659"
      },
      "execution_count": null,
      "outputs": [
        {
          "output_type": "stream",
          "name": "stdout",
          "text": [
            "3.141592653589793\n"
          ]
        }
      ]
    },
    {
      "cell_type": "markdown",
      "source": [
        "##6. Assert\n",
        "Verifica que una condicion sea verdadera, sino lanza un error.\n",
        "\n"
      ],
      "metadata": {
        "id": "hpm5C6cwJsKu"
      }
    },
    {
      "cell_type": "code",
      "source": [
        "x = 5\n",
        "assert x > 0"
      ],
      "metadata": {
        "id": "Co6mIY7rJnoz"
      },
      "execution_count": null,
      "outputs": []
    },
    {
      "cell_type": "markdown",
      "source": [
        "##7. Break\n",
        "Sale inmediatamnete de un bucle"
      ],
      "metadata": {
        "id": "9CG1Hbu7KHq2"
      }
    },
    {
      "cell_type": "code",
      "source": [
        "for i in range(5):\n",
        "    if i == 2:\n",
        "        break\n",
        "    print(i)"
      ],
      "metadata": {
        "colab": {
          "base_uri": "https://localhost:8080/"
        },
        "id": "KYPEknJgJwTj",
        "outputId": "b594d556-60d5-49d5-a86c-98ed3f0567ed"
      },
      "execution_count": null,
      "outputs": [
        {
          "output_type": "stream",
          "name": "stdout",
          "text": [
            "0\n",
            "1\n"
          ]
        }
      ]
    },
    {
      "cell_type": "markdown",
      "source": [
        "##8. Class\n",
        "Se usa para definir una clase y es mas para objetos (Java)"
      ],
      "metadata": {
        "id": "MbB3Elq6KZ18"
      }
    },
    {
      "cell_type": "code",
      "source": [
        "class salchipapita:\n",
        "    def __init__(self, nombre):\n",
        "        self.nombre = nombre\n",
        "\n",
        "mi_salchipapa = salchipapita(\"doble queso\")\n",
        "print(mi_salchipapa.nombre)"
      ],
      "metadata": {
        "colab": {
          "base_uri": "https://localhost:8080/"
        },
        "id": "dIQy9pCGKqQ0",
        "outputId": "e3259659-9bed-4b4a-fc13-698799ae6441"
      },
      "execution_count": null,
      "outputs": [
        {
          "output_type": "stream",
          "name": "stdout",
          "text": [
            "doble queso\n"
          ]
        }
      ]
    },
    {
      "cell_type": "markdown",
      "source": [
        "##9. Continue\n",
        "Salta a la siguiente iteracion de un bucle."
      ],
      "metadata": {
        "id": "UDlMMp0DLUIl"
      }
    },
    {
      "cell_type": "code",
      "source": [
        "for i in range(5):\n",
        "  if i == 2:\n",
        "    continue\n",
        "  print(i)"
      ],
      "metadata": {
        "colab": {
          "base_uri": "https://localhost:8080/"
        },
        "id": "6-MT56aXLgqf",
        "outputId": "42a054de-b481-430c-958c-e59ab1f9f104"
      },
      "execution_count": null,
      "outputs": [
        {
          "output_type": "stream",
          "name": "stdout",
          "text": [
            "0\n",
            "1\n",
            "3\n",
            "4\n"
          ]
        }
      ]
    },
    {
      "cell_type": "markdown",
      "source": [
        "##10. def\n",
        "Se usa para definir una funcion"
      ],
      "metadata": {
        "id": "KCa5qzOfLqef"
      }
    },
    {
      "cell_type": "code",
      "source": [
        "ab(5,9)\n",
        "def ab(u,du):\n",
        "    print(f\" El area de un rectanguklo de base {u} y altura {du} es de {u*du}\")\n"
      ],
      "metadata": {
        "id": "VxMkdmcJLwnL",
        "colab": {
          "base_uri": "https://localhost:8080/"
        },
        "outputId": "865e4060-bb80-4aaf-dee2-8d3695e8caeb"
      },
      "execution_count": null,
      "outputs": [
        {
          "output_type": "stream",
          "name": "stdout",
          "text": [
            " El area de un rectanguklo de base 5 y altura 9 es de 45\n"
          ]
        }
      ]
    },
    {
      "cell_type": "markdown",
      "source": [
        "##11. del\n",
        "Elimina una variable o algo"
      ],
      "metadata": {
        "id": "Zn-aqLMUM4jw"
      }
    },
    {
      "cell_type": "code",
      "source": [
        "mmmmm = [1, 2, 3]\n",
        "del mmmmm[0]\n",
        "print(mmmmm)"
      ],
      "metadata": {
        "colab": {
          "base_uri": "https://localhost:8080/"
        },
        "id": "NsoKbo2PNLJv",
        "outputId": "c9f6a0bd-750a-403d-e8fb-c79134f929af"
      },
      "execution_count": null,
      "outputs": [
        {
          "output_type": "stream",
          "name": "stdout",
          "text": [
            "[2, 3]\n"
          ]
        }
      ]
    },
    {
      "cell_type": "markdown",
      "source": [
        "##12. elif\n",
        "Se usa en condiciones múltiples, luego de ya ser utilizado un if"
      ],
      "metadata": {
        "id": "4mPFBFrCNYgy"
      }
    },
    {
      "cell_type": "code",
      "source": [
        "s=int(input(\"ingrese una variable: \"))\n",
        "if s < 5:\n",
        "    print(\"pequeñito\")\n",
        "elif s > 5:\n",
        "    print(\"grandecito\")"
      ],
      "metadata": {
        "colab": {
          "base_uri": "https://localhost:8080/"
        },
        "id": "ADEJ--AONlwb",
        "outputId": "458afa96-6f16-4448-9422-8fd4bf335985"
      },
      "execution_count": null,
      "outputs": [
        {
          "output_type": "stream",
          "name": "stdout",
          "text": [
            "ingrese una variable: 4\n",
            "pequeñito\n"
          ]
        }
      ]
    },
    {
      "cell_type": "markdown",
      "source": [
        "##13. else\n",
        "Estese utiliza si todas las condiciones pasadas no se cumplieron"
      ],
      "metadata": {
        "id": "UpNticKoOBMI"
      }
    },
    {
      "cell_type": "code",
      "source": [
        "s=int(input(\"ingrese una variable: \"))\n",
        "if s < 5:\n",
        "    print(\"pequeñito\")\n",
        "elif s > 5:\n",
        "    print(\"grandecito\")\n",
        "else:\n",
        "    print(\"estas en el medio jakjs\")"
      ],
      "metadata": {
        "colab": {
          "base_uri": "https://localhost:8080/"
        },
        "id": "CyB7JOzPOMQV",
        "outputId": "08198abc-bf7b-4de0-f319-9ee40773eff6"
      },
      "execution_count": null,
      "outputs": [
        {
          "output_type": "stream",
          "name": "stdout",
          "text": [
            "ingrese una variable: 5\n",
            "estas en el medio jakjs\n"
          ]
        }
      ]
    },
    {
      "cell_type": "markdown",
      "source": [
        "##14. except\n",
        "Captura excepciones en un bloque try"
      ],
      "metadata": {
        "id": "JoSf1qv0OYLJ"
      }
    },
    {
      "cell_type": "code",
      "source": [
        "try:\n",
        "    print(1/0)\n",
        "except:\n",
        "    print(\"se puede chamo, pq es una ecepcion pa'ti\")"
      ],
      "metadata": {
        "colab": {
          "base_uri": "https://localhost:8080/"
        },
        "id": "tPJMxsaYOg8l",
        "outputId": "ccee2c71-dc62-44d4-afa9-08ded72acadd"
      },
      "execution_count": null,
      "outputs": [
        {
          "output_type": "stream",
          "name": "stdout",
          "text": [
            "se puede chamo, pq es una ecepcion pa'ti\n"
          ]
        }
      ]
    },
    {
      "cell_type": "markdown",
      "source": [
        "##15. finally\n",
        "Se ejecuta siempre, pase lo que pase"
      ],
      "metadata": {
        "id": "Qva3lztSOzCl"
      }
    },
    {
      "cell_type": "code",
      "source": [
        "try:\n",
        "    x = 1/0\n",
        "except:\n",
        "    print(\"Error.chamo\")\n",
        "finally:\n",
        "    print(\"que si se puede jaja\")"
      ],
      "metadata": {
        "colab": {
          "base_uri": "https://localhost:8080/"
        },
        "id": "RjF7Y8dtO6gF",
        "outputId": "f156f00b-9bf3-4d6f-b40e-95f3e310d877"
      },
      "execution_count": null,
      "outputs": [
        {
          "output_type": "stream",
          "name": "stdout",
          "text": [
            "Error.chamo\n",
            "que si se puede jaja\n"
          ]
        }
      ]
    },
    {
      "cell_type": "markdown",
      "source": [
        "##16. for\n",
        "Un bucle, para recorrer secuenciasss"
      ],
      "metadata": {
        "id": "FZmrWZi1PIa8"
      }
    },
    {
      "cell_type": "code",
      "source": [
        "for i in range(3):\n",
        "    print(i)"
      ],
      "metadata": {
        "id": "Aoi-dNpiPWvo",
        "outputId": "72a7c890-d203-431f-aa67-d912800cc179",
        "colab": {
          "base_uri": "https://localhost:8080/"
        }
      },
      "execution_count": null,
      "outputs": [
        {
          "output_type": "stream",
          "name": "stdout",
          "text": [
            "0\n",
            "1\n",
            "2\n"
          ]
        }
      ]
    },
    {
      "cell_type": "markdown",
      "source": [
        "##17. from\n",
        "Se usa para importar funciones o clases específicas de un módulo."
      ],
      "metadata": {
        "id": "oCIWB3l6WpUz"
      }
    },
    {
      "cell_type": "code",
      "source": [
        "from math import sqrt\n",
        "print(sqrt(9))"
      ],
      "metadata": {
        "colab": {
          "base_uri": "https://localhost:8080/"
        },
        "id": "zzZhBqEDW3-e",
        "outputId": "809862af-a57e-4468-d2a5-924796b42796"
      },
      "execution_count": null,
      "outputs": [
        {
          "output_type": "stream",
          "name": "stdout",
          "text": [
            "3.0\n"
          ]
        }
      ]
    },
    {
      "cell_type": "markdown",
      "source": [
        "##18. global\n",
        "Usa una variable fuera de la función."
      ],
      "metadata": {
        "id": "EITxmdUtXO--"
      }
    },
    {
      "cell_type": "code",
      "source": [
        "x = 0\n",
        "def cambiar():\n",
        "    global x\n",
        "    x = 10\n",
        "\n",
        "cambiar()\n",
        "print(x)"
      ],
      "metadata": {
        "colab": {
          "base_uri": "https://localhost:8080/"
        },
        "id": "SurO82usXgUU",
        "outputId": "2d743732-45f8-4fa8-d9b0-17211985a907"
      },
      "execution_count": null,
      "outputs": [
        {
          "output_type": "stream",
          "name": "stdout",
          "text": [
            "10\n"
          ]
        }
      ]
    },
    {
      "cell_type": "markdown",
      "source": [
        "##19. if\n",
        "Sirve para hacer condiciones"
      ],
      "metadata": {
        "id": "P6lizzFTXoTN"
      }
    },
    {
      "cell_type": "code",
      "source": [
        "c=int(input(\"Ingrese un numero; \"))\n",
        "if c > 4:\n",
        "    print(\"es mayor que 4\")"
      ],
      "metadata": {
        "colab": {
          "base_uri": "https://localhost:8080/"
        },
        "id": "GNw17UKfXv6Z",
        "outputId": "883412fa-4149-4717-a699-e0a2d4251ecc"
      },
      "execution_count": null,
      "outputs": [
        {
          "output_type": "stream",
          "name": "stdout",
          "text": [
            "Ingrese un numero; 5\n",
            "es mayor que 4\n"
          ]
        }
      ]
    },
    {
      "cell_type": "markdown",
      "source": [
        "##20. import\n",
        "importa un modulo"
      ],
      "metadata": {
        "id": "U6S_bySOYgoe"
      }
    },
    {
      "cell_type": "code",
      "source": [
        "import math\n",
        "print(math.pi)"
      ],
      "metadata": {
        "colab": {
          "base_uri": "https://localhost:8080/"
        },
        "id": "Zuciw4pZYulZ",
        "outputId": "6bc9e656-f200-4b84-c520-69d488aced93"
      },
      "execution_count": null,
      "outputs": [
        {
          "output_type": "stream",
          "name": "stdout",
          "text": [
            "3.141592653589793\n"
          ]
        }
      ]
    },
    {
      "cell_type": "markdown",
      "source": [
        "##21. in\n",
        "Comprueba si un valor está en algo."
      ],
      "metadata": {
        "id": "AQEhQZiCYxPO"
      }
    },
    {
      "cell_type": "code",
      "source": [
        "lista = [1, 2, 3]\n",
        "print(2 in lista)"
      ],
      "metadata": {
        "colab": {
          "base_uri": "https://localhost:8080/"
        },
        "id": "DZM_ye9GY4xP",
        "outputId": "308d854d-54ea-4e47-dc51-e4a476872aee"
      },
      "execution_count": null,
      "outputs": [
        {
          "output_type": "stream",
          "name": "stdout",
          "text": [
            "True\n"
          ]
        }
      ]
    },
    {
      "cell_type": "markdown",
      "source": [
        "##22. is\n",
        "Mira si dos variables son el mismo objeto"
      ],
      "metadata": {
        "id": "R5O-d1GTZDY9"
      }
    },
    {
      "cell_type": "code",
      "source": [
        "x = [1, 2]\n",
        "y = x\n",
        "print(x is y)"
      ],
      "metadata": {
        "colab": {
          "base_uri": "https://localhost:8080/"
        },
        "id": "n5TYYrCHZIbV",
        "outputId": "22c07ce0-e51d-45e6-9b1a-3f778d345d62"
      },
      "execution_count": null,
      "outputs": [
        {
          "output_type": "stream",
          "name": "stdout",
          "text": [
            "True\n"
          ]
        }
      ]
    },
    {
      "cell_type": "markdown",
      "source": [
        "##23. lambda\n",
        "Crea funciones rápidas y cortas."
      ],
      "metadata": {
        "id": "p_8FYpsRZSuS"
      }
    },
    {
      "cell_type": "code",
      "source": [
        "doble = lambda n: n*2\n",
        "print(doble(4))"
      ],
      "metadata": {
        "colab": {
          "base_uri": "https://localhost:8080/"
        },
        "id": "bNa9WixUZhcK",
        "outputId": "9392b89f-598d-4ef3-de05-896c877959ab"
      },
      "execution_count": null,
      "outputs": [
        {
          "output_type": "stream",
          "name": "stdout",
          "text": [
            "8\n"
          ]
        }
      ]
    },
    {
      "cell_type": "markdown",
      "source": [
        "##24. nonlocal\n",
        "Usa una variable de la función de afuera"
      ],
      "metadata": {
        "id": "9VY_zTwdZjsJ"
      }
    },
    {
      "cell_type": "code",
      "source": [
        "def afuera():\n",
        "    n = \"viejo\"\n",
        "    def adentro():\n",
        "        nonlocal n\n",
        "        n = \"nuevo\"\n",
        "    adentro()\n",
        "    print(n)\n",
        "\n",
        "afuera()"
      ],
      "metadata": {
        "colab": {
          "base_uri": "https://localhost:8080/"
        },
        "id": "i2lLsbnyZtwQ",
        "outputId": "368a06fb-9f26-48d3-b770-b5c245569ed7"
      },
      "execution_count": null,
      "outputs": [
        {
          "output_type": "stream",
          "name": "stdout",
          "text": [
            "nuevo\n"
          ]
        }
      ]
    },
    {
      "cell_type": "markdown",
      "source": [
        "##25. not\n",
        "Invierte un valor lógico"
      ],
      "metadata": {
        "id": "VrklQna5aX1-"
      }
    },
    {
      "cell_type": "code",
      "source": [
        "print(not True)\n",
        "print(not False)"
      ],
      "metadata": {
        "colab": {
          "base_uri": "https://localhost:8080/"
        },
        "id": "0Oxba9vrar_Y",
        "outputId": "fe39f8af-269c-4460-d2e7-5491a748a7c8"
      },
      "execution_count": null,
      "outputs": [
        {
          "output_type": "stream",
          "name": "stdout",
          "text": [
            "False\n",
            "True\n"
          ]
        }
      ]
    },
    {
      "cell_type": "markdown",
      "source": [
        "##26. or\n",
        "Devuelve True si al menos una condición es verdadera."
      ],
      "metadata": {
        "id": "wlynGQFca1_L"
      }
    },
    {
      "cell_type": "code",
      "source": [
        "print(True or False)"
      ],
      "metadata": {
        "id": "Z0TVElNXa-6I"
      },
      "execution_count": null,
      "outputs": []
    },
    {
      "cell_type": "markdown",
      "source": [
        "##27. pass\n",
        "Sirve cuando no quieres que haga nada."
      ],
      "metadata": {
        "id": "QD9J9k6ZbDTl"
      }
    },
    {
      "cell_type": "code",
      "source": [
        "def vacia():\n",
        "    pass"
      ],
      "metadata": {
        "id": "P4gQbumMbblI"
      },
      "execution_count": null,
      "outputs": []
    },
    {
      "cell_type": "markdown",
      "source": [
        "##28. raise\n",
        "Lanza un error."
      ],
      "metadata": {
        "id": "gHwcwKZibfVz"
      }
    },
    {
      "cell_type": "code",
      "source": [
        "raise ValueError(\"Esto es un error\")"
      ],
      "metadata": {
        "colab": {
          "base_uri": "https://localhost:8080/",
          "height": 141
        },
        "id": "HLISFZn6blsG",
        "outputId": "5faffff6-8350-4bbc-9ecb-9e6edec1699b"
      },
      "execution_count": null,
      "outputs": [
        {
          "output_type": "error",
          "ename": "ValueError",
          "evalue": "Esto es un error",
          "traceback": [
            "\u001b[0;31m---------------------------------------------------------------------------\u001b[0m",
            "\u001b[0;31mValueError\u001b[0m                                Traceback (most recent call last)",
            "\u001b[0;32m/tmp/ipython-input-1310600927.py\u001b[0m in \u001b[0;36m<cell line: 0>\u001b[0;34m()\u001b[0m\n\u001b[0;32m----> 1\u001b[0;31m \u001b[0;32mraise\u001b[0m \u001b[0mValueError\u001b[0m\u001b[0;34m(\u001b[0m\u001b[0;34m\"Esto es un error\"\u001b[0m\u001b[0;34m)\u001b[0m\u001b[0;34m\u001b[0m\u001b[0;34m\u001b[0m\u001b[0m\n\u001b[0m",
            "\u001b[0;31mValueError\u001b[0m: Esto es un error"
          ]
        }
      ]
    },
    {
      "cell_type": "markdown",
      "source": [
        "##29. return\n",
        "Devuelve un valor desde una función"
      ],
      "metadata": {
        "id": "bvy05F2Rbu87"
      }
    },
    {
      "cell_type": "code",
      "source": [
        "def suma(a,b):\n",
        "    return a+b\n",
        "print(suma(2,3))"
      ],
      "metadata": {
        "colab": {
          "base_uri": "https://localhost:8080/"
        },
        "id": "Yptl_C9Ob6Ge",
        "outputId": "f51cb49e-683f-427f-c936-713c05ac639c"
      },
      "execution_count": null,
      "outputs": [
        {
          "output_type": "stream",
          "name": "stdout",
          "text": [
            "5\n"
          ]
        }
      ]
    },
    {
      "cell_type": "markdown",
      "source": [
        "##30. try\n",
        "Intenta ejecutar un bloque de código.\n"
      ],
      "metadata": {
        "id": "tbPJBRxHcRFd"
      }
    },
    {
      "cell_type": "code",
      "source": [
        "try:\n",
        "    print(1/0)\n",
        "except:\n",
        "    print(\"Error\")"
      ],
      "metadata": {
        "colab": {
          "base_uri": "https://localhost:8080/"
        },
        "id": "PnknLl8zcaAY",
        "outputId": "9a150a00-0663-4828-a8a5-28c4abf4dc6b"
      },
      "execution_count": null,
      "outputs": [
        {
          "output_type": "stream",
          "name": "stdout",
          "text": [
            "Error\n"
          ]
        }
      ]
    },
    {
      "cell_type": "markdown",
      "source": [
        "##31. while\n",
        "Bucle que se repite mientras la condición sea verdadera\n"
      ],
      "metadata": {
        "id": "_oVaDRuZciUb"
      }
    },
    {
      "cell_type": "code",
      "source": [
        "x = 0\n",
        "while x < 3:\n",
        "    print(x)\n",
        "    x += 1"
      ],
      "metadata": {
        "id": "yRx2oKORdMu-"
      },
      "execution_count": null,
      "outputs": []
    },
    {
      "cell_type": "markdown",
      "source": [
        "##32. with\n",
        "Maneja cosas como archivos de forma segura"
      ],
      "metadata": {
        "id": "hXbDAv68dPZU"
      }
    },
    {
      "cell_type": "code",
      "source": [
        "with open(\"archivo.txt\", \"w\") as f:\n",
        "    f.write(\"Hola\")"
      ],
      "metadata": {
        "id": "3liT3xDkdWqF"
      },
      "execution_count": null,
      "outputs": []
    },
    {
      "cell_type": "markdown",
      "source": [
        "##33. yield\n",
        "Genera un valor en una función generadora y mantiene su estado."
      ],
      "metadata": {
        "id": "R99Df_U1diGc"
      }
    },
    {
      "cell_type": "code",
      "source": [
        "def numeros():\n",
        "    yield 1\n",
        "    yield 2\n",
        "\n",
        "for n in numeros():\n",
        "    print(n)"
      ],
      "metadata": {
        "colab": {
          "base_uri": "https://localhost:8080/"
        },
        "id": "hQ9X8RDYd1H4",
        "outputId": "07a2718c-adcb-40bb-a0b1-7ea51e57db9f"
      },
      "execution_count": null,
      "outputs": [
        {
          "output_type": "stream",
          "name": "stdout",
          "text": [
            "1\n",
            "2\n"
          ]
        }
      ]
    },
    {
      "cell_type": "code",
      "source": [
        "##34. list\n",
        "Sirve para crear listas (arreglos mutables) en Python.\n",
        "\n",
        "```python\n",
        "rs_numeros = list((1, 2, 3))   # a partir de una tupla\n",
        "rs_otro = [4, 5, 6]           # literal de lista\n",
        "print(rs_numeros + rs_otro)   # [1, 2, 3, 4, 5, 6]"
      ],
      "metadata": {
        "id": "56WmJ3QRRCiZ"
      },
      "execution_count": null,
      "outputs": []
    },
    {
      "cell_type": "code",
      "source": [
        "##35. dict\n",
        "Crea diccionarios (pares clave-valor).\n",
        "\n",
        "rs_persona = dict(nombre=\"Camilo\", edad=20)\n",
        "print(rs_persona[\"nombre\"])  # Camilo"
      ],
      "metadata": {
        "id": "9XA9JVlCRGVB"
      },
      "execution_count": null,
      "outputs": []
    },
    {
      "cell_type": "code",
      "source": [
        "##36. set\n",
        "Conjunto que almacena elementos únicos y sin orden.\n",
        "\n",
        "rs_colores = set([\"rojo\", \"verde\", \"rojo\"])\n",
        "print(rs_colores)  # {'rojo', 'verde'}"
      ],
      "metadata": {
        "id": "EkjVtV2oRJBh"
      },
      "execution_count": null,
      "outputs": []
    },
    {
      "cell_type": "code",
      "source": [
        "##37. frozenset\n",
        "Versión inmutable de un conjunto.\n",
        "\n",
        "rs_frz = frozenset([1, 2, 3])\n",
        "# rs_frz.add(4)  # ERROR: no se puede modificar\n",
        "print(rs_frz)"
      ],
      "metadata": {
        "id": "KVuLJxxGRMDR"
      },
      "execution_count": null,
      "outputs": []
    },
    {
      "cell_type": "code",
      "source": [
        "##38. enumerate\n",
        "Devuelve un contador junto con cada elemento iterable.\n",
        "\n",
        "rs_lista = [\"a\", \"b\", \"c\"]\n",
        "for rs_i, rs_val in enumerate(rs_lista, start=1):\n",
        "    print(rs_i, rs_val)\n",
        "# 1 a"
      ],
      "metadata": {
        "id": "IjL4dIhkRObB"
      },
      "execution_count": null,
      "outputs": []
    },
    {
      "cell_type": "code",
      "source": [
        "##39. zip\n",
        "Combina elementos de varios iterables en tuplas.\n",
        "\n",
        "rs_nombres = [\"Ana\", \"Luis\"]\n",
        "rs_edades = [20, 25]\n",
        "for rs_nombre, rs_edad in zip(rs_nombres, rs_edades):\n",
        "    print(rs_nombre, rs_edad)\n",
        "# Ana 20\n",
        "# Luis 25"
      ],
      "metadata": {
        "id": "bhnIOigjRQap"
      },
      "execution_count": null,
      "outputs": []
    },
    {
      "cell_type": "code",
      "source": [
        "##40. range\n",
        "Genera una secuencia de números.\n",
        "\n",
        "for rs_num in range(2, 10, 2):\n",
        "    print(rs_num)\n",
        "# 2, 4, 6, 8"
      ],
      "metadata": {
        "id": "6J8ZnZnCRTTx"
      },
      "execution_count": null,
      "outputs": []
    }
  ]
}